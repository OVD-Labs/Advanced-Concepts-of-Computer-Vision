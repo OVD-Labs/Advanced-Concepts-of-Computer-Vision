{
  "cells": [
    {
      "cell_type": "markdown",
      "metadata": {
        "id": "oe9vkEvFABbN"
      },
      "source": [
        "**<center><h1>Advanced Computer Vision for Artificial Intelligence Assignment</h1></center>**\n",
        "**<center><h2>Part 3 - Object Detection Component (YOLOv8)</h2></center>**\n",
        "**<center><h3>Matthias Bartolo, Jerome Agius, Isaac Muscat</h3></center>**\n",
        "\n",
        "Ultralytics YOLOv8 is the latest version of the YOLO (You Only Look Once) object detection and image segmentation model developed by Ultralytics. The YOLOv8 model is designed to be fast, accurate, and easy to use, making it an excellent choice for a wide range of object detection and image segmentation tasks. It can be trained on large datasets and is capable of running on a variety of hardware platforms, from CPUs to GPUs.\n",
        "\n",
        "## This Notebook is Structure in the following manner:\n",
        "\n",
        "- Required libraries\n",
        "- Downloading the Roboflow datset\n",
        "- Training the YOLOv8 model\n",
        "- Testing the YOLOv8 model on the Testing subset\n",
        "- Testing Results"
      ]
    },
    {
      "cell_type": "code",
      "execution_count": 1,
      "metadata": {
        "colab": {
          "base_uri": "https://localhost:8080/",
          "height": 1000
        },
        "id": "aFbKjvakDnZE",
        "outputId": "dbe28130-1112-4141-e265-65d3f6b06acc"
      },
      "outputs": [],
      "source": [
        "# !pip install roboflow"
      ]
    },
    {
      "cell_type": "code",
      "execution_count": 2,
      "metadata": {
        "colab": {
          "base_uri": "https://localhost:8080/"
        },
        "id": "QZJaCajlDnZF",
        "outputId": "d2dc309f-0f10-4a4f-e660-1e3734e341b5"
      },
      "outputs": [],
      "source": [
        "# !pip install ultralytics==8.0.20\n",
        "# !pip install ultralytics -U"
      ]
    },
    {
      "cell_type": "markdown",
      "metadata": {
        "id": "dWZ2DvvEDnZF"
      },
      "source": [
        "**<h3>Required libraries.</h3>**"
      ]
    },
    {
      "cell_type": "code",
      "execution_count": 3,
      "metadata": {
        "id": "9Zbf3zFkDnZG"
      },
      "outputs": [],
      "source": [
        "import torch\n",
        "import os\n",
        "import ultralytics\n",
        "import locale\n",
        "import glob\n",
        "import pandas as pd\n",
        "import matplotlib.pyplot as plt\n",
        "\n",
        "from IPython import display\n",
        "from ultralytics import YOLO\n",
        "from IPython.display import display, Image\n",
        "from roboflow import Roboflow\n",
        "\n",
        "%matplotlib inline"
      ]
    },
    {
      "cell_type": "markdown",
      "metadata": {
        "id": "FyRdDYkqAKN4"
      },
      "source": [
        "**<h3>Using GPU if one is available.</h3>**"
      ]
    },
    {
      "cell_type": "code",
      "execution_count": 4,
      "metadata": {
        "colab": {
          "base_uri": "https://localhost:8080/"
        },
        "id": "dgNdkO48DnZG",
        "outputId": "11ca77d8-7b09-4d02-a899-0dfdc5aaac2d"
      },
      "outputs": [
        {
          "name": "stdout",
          "output_type": "stream",
          "text": [
            "cuda\n"
          ]
        }
      ],
      "source": [
        "device = 'cuda' if torch.cuda.is_available() else 'cpu'\n",
        "print(device)"
      ]
    },
    {
      "cell_type": "code",
      "execution_count": 5,
      "metadata": {
        "colab": {
          "base_uri": "https://localhost:8080/"
        },
        "id": "CjpPg4mGKc1v",
        "outputId": "7035eeee-b2d1-438c-bb57-188bd34ea8eb"
      },
      "outputs": [
        {
          "name": "stdout",
          "output_type": "stream",
          "text": [
            "c:\\GitHubRepository\\Advanced-Computer-Vision-for-Artificial-Intelligence\\Part_3_Object_Detection\\YOLOv8\n"
          ]
        }
      ],
      "source": [
        "# Retrieving the current working directory\n",
        "HOME = os.getcwd()\n",
        "print(HOME)"
      ]
    },
    {
      "cell_type": "markdown",
      "metadata": {
        "id": "3C3EO_2zNChu"
      },
      "source": [
        "**<h3>Downloading the Roboflow dataset.</h3>**"
      ]
    },
    {
      "cell_type": "code",
      "execution_count": 6,
      "metadata": {
        "colab": {
          "base_uri": "https://localhost:8080/"
        },
        "id": "BSd93ZJzZZKt",
        "outputId": "cd51037c-4df9-415e-ecd8-540168fb544a"
      },
      "outputs": [
        {
          "name": "stdout",
          "output_type": "stream",
          "text": [
            "loading Roboflow workspace...\n",
            "loading Roboflow project...\n",
            "Dependency ultralytics==8.0.196 is required but found version=8.0.226, to fix: `pip install ultralytics==8.0.196`\n"
          ]
        },
        {
          "name": "stderr",
          "output_type": "stream",
          "text": [
            "Downloading Dataset Version Zip in Pizza-Object-Detector-7 to yolov8:: 100%|██████████| 584069/584069 [00:46<00:00, 12483.86it/s]"
          ]
        },
        {
          "name": "stdout",
          "output_type": "stream",
          "text": [
            "\n"
          ]
        },
        {
          "name": "stderr",
          "output_type": "stream",
          "text": [
            "\n",
            "Extracting Dataset Version Zip to Pizza-Object-Detector-7 in yolov8:: 100%|██████████| 6226/6226 [00:04<00:00, 1312.13it/s]\n"
          ]
        }
      ],
      "source": [
        "if not os.path.isdir(os.path.join(HOME, 'datasets')):\n",
        "    os.mkdir(os.path.join(HOME, 'datasets'))\n",
        "os.chdir(os.path.join(HOME, 'datasets'))\n",
        "\n",
        "rf = Roboflow(api_key=\"y2FfMokLpTlGQIlMvhja\")\n",
        "project = rf.workspace(\"advanced-computer-vision-assignment\").project(\"pizza-object-detector\")\n",
        "dataset = project.version(7).download(\"yolov8\")"
      ]
    },
    {
      "cell_type": "markdown",
      "metadata": {
        "id": "YUjFBKKqXa-u"
      },
      "source": [
        "**<h3>Training the YOLOv8 model.</h3>**"
      ]
    },
    {
      "cell_type": "code",
      "execution_count": 7,
      "metadata": {
        "colab": {
          "base_uri": "https://localhost:8080/"
        },
        "id": "_WRhnBXjDnZH",
        "outputId": "09bcb11a-5656-4c53-8564-51b29cc08d6c"
      },
      "outputs": [
        {
          "name": "stdout",
          "output_type": "stream",
          "text": [
            "Downloading https://github.com/ultralytics/assets/releases/download/v0.0.0/yolov8s.pt to 'yolov8s.pt'...\n"
          ]
        },
        {
          "name": "stderr",
          "output_type": "stream",
          "text": [
            "100%|██████████| 21.5M/21.5M [00:16<00:00, 1.36MB/s]\n"
          ]
        },
        {
          "name": "stdout",
          "output_type": "stream",
          "text": [
            "New https://pypi.org/project/ultralytics/8.0.229 available 😃 Update with 'pip install -U ultralytics'\n",
            "Ultralytics YOLOv8.0.226 🚀 Python-3.9.18 torch-2.0.1+cu117 CUDA:0 (NVIDIA GeForce RTX 3060 Ti, 8191MiB)\n",
            "\u001b[34m\u001b[1mengine\\trainer: \u001b[0mtask=detect, mode=train, model=yolov8s.pt, data=C:\\GitHubRepository\\Advanced-Computer-Vision-for-Artificial-Intelligence\\Part_3_Object_Detection\\YOLOv8\\datasets\\Pizza-Object-Detector-7\\data.yaml, epochs=100, patience=15, batch=8, imgsz=640, save=True, save_period=-1, cache=True, device=0, workers=1, project=None, name=train, exist_ok=False, pretrained=True, optimizer=Adam, verbose=True, seed=0, deterministic=True, single_cls=False, rect=True, cos_lr=False, close_mosaic=10, resume=False, amp=True, fraction=1.0, profile=False, freeze=None, overlap_mask=True, mask_ratio=4, dropout=0.5, val=True, split=val, save_json=False, save_hybrid=False, conf=None, iou=0.7, max_det=300, half=False, dnn=False, plots=True, source=None, vid_stride=1, stream_buffer=False, visualize=False, augment=False, agnostic_nms=False, classes=None, retina_masks=False, show=False, save_frames=False, save_txt=False, save_conf=False, save_crop=False, show_labels=True, show_conf=True, show_boxes=True, line_width=None, format=torchscript, keras=False, optimize=False, int8=False, dynamic=False, simplify=False, opset=None, workspace=4, nms=False, lr0=0.001, lrf=0.01, momentum=0.9, weight_decay=0.0005, warmup_epochs=3.0, warmup_momentum=0.8, warmup_bias_lr=0.1, box=7.5, cls=0.5, dfl=1.5, pose=12.0, kobj=1.0, label_smoothing=0.0, nbs=64, hsv_h=0.015, hsv_s=0.7, hsv_v=0.4, degrees=0.0, translate=0.1, scale=0.5, shear=0.0, perspective=0.0, flipud=0.0, fliplr=0.5, mosaic=1.0, mixup=0.0, copy_paste=0.0, cfg=None, tracker=botsort.yaml, save_dir=runs\\detect\\train\n",
            "Overriding model.yaml nc=80 with nc=16\n",
            "\n",
            "                   from  n    params  module                                       arguments                     \n",
            "  0                  -1  1       928  ultralytics.nn.modules.conv.Conv             [3, 32, 3, 2]                 \n",
            "  1                  -1  1     18560  ultralytics.nn.modules.conv.Conv             [32, 64, 3, 2]                \n",
            "  2                  -1  1     29056  ultralytics.nn.modules.block.C2f             [64, 64, 1, True]             \n",
            "  3                  -1  1     73984  ultralytics.nn.modules.conv.Conv             [64, 128, 3, 2]               \n",
            "  4                  -1  2    197632  ultralytics.nn.modules.block.C2f             [128, 128, 2, True]           \n",
            "  5                  -1  1    295424  ultralytics.nn.modules.conv.Conv             [128, 256, 3, 2]              \n",
            "  6                  -1  2    788480  ultralytics.nn.modules.block.C2f             [256, 256, 2, True]           \n",
            "  7                  -1  1   1180672  ultralytics.nn.modules.conv.Conv             [256, 512, 3, 2]              \n",
            "  8                  -1  1   1838080  ultralytics.nn.modules.block.C2f             [512, 512, 1, True]           \n",
            "  9                  -1  1    656896  ultralytics.nn.modules.block.SPPF            [512, 512, 5]                 \n",
            " 10                  -1  1         0  torch.nn.modules.upsampling.Upsample         [None, 2, 'nearest']          \n",
            " 11             [-1, 6]  1         0  ultralytics.nn.modules.conv.Concat           [1]                           \n",
            " 12                  -1  1    591360  ultralytics.nn.modules.block.C2f             [768, 256, 1]                 \n",
            " 13                  -1  1         0  torch.nn.modules.upsampling.Upsample         [None, 2, 'nearest']          \n",
            " 14             [-1, 4]  1         0  ultralytics.nn.modules.conv.Concat           [1]                           \n",
            " 15                  -1  1    148224  ultralytics.nn.modules.block.C2f             [384, 128, 1]                 \n",
            " 16                  -1  1    147712  ultralytics.nn.modules.conv.Conv             [128, 128, 3, 2]              \n",
            " 17            [-1, 12]  1         0  ultralytics.nn.modules.conv.Concat           [1]                           \n",
            " 18                  -1  1    493056  ultralytics.nn.modules.block.C2f             [384, 256, 1]                 \n",
            " 19                  -1  1    590336  ultralytics.nn.modules.conv.Conv             [256, 256, 3, 2]              \n",
            " 20             [-1, 9]  1         0  ultralytics.nn.modules.conv.Concat           [1]                           \n",
            " 21                  -1  1   1969152  ultralytics.nn.modules.block.C2f             [768, 512, 1]                 \n",
            " 22        [15, 18, 21]  1   2122240  ultralytics.nn.modules.head.Detect           [16, [128, 256, 512]]         \n",
            "Model summary: 225 layers, 11141792 parameters, 11141776 gradients, 28.7 GFLOPs\n",
            "\n",
            "Transferred 349/355 items from pretrained weights\n",
            "\u001b[34m\u001b[1mTensorBoard: \u001b[0mStart with 'tensorboard --logdir runs\\detect\\train', view at http://localhost:6006/\n",
            "Freezing layer 'model.22.dfl.conv.weight'\n",
            "\u001b[34m\u001b[1mAMP: \u001b[0mrunning Automatic Mixed Precision (AMP) checks with YOLOv8n...\n",
            "Downloading https://github.com/ultralytics/assets/releases/download/v0.0.0/yolov8n.pt to 'yolov8n.pt'...\n"
          ]
        },
        {
          "name": "stderr",
          "output_type": "stream",
          "text": [
            "100%|██████████| 6.23M/6.23M [00:06<00:00, 972kB/s] \n"
          ]
        },
        {
          "name": "stdout",
          "output_type": "stream",
          "text": [
            "\u001b[34m\u001b[1mAMP: \u001b[0mchecks passed ✅\n"
          ]
        },
        {
          "name": "stderr",
          "output_type": "stream",
          "text": [
            "\u001b[34m\u001b[1mtrain: \u001b[0mScanning C:\\GitHubRepository\\Advanced-Computer-Vision-for-Artificial-Intelligence\\Part_3_Object_Detection\\YOLOv8\\datasets\\Pizza-Object-Detector-7\\train\\labels... 2540 images, 0 backgrounds, 0 corrupt: 100%|██████████| 2540/2540 [00:05<00:00, 478.55it/s]\n"
          ]
        },
        {
          "name": "stdout",
          "output_type": "stream",
          "text": [
            "\u001b[34m\u001b[1mtrain: \u001b[0mNew cache created: C:\\GitHubRepository\\Advanced-Computer-Vision-for-Artificial-Intelligence\\Part_3_Object_Detection\\YOLOv8\\datasets\\Pizza-Object-Detector-7\\train\\labels.cache\n"
          ]
        },
        {
          "name": "stderr",
          "output_type": "stream",
          "text": [
            "\u001b[34m\u001b[1mtrain: \u001b[0mCaching images (2.7GB True): 100%|██████████| 2540/2540 [00:05<00:00, 425.00it/s]\n"
          ]
        },
        {
          "name": "stdout",
          "output_type": "stream",
          "text": [
            "\u001b[34m\u001b[1malbumentations: \u001b[0mBlur(p=0.01, blur_limit=(3, 7)), MedianBlur(p=0.01, blur_limit=(3, 7)), ToGray(p=0.01), CLAHE(p=0.01, clip_limit=(1, 4.0), tile_grid_size=(8, 8))\n",
            "WARNING ⚠️ 'rect=True' is incompatible with DataLoader shuffle, setting shuffle=False\n"
          ]
        },
        {
          "name": "stderr",
          "output_type": "stream",
          "text": [
            "\u001b[34m\u001b[1mval: \u001b[0mScanning C:\\GitHubRepository\\Advanced-Computer-Vision-for-Artificial-Intelligence\\Part_3_Object_Detection\\YOLOv8\\datasets\\Pizza-Object-Detector-7\\valid\\labels... 284 images, 0 backgrounds, 0 corrupt: 100%|██████████| 284/284 [00:00<00:00, 436.84it/s]"
          ]
        },
        {
          "name": "stdout",
          "output_type": "stream",
          "text": [
            "\u001b[34m\u001b[1mval: \u001b[0mNew cache created: C:\\GitHubRepository\\Advanced-Computer-Vision-for-Artificial-Intelligence\\Part_3_Object_Detection\\YOLOv8\\datasets\\Pizza-Object-Detector-7\\valid\\labels.cache\n"
          ]
        },
        {
          "name": "stderr",
          "output_type": "stream",
          "text": [
            "\n",
            "\u001b[34m\u001b[1mval: \u001b[0mCaching images (0.3GB True): 100%|██████████| 284/284 [00:00<00:00, 475.05it/s]\n"
          ]
        },
        {
          "name": "stdout",
          "output_type": "stream",
          "text": [
            "Plotting labels to runs\\detect\\train\\labels.jpg... \n",
            "\u001b[34m\u001b[1moptimizer:\u001b[0m Adam(lr=0.001, momentum=0.9) with parameter groups 57 weight(decay=0.0), 64 weight(decay=0.0005), 63 bias(decay=0.0)\n",
            "Image sizes 640 train, 640 val\n",
            "Using 1 dataloader workers\n",
            "Logging results to \u001b[1mruns\\detect\\train\u001b[0m\n",
            "Starting training for 100 epochs...\n",
            "\n",
            "      Epoch    GPU_mem   box_loss   cls_loss   dfl_loss  Instances       Size\n"
          ]
        },
        {
          "name": "stderr",
          "output_type": "stream",
          "text": [
            "      1/100      2.33G      1.875      2.684       1.72         86        512: 100%|██████████| 318/318 [00:59<00:00,  5.31it/s]\n",
            "                 Class     Images  Instances      Box(P          R      mAP50  mAP50-95): 100%|██████████| 18/18 [00:05<00:00,  3.59it/s]"
          ]
        },
        {
          "name": "stdout",
          "output_type": "stream",
          "text": [
            "                   all        284       7027      0.437       0.21      0.169     0.0918\n"
          ]
        },
        {
          "name": "stderr",
          "output_type": "stream",
          "text": [
            "\n"
          ]
        },
        {
          "name": "stdout",
          "output_type": "stream",
          "text": [
            "\n",
            "      Epoch    GPU_mem   box_loss   cls_loss   dfl_loss  Instances       Size\n"
          ]
        },
        {
          "name": "stderr",
          "output_type": "stream",
          "text": [
            "      2/100      2.38G       1.82      2.385      1.695         85        512: 100%|██████████| 318/318 [00:56<00:00,  5.67it/s]\n",
            "                 Class     Images  Instances      Box(P          R      mAP50  mAP50-95): 100%|██████████| 18/18 [00:04<00:00,  4.33it/s]"
          ]
        },
        {
          "name": "stdout",
          "output_type": "stream",
          "text": [
            "                   all        284       7027      0.471      0.216      0.202      0.117\n"
          ]
        },
        {
          "name": "stderr",
          "output_type": "stream",
          "text": [
            "\n"
          ]
        },
        {
          "name": "stdout",
          "output_type": "stream",
          "text": [
            "\n",
            "      Epoch    GPU_mem   box_loss   cls_loss   dfl_loss  Instances       Size\n"
          ]
        },
        {
          "name": "stderr",
          "output_type": "stream",
          "text": [
            "      3/100      2.39G      1.799       2.29       1.68         87        512: 100%|██████████| 318/318 [00:56<00:00,  5.65it/s]\n",
            "                 Class     Images  Instances      Box(P          R      mAP50  mAP50-95): 100%|██████████| 18/18 [00:03<00:00,  4.52it/s]"
          ]
        },
        {
          "name": "stdout",
          "output_type": "stream",
          "text": [
            "                   all        284       7027      0.491      0.231      0.208      0.116\n"
          ]
        },
        {
          "name": "stderr",
          "output_type": "stream",
          "text": [
            "\n"
          ]
        },
        {
          "name": "stdout",
          "output_type": "stream",
          "text": [
            "\n",
            "      Epoch    GPU_mem   box_loss   cls_loss   dfl_loss  Instances       Size\n"
          ]
        },
        {
          "name": "stderr",
          "output_type": "stream",
          "text": [
            "      4/100      2.37G      1.769      2.198      1.659         87        512: 100%|██████████| 318/318 [00:56<00:00,  5.66it/s]\n",
            "                 Class     Images  Instances      Box(P          R      mAP50  mAP50-95): 100%|██████████| 18/18 [00:02<00:00,  6.25it/s]"
          ]
        },
        {
          "name": "stdout",
          "output_type": "stream",
          "text": [
            "                   all        284       7027      0.316      0.237      0.222      0.126\n"
          ]
        },
        {
          "name": "stderr",
          "output_type": "stream",
          "text": [
            "\n"
          ]
        },
        {
          "name": "stdout",
          "output_type": "stream",
          "text": [
            "\n",
            "      Epoch    GPU_mem   box_loss   cls_loss   dfl_loss  Instances       Size\n"
          ]
        },
        {
          "name": "stderr",
          "output_type": "stream",
          "text": [
            "      5/100      2.38G      1.767      2.157      1.655         87        512: 100%|██████████| 318/318 [00:57<00:00,  5.58it/s]\n",
            "                 Class     Images  Instances      Box(P          R      mAP50  mAP50-95): 100%|██████████| 18/18 [00:03<00:00,  5.01it/s]"
          ]
        },
        {
          "name": "stdout",
          "output_type": "stream",
          "text": [
            "                   all        284       7027      0.425      0.261      0.225      0.133\n"
          ]
        },
        {
          "name": "stderr",
          "output_type": "stream",
          "text": [
            "\n"
          ]
        },
        {
          "name": "stdout",
          "output_type": "stream",
          "text": [
            "\n",
            "      Epoch    GPU_mem   box_loss   cls_loss   dfl_loss  Instances       Size\n"
          ]
        },
        {
          "name": "stderr",
          "output_type": "stream",
          "text": [
            "      6/100      2.32G      1.743      2.093       1.65         87        512: 100%|██████████| 318/318 [00:56<00:00,  5.66it/s]\n",
            "                 Class     Images  Instances      Box(P          R      mAP50  mAP50-95): 100%|██████████| 18/18 [00:03<00:00,  5.08it/s]"
          ]
        },
        {
          "name": "stdout",
          "output_type": "stream",
          "text": [
            "                   all        284       7027      0.376      0.243      0.224       0.13\n"
          ]
        },
        {
          "name": "stderr",
          "output_type": "stream",
          "text": [
            "\n"
          ]
        },
        {
          "name": "stdout",
          "output_type": "stream",
          "text": [
            "\n",
            "      Epoch    GPU_mem   box_loss   cls_loss   dfl_loss  Instances       Size\n"
          ]
        },
        {
          "name": "stderr",
          "output_type": "stream",
          "text": [
            "      7/100      2.39G       1.72      2.009      1.622         87        512: 100%|██████████| 318/318 [00:57<00:00,  5.53it/s]\n",
            "                 Class     Images  Instances      Box(P          R      mAP50  mAP50-95): 100%|██████████| 18/18 [00:03<00:00,  4.94it/s]"
          ]
        },
        {
          "name": "stdout",
          "output_type": "stream",
          "text": [
            "                   all        284       7027      0.402      0.273      0.235      0.135\n"
          ]
        },
        {
          "name": "stderr",
          "output_type": "stream",
          "text": [
            "\n"
          ]
        },
        {
          "name": "stdout",
          "output_type": "stream",
          "text": [
            "\n",
            "      Epoch    GPU_mem   box_loss   cls_loss   dfl_loss  Instances       Size\n"
          ]
        },
        {
          "name": "stderr",
          "output_type": "stream",
          "text": [
            "      8/100      2.38G      1.703      1.969      1.608         85        512: 100%|██████████| 318/318 [00:55<00:00,  5.69it/s]\n",
            "                 Class     Images  Instances      Box(P          R      mAP50  mAP50-95): 100%|██████████| 18/18 [00:03<00:00,  5.04it/s]"
          ]
        },
        {
          "name": "stdout",
          "output_type": "stream",
          "text": [
            "                   all        284       7027      0.472      0.251      0.244      0.135\n"
          ]
        },
        {
          "name": "stderr",
          "output_type": "stream",
          "text": [
            "\n"
          ]
        },
        {
          "name": "stdout",
          "output_type": "stream",
          "text": [
            "\n",
            "      Epoch    GPU_mem   box_loss   cls_loss   dfl_loss  Instances       Size\n"
          ]
        },
        {
          "name": "stderr",
          "output_type": "stream",
          "text": [
            "      9/100      2.34G      1.696      1.931      1.609         86        512: 100%|██████████| 318/318 [00:56<00:00,  5.65it/s]\n",
            "                 Class     Images  Instances      Box(P          R      mAP50  mAP50-95): 100%|██████████| 18/18 [00:03<00:00,  4.74it/s]"
          ]
        },
        {
          "name": "stdout",
          "output_type": "stream",
          "text": [
            "                   all        284       7027      0.389      0.267      0.236      0.139\n"
          ]
        },
        {
          "name": "stderr",
          "output_type": "stream",
          "text": [
            "\n"
          ]
        },
        {
          "name": "stdout",
          "output_type": "stream",
          "text": [
            "\n",
            "      Epoch    GPU_mem   box_loss   cls_loss   dfl_loss  Instances       Size\n"
          ]
        },
        {
          "name": "stderr",
          "output_type": "stream",
          "text": [
            "     10/100      2.33G      1.685      1.899      1.604         87        512: 100%|██████████| 318/318 [00:56<00:00,  5.61it/s]\n",
            "                 Class     Images  Instances      Box(P          R      mAP50  mAP50-95): 100%|██████████| 18/18 [00:03<00:00,  5.03it/s]"
          ]
        },
        {
          "name": "stdout",
          "output_type": "stream",
          "text": [
            "                   all        284       7027      0.419      0.261      0.238      0.131\n"
          ]
        },
        {
          "name": "stderr",
          "output_type": "stream",
          "text": [
            "\n"
          ]
        },
        {
          "name": "stdout",
          "output_type": "stream",
          "text": [
            "\n",
            "      Epoch    GPU_mem   box_loss   cls_loss   dfl_loss  Instances       Size\n"
          ]
        },
        {
          "name": "stderr",
          "output_type": "stream",
          "text": [
            "     11/100      2.39G      1.664      1.862      1.591         85        512: 100%|██████████| 318/318 [00:56<00:00,  5.64it/s]\n",
            "                 Class     Images  Instances      Box(P          R      mAP50  mAP50-95): 100%|██████████| 18/18 [00:03<00:00,  5.97it/s]"
          ]
        },
        {
          "name": "stdout",
          "output_type": "stream",
          "text": [
            "                   all        284       7027      0.393      0.267       0.25      0.144\n"
          ]
        },
        {
          "name": "stderr",
          "output_type": "stream",
          "text": [
            "\n"
          ]
        },
        {
          "name": "stdout",
          "output_type": "stream",
          "text": [
            "\n",
            "      Epoch    GPU_mem   box_loss   cls_loss   dfl_loss  Instances       Size\n"
          ]
        },
        {
          "name": "stderr",
          "output_type": "stream",
          "text": [
            "     12/100      2.37G      1.654      1.833      1.582         85        512: 100%|██████████| 318/318 [00:55<00:00,  5.72it/s]\n",
            "                 Class     Images  Instances      Box(P          R      mAP50  mAP50-95): 100%|██████████| 18/18 [00:03<00:00,  5.32it/s]"
          ]
        },
        {
          "name": "stdout",
          "output_type": "stream",
          "text": [
            "                   all        284       7027      0.391      0.286      0.252      0.143\n"
          ]
        },
        {
          "name": "stderr",
          "output_type": "stream",
          "text": [
            "\n"
          ]
        },
        {
          "name": "stdout",
          "output_type": "stream",
          "text": [
            "\n",
            "      Epoch    GPU_mem   box_loss   cls_loss   dfl_loss  Instances       Size\n"
          ]
        },
        {
          "name": "stderr",
          "output_type": "stream",
          "text": [
            "     13/100      2.38G      1.649      1.803      1.574         84        512: 100%|██████████| 318/318 [00:55<00:00,  5.72it/s]\n",
            "                 Class     Images  Instances      Box(P          R      mAP50  mAP50-95): 100%|██████████| 18/18 [00:03<00:00,  5.31it/s]"
          ]
        },
        {
          "name": "stdout",
          "output_type": "stream",
          "text": [
            "                   all        284       7027      0.403      0.286       0.26      0.145\n"
          ]
        },
        {
          "name": "stderr",
          "output_type": "stream",
          "text": [
            "\n"
          ]
        },
        {
          "name": "stdout",
          "output_type": "stream",
          "text": [
            "\n",
            "      Epoch    GPU_mem   box_loss   cls_loss   dfl_loss  Instances       Size\n"
          ]
        },
        {
          "name": "stderr",
          "output_type": "stream",
          "text": [
            "     14/100      2.38G      1.644      1.772      1.572         85        512: 100%|██████████| 318/318 [00:55<00:00,  5.75it/s]\n",
            "                 Class     Images  Instances      Box(P          R      mAP50  mAP50-95): 100%|██████████| 18/18 [00:03<00:00,  5.05it/s]"
          ]
        },
        {
          "name": "stdout",
          "output_type": "stream",
          "text": [
            "                   all        284       7027      0.413      0.285      0.261      0.153\n"
          ]
        },
        {
          "name": "stderr",
          "output_type": "stream",
          "text": [
            "\n"
          ]
        },
        {
          "name": "stdout",
          "output_type": "stream",
          "text": [
            "\n",
            "      Epoch    GPU_mem   box_loss   cls_loss   dfl_loss  Instances       Size\n"
          ]
        },
        {
          "name": "stderr",
          "output_type": "stream",
          "text": [
            "     15/100      2.33G      1.636      1.747      1.563         85        512: 100%|██████████| 318/318 [00:55<00:00,  5.69it/s]\n",
            "                 Class     Images  Instances      Box(P          R      mAP50  mAP50-95): 100%|██████████| 18/18 [00:03<00:00,  5.26it/s]"
          ]
        },
        {
          "name": "stdout",
          "output_type": "stream",
          "text": [
            "                   all        284       7027      0.411      0.295      0.257      0.148\n"
          ]
        },
        {
          "name": "stderr",
          "output_type": "stream",
          "text": [
            "\n"
          ]
        },
        {
          "name": "stdout",
          "output_type": "stream",
          "text": [
            "\n",
            "      Epoch    GPU_mem   box_loss   cls_loss   dfl_loss  Instances       Size\n"
          ]
        },
        {
          "name": "stderr",
          "output_type": "stream",
          "text": [
            "     16/100      2.37G      1.627      1.719      1.558         84        512: 100%|██████████| 318/318 [00:55<00:00,  5.77it/s]\n",
            "                 Class     Images  Instances      Box(P          R      mAP50  mAP50-95): 100%|██████████| 18/18 [00:03<00:00,  5.29it/s]"
          ]
        },
        {
          "name": "stdout",
          "output_type": "stream",
          "text": [
            "                   all        284       7027      0.389      0.297      0.256       0.15\n"
          ]
        },
        {
          "name": "stderr",
          "output_type": "stream",
          "text": [
            "\n"
          ]
        },
        {
          "name": "stdout",
          "output_type": "stream",
          "text": [
            "\n",
            "      Epoch    GPU_mem   box_loss   cls_loss   dfl_loss  Instances       Size\n"
          ]
        },
        {
          "name": "stderr",
          "output_type": "stream",
          "text": [
            "     17/100      2.38G      1.621      1.714       1.55         87        512: 100%|██████████| 318/318 [00:55<00:00,  5.72it/s]\n",
            "                 Class     Images  Instances      Box(P          R      mAP50  mAP50-95): 100%|██████████| 18/18 [00:03<00:00,  5.17it/s]"
          ]
        },
        {
          "name": "stdout",
          "output_type": "stream",
          "text": [
            "                   all        284       7027      0.406      0.277      0.252       0.14\n"
          ]
        },
        {
          "name": "stderr",
          "output_type": "stream",
          "text": [
            "\n"
          ]
        },
        {
          "name": "stdout",
          "output_type": "stream",
          "text": [
            "\n",
            "      Epoch    GPU_mem   box_loss   cls_loss   dfl_loss  Instances       Size\n"
          ]
        },
        {
          "name": "stderr",
          "output_type": "stream",
          "text": [
            "     18/100      2.37G      1.617      1.688      1.554         84        512: 100%|██████████| 318/318 [00:55<00:00,  5.75it/s]\n",
            "                 Class     Images  Instances      Box(P          R      mAP50  mAP50-95): 100%|██████████| 18/18 [00:03<00:00,  4.94it/s]"
          ]
        },
        {
          "name": "stdout",
          "output_type": "stream",
          "text": [
            "                   all        284       7027      0.344      0.292      0.258      0.146\n"
          ]
        },
        {
          "name": "stderr",
          "output_type": "stream",
          "text": [
            "\n"
          ]
        },
        {
          "name": "stdout",
          "output_type": "stream",
          "text": [
            "\n",
            "      Epoch    GPU_mem   box_loss   cls_loss   dfl_loss  Instances       Size\n"
          ]
        },
        {
          "name": "stderr",
          "output_type": "stream",
          "text": [
            "     19/100      2.32G        1.6      1.653      1.537         86        512: 100%|██████████| 318/318 [00:57<00:00,  5.56it/s]\n",
            "                 Class     Images  Instances      Box(P          R      mAP50  mAP50-95): 100%|██████████| 18/18 [00:03<00:00,  5.28it/s]"
          ]
        },
        {
          "name": "stdout",
          "output_type": "stream",
          "text": [
            "                   all        284       7027      0.384      0.301      0.252      0.138\n"
          ]
        },
        {
          "name": "stderr",
          "output_type": "stream",
          "text": [
            "\n"
          ]
        },
        {
          "name": "stdout",
          "output_type": "stream",
          "text": [
            "\n",
            "      Epoch    GPU_mem   box_loss   cls_loss   dfl_loss  Instances       Size\n"
          ]
        },
        {
          "name": "stderr",
          "output_type": "stream",
          "text": [
            "     20/100      2.38G      1.587      1.628      1.531         87        512: 100%|██████████| 318/318 [00:56<00:00,  5.58it/s]\n",
            "                 Class     Images  Instances      Box(P          R      mAP50  mAP50-95): 100%|██████████| 18/18 [00:03<00:00,  4.65it/s]"
          ]
        },
        {
          "name": "stdout",
          "output_type": "stream",
          "text": [
            "                   all        284       7027      0.469      0.257      0.248      0.138\n"
          ]
        },
        {
          "name": "stderr",
          "output_type": "stream",
          "text": [
            "\n"
          ]
        },
        {
          "name": "stdout",
          "output_type": "stream",
          "text": [
            "\n",
            "      Epoch    GPU_mem   box_loss   cls_loss   dfl_loss  Instances       Size\n"
          ]
        },
        {
          "name": "stderr",
          "output_type": "stream",
          "text": [
            "     21/100      2.37G      1.591      1.612      1.522         82        512: 100%|██████████| 318/318 [00:56<00:00,  5.65it/s]\n",
            "                 Class     Images  Instances      Box(P          R      mAP50  mAP50-95): 100%|██████████| 18/18 [00:03<00:00,  5.36it/s]"
          ]
        },
        {
          "name": "stdout",
          "output_type": "stream",
          "text": [
            "                   all        284       7027      0.418      0.285       0.25      0.139\n"
          ]
        },
        {
          "name": "stderr",
          "output_type": "stream",
          "text": [
            "\n"
          ]
        },
        {
          "name": "stdout",
          "output_type": "stream",
          "text": [
            "\n",
            "      Epoch    GPU_mem   box_loss   cls_loss   dfl_loss  Instances       Size\n"
          ]
        },
        {
          "name": "stderr",
          "output_type": "stream",
          "text": [
            "     22/100      2.39G      1.578      1.593      1.528         86        512: 100%|██████████| 318/318 [00:56<00:00,  5.59it/s]\n",
            "                 Class     Images  Instances      Box(P          R      mAP50  mAP50-95): 100%|██████████| 18/18 [00:03<00:00,  5.36it/s]"
          ]
        },
        {
          "name": "stdout",
          "output_type": "stream",
          "text": [
            "                   all        284       7027      0.362      0.294      0.261      0.149\n"
          ]
        },
        {
          "name": "stderr",
          "output_type": "stream",
          "text": [
            "\n"
          ]
        },
        {
          "name": "stdout",
          "output_type": "stream",
          "text": [
            "\n",
            "      Epoch    GPU_mem   box_loss   cls_loss   dfl_loss  Instances       Size\n"
          ]
        },
        {
          "name": "stderr",
          "output_type": "stream",
          "text": [
            "     23/100       2.4G      1.573      1.573      1.518         85        512: 100%|██████████| 318/318 [00:56<00:00,  5.60it/s]\n",
            "                 Class     Images  Instances      Box(P          R      mAP50  mAP50-95): 100%|██████████| 18/18 [00:03<00:00,  5.25it/s]"
          ]
        },
        {
          "name": "stdout",
          "output_type": "stream",
          "text": [
            "                   all        284       7027      0.448       0.28      0.258      0.144\n"
          ]
        },
        {
          "name": "stderr",
          "output_type": "stream",
          "text": [
            "\n"
          ]
        },
        {
          "name": "stdout",
          "output_type": "stream",
          "text": [
            "\n",
            "      Epoch    GPU_mem   box_loss   cls_loss   dfl_loss  Instances       Size\n"
          ]
        },
        {
          "name": "stderr",
          "output_type": "stream",
          "text": [
            "     24/100      2.39G      1.569      1.554      1.515         86        512: 100%|██████████| 318/318 [00:56<00:00,  5.60it/s]\n",
            "                 Class     Images  Instances      Box(P          R      mAP50  mAP50-95): 100%|██████████| 18/18 [00:03<00:00,  5.53it/s]"
          ]
        },
        {
          "name": "stdout",
          "output_type": "stream",
          "text": [
            "                   all        284       7027      0.343      0.303      0.255      0.146\n"
          ]
        },
        {
          "name": "stderr",
          "output_type": "stream",
          "text": [
            "\n"
          ]
        },
        {
          "name": "stdout",
          "output_type": "stream",
          "text": [
            "\n",
            "      Epoch    GPU_mem   box_loss   cls_loss   dfl_loss  Instances       Size\n"
          ]
        },
        {
          "name": "stderr",
          "output_type": "stream",
          "text": [
            "     25/100      2.38G      1.564      1.539      1.504         87        512: 100%|██████████| 318/318 [00:56<00:00,  5.64it/s]\n",
            "                 Class     Images  Instances      Box(P          R      mAP50  mAP50-95): 100%|██████████| 18/18 [00:03<00:00,  5.12it/s]"
          ]
        },
        {
          "name": "stdout",
          "output_type": "stream",
          "text": [
            "                   all        284       7027      0.255      0.294      0.247      0.137\n"
          ]
        },
        {
          "name": "stderr",
          "output_type": "stream",
          "text": [
            "\n"
          ]
        },
        {
          "name": "stdout",
          "output_type": "stream",
          "text": [
            "\n",
            "      Epoch    GPU_mem   box_loss   cls_loss   dfl_loss  Instances       Size\n"
          ]
        },
        {
          "name": "stderr",
          "output_type": "stream",
          "text": [
            "     26/100      2.38G      1.558      1.512      1.504         86        512: 100%|██████████| 318/318 [00:56<00:00,  5.59it/s]\n",
            "                 Class     Images  Instances      Box(P          R      mAP50  mAP50-95): 100%|██████████| 18/18 [00:03<00:00,  5.04it/s]"
          ]
        },
        {
          "name": "stdout",
          "output_type": "stream",
          "text": [
            "                   all        284       7027      0.286      0.311      0.258      0.145\n"
          ]
        },
        {
          "name": "stderr",
          "output_type": "stream",
          "text": [
            "\n"
          ]
        },
        {
          "name": "stdout",
          "output_type": "stream",
          "text": [
            "\n",
            "      Epoch    GPU_mem   box_loss   cls_loss   dfl_loss  Instances       Size\n"
          ]
        },
        {
          "name": "stderr",
          "output_type": "stream",
          "text": [
            "     27/100      2.38G      1.549        1.5      1.493         87        512: 100%|██████████| 318/318 [00:56<00:00,  5.66it/s]\n",
            "                 Class     Images  Instances      Box(P          R      mAP50  mAP50-95): 100%|██████████| 18/18 [00:03<00:00,  5.82it/s]"
          ]
        },
        {
          "name": "stdout",
          "output_type": "stream",
          "text": [
            "                   all        284       7027      0.284      0.312      0.263      0.146\n"
          ]
        },
        {
          "name": "stderr",
          "output_type": "stream",
          "text": [
            "\n"
          ]
        },
        {
          "name": "stdout",
          "output_type": "stream",
          "text": [
            "\n",
            "      Epoch    GPU_mem   box_loss   cls_loss   dfl_loss  Instances       Size\n"
          ]
        },
        {
          "name": "stderr",
          "output_type": "stream",
          "text": [
            "     28/100      2.37G      1.546      1.477      1.498         86        512: 100%|██████████| 318/318 [00:56<00:00,  5.62it/s]\n",
            "                 Class     Images  Instances      Box(P          R      mAP50  mAP50-95): 100%|██████████| 18/18 [00:03<00:00,  5.44it/s]"
          ]
        },
        {
          "name": "stdout",
          "output_type": "stream",
          "text": [
            "                   all        284       7027      0.386      0.308      0.269      0.148\n"
          ]
        },
        {
          "name": "stderr",
          "output_type": "stream",
          "text": [
            "\n"
          ]
        },
        {
          "name": "stdout",
          "output_type": "stream",
          "text": [
            "\n",
            "      Epoch    GPU_mem   box_loss   cls_loss   dfl_loss  Instances       Size\n"
          ]
        },
        {
          "name": "stderr",
          "output_type": "stream",
          "text": [
            "     29/100      2.38G      1.532       1.45      1.483         85        512: 100%|██████████| 318/318 [00:56<00:00,  5.66it/s]\n",
            "                 Class     Images  Instances      Box(P          R      mAP50  mAP50-95): 100%|██████████| 18/18 [00:03<00:00,  5.53it/s]"
          ]
        },
        {
          "name": "stdout",
          "output_type": "stream",
          "text": [
            "                   all        284       7027      0.284      0.332      0.263      0.149\n",
            "Stopping training early as no improvement observed in last 15 epochs. Best results observed at epoch 14, best model saved as best.pt.\n",
            "To update EarlyStopping(patience=15) pass a new patience value, i.e. `patience=300` or use `patience=0` to disable EarlyStopping.\n"
          ]
        },
        {
          "name": "stderr",
          "output_type": "stream",
          "text": [
            "\n"
          ]
        },
        {
          "name": "stdout",
          "output_type": "stream",
          "text": [
            "\n",
            "29 epochs completed in 0.488 hours.\n",
            "Optimizer stripped from runs\\detect\\train\\weights\\last.pt, 22.5MB\n",
            "Optimizer stripped from runs\\detect\\train\\weights\\best.pt, 22.5MB\n",
            "\n",
            "Validating runs\\detect\\train\\weights\\best.pt...\n",
            "Ultralytics YOLOv8.0.226 🚀 Python-3.9.18 torch-2.0.1+cu117 CUDA:0 (NVIDIA GeForce RTX 3060 Ti, 8191MiB)\n",
            "Model summary (fused): 168 layers, 11131776 parameters, 0 gradients, 28.5 GFLOPs\n"
          ]
        },
        {
          "name": "stderr",
          "output_type": "stream",
          "text": [
            "                 Class     Images  Instances      Box(P          R      mAP50  mAP50-95): 100%|██████████| 18/18 [00:05<00:00,  3.40it/s]\n"
          ]
        },
        {
          "name": "stdout",
          "output_type": "stream",
          "text": [
            "                   all        284       7027      0.414      0.285      0.261      0.153\n",
            "               Arugula        284        286       0.41     0.0105      0.095     0.0359\n",
            "                 Bacon        284         56          1          0     0.0562     0.0337\n",
            "                 Basil        284        730      0.434      0.475      0.453      0.237\n",
            "              Broccoli        284         33          1          0    0.00944    0.00498\n",
            "                Cheese        284        355      0.138      0.468      0.205     0.0826\n",
            "               Chicken        284        378     0.0781      0.037     0.0455      0.021\n",
            "                  Corn        284        358      0.292      0.235      0.179     0.0727\n",
            "                   Ham        284        413      0.136     0.0363      0.041     0.0191\n",
            "              Mushroom        284        763       0.33      0.195      0.182     0.0793\n",
            "                Olives        284        649      0.609      0.547      0.589      0.311\n",
            "                 Onion        284        244      0.173     0.0533     0.0593     0.0213\n",
            "             Pepperoni        284        899      0.327      0.764      0.557      0.308\n",
            "               Peppers        284        887      0.307      0.184      0.175     0.0833\n",
            "             Pineapple        284         41     0.0634     0.0244     0.0549     0.0246\n",
            "                 Pizza        284        292      0.877       0.99      0.985      0.851\n",
            "              Tomatoes        284        643      0.456      0.538      0.491      0.261\n",
            "Speed: 0.3ms preprocess, 3.4ms inference, 0.0ms loss, 5.6ms postprocess per image\n",
            "Results saved to \u001b[1mruns\\detect\\train\u001b[0m\n"
          ]
        },
        {
          "data": {
            "text/plain": [
              "ultralytics.utils.metrics.DetMetrics object with attributes:\n",
              "\n",
              "ap_class_index: array([ 0,  1,  2,  3,  4,  5,  6,  7,  8,  9, 10, 11, 12, 13, 14, 15])\n",
              "box: ultralytics.utils.metrics.Metric object\n",
              "confusion_matrix: <ultralytics.utils.metrics.ConfusionMatrix object at 0x00000211D4529EE0>\n",
              "curves: ['Precision-Recall(B)', 'F1-Confidence(B)', 'Precision-Confidence(B)', 'Recall-Confidence(B)']\n",
              "curves_results: [[array([          0,    0.001001,    0.002002,    0.003003,    0.004004,    0.005005,    0.006006,    0.007007,    0.008008,    0.009009,     0.01001,    0.011011,    0.012012,    0.013013,    0.014014,    0.015015,    0.016016,    0.017017,    0.018018,    0.019019,     0.02002,    0.021021,    0.022022,    0.023023,\n",
              "          0.024024,    0.025025,    0.026026,    0.027027,    0.028028,    0.029029,     0.03003,    0.031031,    0.032032,    0.033033,    0.034034,    0.035035,    0.036036,    0.037037,    0.038038,    0.039039,     0.04004,    0.041041,    0.042042,    0.043043,    0.044044,    0.045045,    0.046046,    0.047047,\n",
              "          0.048048,    0.049049,     0.05005,    0.051051,    0.052052,    0.053053,    0.054054,    0.055055,    0.056056,    0.057057,    0.058058,    0.059059,     0.06006,    0.061061,    0.062062,    0.063063,    0.064064,    0.065065,    0.066066,    0.067067,    0.068068,    0.069069,     0.07007,    0.071071,\n",
              "          0.072072,    0.073073,    0.074074,    0.075075,    0.076076,    0.077077,    0.078078,    0.079079,     0.08008,    0.081081,    0.082082,    0.083083,    0.084084,    0.085085,    0.086086,    0.087087,    0.088088,    0.089089,     0.09009,    0.091091,    0.092092,    0.093093,    0.094094,    0.095095,\n",
              "          0.096096,    0.097097,    0.098098,    0.099099,      0.1001,      0.1011,      0.1021,      0.1031,      0.1041,     0.10511,     0.10611,     0.10711,     0.10811,     0.10911,     0.11011,     0.11111,     0.11211,     0.11311,     0.11411,     0.11512,     0.11612,     0.11712,     0.11812,     0.11912,\n",
              "           0.12012,     0.12112,     0.12212,     0.12312,     0.12412,     0.12513,     0.12613,     0.12713,     0.12813,     0.12913,     0.13013,     0.13113,     0.13213,     0.13313,     0.13413,     0.13514,     0.13614,     0.13714,     0.13814,     0.13914,     0.14014,     0.14114,     0.14214,     0.14314,\n",
              "           0.14414,     0.14515,     0.14615,     0.14715,     0.14815,     0.14915,     0.15015,     0.15115,     0.15215,     0.15315,     0.15415,     0.15516,     0.15616,     0.15716,     0.15816,     0.15916,     0.16016,     0.16116,     0.16216,     0.16316,     0.16416,     0.16517,     0.16617,     0.16717,\n",
              "           0.16817,     0.16917,     0.17017,     0.17117,     0.17217,     0.17317,     0.17417,     0.17518,     0.17618,     0.17718,     0.17818,     0.17918,     0.18018,     0.18118,     0.18218,     0.18318,     0.18418,     0.18519,     0.18619,     0.18719,     0.18819,     0.18919,     0.19019,     0.19119,\n",
              "           0.19219,     0.19319,     0.19419,      0.1952,      0.1962,      0.1972,      0.1982,      0.1992,      0.2002,      0.2012,      0.2022,      0.2032,      0.2042,     0.20521,     0.20621,     0.20721,     0.20821,     0.20921,     0.21021,     0.21121,     0.21221,     0.21321,     0.21421,     0.21522,\n",
              "           0.21622,     0.21722,     0.21822,     0.21922,     0.22022,     0.22122,     0.22222,     0.22322,     0.22422,     0.22523,     0.22623,     0.22723,     0.22823,     0.22923,     0.23023,     0.23123,     0.23223,     0.23323,     0.23423,     0.23524,     0.23624,     0.23724,     0.23824,     0.23924,\n",
              "           0.24024,     0.24124,     0.24224,     0.24324,     0.24424,     0.24525,     0.24625,     0.24725,     0.24825,     0.24925,     0.25025,     0.25125,     0.25225,     0.25325,     0.25425,     0.25526,     0.25626,     0.25726,     0.25826,     0.25926,     0.26026,     0.26126,     0.26226,     0.26326,\n",
              "           0.26426,     0.26527,     0.26627,     0.26727,     0.26827,     0.26927,     0.27027,     0.27127,     0.27227,     0.27327,     0.27427,     0.27528,     0.27628,     0.27728,     0.27828,     0.27928,     0.28028,     0.28128,     0.28228,     0.28328,     0.28428,     0.28529,     0.28629,     0.28729,\n",
              "           0.28829,     0.28929,     0.29029,     0.29129,     0.29229,     0.29329,     0.29429,      0.2953,      0.2963,      0.2973,      0.2983,      0.2993,      0.3003,      0.3013,      0.3023,      0.3033,      0.3043,     0.30531,     0.30631,     0.30731,     0.30831,     0.30931,     0.31031,     0.31131,\n",
              "           0.31231,     0.31331,     0.31431,     0.31532,     0.31632,     0.31732,     0.31832,     0.31932,     0.32032,     0.32132,     0.32232,     0.32332,     0.32432,     0.32533,     0.32633,     0.32733,     0.32833,     0.32933,     0.33033,     0.33133,     0.33233,     0.33333,     0.33433,     0.33534,\n",
              "           0.33634,     0.33734,     0.33834,     0.33934,     0.34034,     0.34134,     0.34234,     0.34334,     0.34434,     0.34535,     0.34635,     0.34735,     0.34835,     0.34935,     0.35035,     0.35135,     0.35235,     0.35335,     0.35435,     0.35536,     0.35636,     0.35736,     0.35836,     0.35936,\n",
              "           0.36036,     0.36136,     0.36236,     0.36336,     0.36436,     0.36537,     0.36637,     0.36737,     0.36837,     0.36937,     0.37037,     0.37137,     0.37237,     0.37337,     0.37437,     0.37538,     0.37638,     0.37738,     0.37838,     0.37938,     0.38038,     0.38138,     0.38238,     0.38338,\n",
              "           0.38438,     0.38539,     0.38639,     0.38739,     0.38839,     0.38939,     0.39039,     0.39139,     0.39239,     0.39339,     0.39439,      0.3954,      0.3964,      0.3974,      0.3984,      0.3994,      0.4004,      0.4014,      0.4024,      0.4034,      0.4044,     0.40541,     0.40641,     0.40741,\n",
              "           0.40841,     0.40941,     0.41041,     0.41141,     0.41241,     0.41341,     0.41441,     0.41542,     0.41642,     0.41742,     0.41842,     0.41942,     0.42042,     0.42142,     0.42242,     0.42342,     0.42442,     0.42543,     0.42643,     0.42743,     0.42843,     0.42943,     0.43043,     0.43143,\n",
              "           0.43243,     0.43343,     0.43443,     0.43544,     0.43644,     0.43744,     0.43844,     0.43944,     0.44044,     0.44144,     0.44244,     0.44344,     0.44444,     0.44545,     0.44645,     0.44745,     0.44845,     0.44945,     0.45045,     0.45145,     0.45245,     0.45345,     0.45445,     0.45546,\n",
              "           0.45646,     0.45746,     0.45846,     0.45946,     0.46046,     0.46146,     0.46246,     0.46346,     0.46446,     0.46547,     0.46647,     0.46747,     0.46847,     0.46947,     0.47047,     0.47147,     0.47247,     0.47347,     0.47447,     0.47548,     0.47648,     0.47748,     0.47848,     0.47948,\n",
              "           0.48048,     0.48148,     0.48248,     0.48348,     0.48448,     0.48549,     0.48649,     0.48749,     0.48849,     0.48949,     0.49049,     0.49149,     0.49249,     0.49349,     0.49449,      0.4955,      0.4965,      0.4975,      0.4985,      0.4995,      0.5005,      0.5015,      0.5025,      0.5035,\n",
              "            0.5045,     0.50551,     0.50651,     0.50751,     0.50851,     0.50951,     0.51051,     0.51151,     0.51251,     0.51351,     0.51451,     0.51552,     0.51652,     0.51752,     0.51852,     0.51952,     0.52052,     0.52152,     0.52252,     0.52352,     0.52452,     0.52553,     0.52653,     0.52753,\n",
              "           0.52853,     0.52953,     0.53053,     0.53153,     0.53253,     0.53353,     0.53453,     0.53554,     0.53654,     0.53754,     0.53854,     0.53954,     0.54054,     0.54154,     0.54254,     0.54354,     0.54454,     0.54555,     0.54655,     0.54755,     0.54855,     0.54955,     0.55055,     0.55155,\n",
              "           0.55255,     0.55355,     0.55455,     0.55556,     0.55656,     0.55756,     0.55856,     0.55956,     0.56056,     0.56156,     0.56256,     0.56356,     0.56456,     0.56557,     0.56657,     0.56757,     0.56857,     0.56957,     0.57057,     0.57157,     0.57257,     0.57357,     0.57457,     0.57558,\n",
              "           0.57658,     0.57758,     0.57858,     0.57958,     0.58058,     0.58158,     0.58258,     0.58358,     0.58458,     0.58559,     0.58659,     0.58759,     0.58859,     0.58959,     0.59059,     0.59159,     0.59259,     0.59359,     0.59459,      0.5956,      0.5966,      0.5976,      0.5986,      0.5996,\n",
              "            0.6006,      0.6016,      0.6026,      0.6036,      0.6046,     0.60561,     0.60661,     0.60761,     0.60861,     0.60961,     0.61061,     0.61161,     0.61261,     0.61361,     0.61461,     0.61562,     0.61662,     0.61762,     0.61862,     0.61962,     0.62062,     0.62162,     0.62262,     0.62362,\n",
              "           0.62462,     0.62563,     0.62663,     0.62763,     0.62863,     0.62963,     0.63063,     0.63163,     0.63263,     0.63363,     0.63463,     0.63564,     0.63664,     0.63764,     0.63864,     0.63964,     0.64064,     0.64164,     0.64264,     0.64364,     0.64464,     0.64565,     0.64665,     0.64765,\n",
              "           0.64865,     0.64965,     0.65065,     0.65165,     0.65265,     0.65365,     0.65465,     0.65566,     0.65666,     0.65766,     0.65866,     0.65966,     0.66066,     0.66166,     0.66266,     0.66366,     0.66466,     0.66567,     0.66667,     0.66767,     0.66867,     0.66967,     0.67067,     0.67167,\n",
              "           0.67267,     0.67367,     0.67467,     0.67568,     0.67668,     0.67768,     0.67868,     0.67968,     0.68068,     0.68168,     0.68268,     0.68368,     0.68468,     0.68569,     0.68669,     0.68769,     0.68869,     0.68969,     0.69069,     0.69169,     0.69269,     0.69369,     0.69469,      0.6957,\n",
              "            0.6967,      0.6977,      0.6987,      0.6997,      0.7007,      0.7017,      0.7027,      0.7037,      0.7047,     0.70571,     0.70671,     0.70771,     0.70871,     0.70971,     0.71071,     0.71171,     0.71271,     0.71371,     0.71471,     0.71572,     0.71672,     0.71772,     0.71872,     0.71972,\n",
              "           0.72072,     0.72172,     0.72272,     0.72372,     0.72472,     0.72573,     0.72673,     0.72773,     0.72873,     0.72973,     0.73073,     0.73173,     0.73273,     0.73373,     0.73473,     0.73574,     0.73674,     0.73774,     0.73874,     0.73974,     0.74074,     0.74174,     0.74274,     0.74374,\n",
              "           0.74474,     0.74575,     0.74675,     0.74775,     0.74875,     0.74975,     0.75075,     0.75175,     0.75275,     0.75375,     0.75475,     0.75576,     0.75676,     0.75776,     0.75876,     0.75976,     0.76076,     0.76176,     0.76276,     0.76376,     0.76476,     0.76577,     0.76677,     0.76777,\n",
              "           0.76877,     0.76977,     0.77077,     0.77177,     0.77277,     0.77377,     0.77477,     0.77578,     0.77678,     0.77778,     0.77878,     0.77978,     0.78078,     0.78178,     0.78278,     0.78378,     0.78478,     0.78579,     0.78679,     0.78779,     0.78879,     0.78979,     0.79079,     0.79179,\n",
              "           0.79279,     0.79379,     0.79479,      0.7958,      0.7968,      0.7978,      0.7988,      0.7998,      0.8008,      0.8018,      0.8028,      0.8038,      0.8048,     0.80581,     0.80681,     0.80781,     0.80881,     0.80981,     0.81081,     0.81181,     0.81281,     0.81381,     0.81481,     0.81582,\n",
              "           0.81682,     0.81782,     0.81882,     0.81982,     0.82082,     0.82182,     0.82282,     0.82382,     0.82482,     0.82583,     0.82683,     0.82783,     0.82883,     0.82983,     0.83083,     0.83183,     0.83283,     0.83383,     0.83483,     0.83584,     0.83684,     0.83784,     0.83884,     0.83984,\n",
              "           0.84084,     0.84184,     0.84284,     0.84384,     0.84484,     0.84585,     0.84685,     0.84785,     0.84885,     0.84985,     0.85085,     0.85185,     0.85285,     0.85385,     0.85485,     0.85586,     0.85686,     0.85786,     0.85886,     0.85986,     0.86086,     0.86186,     0.86286,     0.86386,\n",
              "           0.86486,     0.86587,     0.86687,     0.86787,     0.86887,     0.86987,     0.87087,     0.87187,     0.87287,     0.87387,     0.87487,     0.87588,     0.87688,     0.87788,     0.87888,     0.87988,     0.88088,     0.88188,     0.88288,     0.88388,     0.88488,     0.88589,     0.88689,     0.88789,\n",
              "           0.88889,     0.88989,     0.89089,     0.89189,     0.89289,     0.89389,     0.89489,      0.8959,      0.8969,      0.8979,      0.8989,      0.8999,      0.9009,      0.9019,      0.9029,      0.9039,      0.9049,     0.90591,     0.90691,     0.90791,     0.90891,     0.90991,     0.91091,     0.91191,\n",
              "           0.91291,     0.91391,     0.91491,     0.91592,     0.91692,     0.91792,     0.91892,     0.91992,     0.92092,     0.92192,     0.92292,     0.92392,     0.92492,     0.92593,     0.92693,     0.92793,     0.92893,     0.92993,     0.93093,     0.93193,     0.93293,     0.93393,     0.93493,     0.93594,\n",
              "           0.93694,     0.93794,     0.93894,     0.93994,     0.94094,     0.94194,     0.94294,     0.94394,     0.94494,     0.94595,     0.94695,     0.94795,     0.94895,     0.94995,     0.95095,     0.95195,     0.95295,     0.95395,     0.95495,     0.95596,     0.95696,     0.95796,     0.95896,     0.95996,\n",
              "           0.96096,     0.96196,     0.96296,     0.96396,     0.96496,     0.96597,     0.96697,     0.96797,     0.96897,     0.96997,     0.97097,     0.97197,     0.97297,     0.97397,     0.97497,     0.97598,     0.97698,     0.97798,     0.97898,     0.97998,     0.98098,     0.98198,     0.98298,     0.98398,\n",
              "           0.98498,     0.98599,     0.98699,     0.98799,     0.98899,     0.98999,     0.99099,     0.99199,     0.99299,     0.99399,     0.99499,       0.996,       0.997,       0.998,       0.999,           1]), array([[          1,           1,           1, ...,  0.00025009,  0.00012505,           0],\n",
              "       [          1,           1,           1, ...,  0.00016987,  8.4933e-05,           0],\n",
              "       [          1,           1,           1, ...,    0.000962,    0.000481,           0],\n",
              "       ...,\n",
              "       [        0.5,         0.5,         0.5, ...,  0.00015471,  7.7354e-05,           0],\n",
              "       [          1,           1,           1, ...,     0.12689,    0.063447,           0],\n",
              "       [          1,           1,           1, ...,  0.00093636,  0.00046818,           0]]), 'Recall', 'Precision'], [array([          0,    0.001001,    0.002002,    0.003003,    0.004004,    0.005005,    0.006006,    0.007007,    0.008008,    0.009009,     0.01001,    0.011011,    0.012012,    0.013013,    0.014014,    0.015015,    0.016016,    0.017017,    0.018018,    0.019019,     0.02002,    0.021021,    0.022022,    0.023023,\n",
              "          0.024024,    0.025025,    0.026026,    0.027027,    0.028028,    0.029029,     0.03003,    0.031031,    0.032032,    0.033033,    0.034034,    0.035035,    0.036036,    0.037037,    0.038038,    0.039039,     0.04004,    0.041041,    0.042042,    0.043043,    0.044044,    0.045045,    0.046046,    0.047047,\n",
              "          0.048048,    0.049049,     0.05005,    0.051051,    0.052052,    0.053053,    0.054054,    0.055055,    0.056056,    0.057057,    0.058058,    0.059059,     0.06006,    0.061061,    0.062062,    0.063063,    0.064064,    0.065065,    0.066066,    0.067067,    0.068068,    0.069069,     0.07007,    0.071071,\n",
              "          0.072072,    0.073073,    0.074074,    0.075075,    0.076076,    0.077077,    0.078078,    0.079079,     0.08008,    0.081081,    0.082082,    0.083083,    0.084084,    0.085085,    0.086086,    0.087087,    0.088088,    0.089089,     0.09009,    0.091091,    0.092092,    0.093093,    0.094094,    0.095095,\n",
              "          0.096096,    0.097097,    0.098098,    0.099099,      0.1001,      0.1011,      0.1021,      0.1031,      0.1041,     0.10511,     0.10611,     0.10711,     0.10811,     0.10911,     0.11011,     0.11111,     0.11211,     0.11311,     0.11411,     0.11512,     0.11612,     0.11712,     0.11812,     0.11912,\n",
              "           0.12012,     0.12112,     0.12212,     0.12312,     0.12412,     0.12513,     0.12613,     0.12713,     0.12813,     0.12913,     0.13013,     0.13113,     0.13213,     0.13313,     0.13413,     0.13514,     0.13614,     0.13714,     0.13814,     0.13914,     0.14014,     0.14114,     0.14214,     0.14314,\n",
              "           0.14414,     0.14515,     0.14615,     0.14715,     0.14815,     0.14915,     0.15015,     0.15115,     0.15215,     0.15315,     0.15415,     0.15516,     0.15616,     0.15716,     0.15816,     0.15916,     0.16016,     0.16116,     0.16216,     0.16316,     0.16416,     0.16517,     0.16617,     0.16717,\n",
              "           0.16817,     0.16917,     0.17017,     0.17117,     0.17217,     0.17317,     0.17417,     0.17518,     0.17618,     0.17718,     0.17818,     0.17918,     0.18018,     0.18118,     0.18218,     0.18318,     0.18418,     0.18519,     0.18619,     0.18719,     0.18819,     0.18919,     0.19019,     0.19119,\n",
              "           0.19219,     0.19319,     0.19419,      0.1952,      0.1962,      0.1972,      0.1982,      0.1992,      0.2002,      0.2012,      0.2022,      0.2032,      0.2042,     0.20521,     0.20621,     0.20721,     0.20821,     0.20921,     0.21021,     0.21121,     0.21221,     0.21321,     0.21421,     0.21522,\n",
              "           0.21622,     0.21722,     0.21822,     0.21922,     0.22022,     0.22122,     0.22222,     0.22322,     0.22422,     0.22523,     0.22623,     0.22723,     0.22823,     0.22923,     0.23023,     0.23123,     0.23223,     0.23323,     0.23423,     0.23524,     0.23624,     0.23724,     0.23824,     0.23924,\n",
              "           0.24024,     0.24124,     0.24224,     0.24324,     0.24424,     0.24525,     0.24625,     0.24725,     0.24825,     0.24925,     0.25025,     0.25125,     0.25225,     0.25325,     0.25425,     0.25526,     0.25626,     0.25726,     0.25826,     0.25926,     0.26026,     0.26126,     0.26226,     0.26326,\n",
              "           0.26426,     0.26527,     0.26627,     0.26727,     0.26827,     0.26927,     0.27027,     0.27127,     0.27227,     0.27327,     0.27427,     0.27528,     0.27628,     0.27728,     0.27828,     0.27928,     0.28028,     0.28128,     0.28228,     0.28328,     0.28428,     0.28529,     0.28629,     0.28729,\n",
              "           0.28829,     0.28929,     0.29029,     0.29129,     0.29229,     0.29329,     0.29429,      0.2953,      0.2963,      0.2973,      0.2983,      0.2993,      0.3003,      0.3013,      0.3023,      0.3033,      0.3043,     0.30531,     0.30631,     0.30731,     0.30831,     0.30931,     0.31031,     0.31131,\n",
              "           0.31231,     0.31331,     0.31431,     0.31532,     0.31632,     0.31732,     0.31832,     0.31932,     0.32032,     0.32132,     0.32232,     0.32332,     0.32432,     0.32533,     0.32633,     0.32733,     0.32833,     0.32933,     0.33033,     0.33133,     0.33233,     0.33333,     0.33433,     0.33534,\n",
              "           0.33634,     0.33734,     0.33834,     0.33934,     0.34034,     0.34134,     0.34234,     0.34334,     0.34434,     0.34535,     0.34635,     0.34735,     0.34835,     0.34935,     0.35035,     0.35135,     0.35235,     0.35335,     0.35435,     0.35536,     0.35636,     0.35736,     0.35836,     0.35936,\n",
              "           0.36036,     0.36136,     0.36236,     0.36336,     0.36436,     0.36537,     0.36637,     0.36737,     0.36837,     0.36937,     0.37037,     0.37137,     0.37237,     0.37337,     0.37437,     0.37538,     0.37638,     0.37738,     0.37838,     0.37938,     0.38038,     0.38138,     0.38238,     0.38338,\n",
              "           0.38438,     0.38539,     0.38639,     0.38739,     0.38839,     0.38939,     0.39039,     0.39139,     0.39239,     0.39339,     0.39439,      0.3954,      0.3964,      0.3974,      0.3984,      0.3994,      0.4004,      0.4014,      0.4024,      0.4034,      0.4044,     0.40541,     0.40641,     0.40741,\n",
              "           0.40841,     0.40941,     0.41041,     0.41141,     0.41241,     0.41341,     0.41441,     0.41542,     0.41642,     0.41742,     0.41842,     0.41942,     0.42042,     0.42142,     0.42242,     0.42342,     0.42442,     0.42543,     0.42643,     0.42743,     0.42843,     0.42943,     0.43043,     0.43143,\n",
              "           0.43243,     0.43343,     0.43443,     0.43544,     0.43644,     0.43744,     0.43844,     0.43944,     0.44044,     0.44144,     0.44244,     0.44344,     0.44444,     0.44545,     0.44645,     0.44745,     0.44845,     0.44945,     0.45045,     0.45145,     0.45245,     0.45345,     0.45445,     0.45546,\n",
              "           0.45646,     0.45746,     0.45846,     0.45946,     0.46046,     0.46146,     0.46246,     0.46346,     0.46446,     0.46547,     0.46647,     0.46747,     0.46847,     0.46947,     0.47047,     0.47147,     0.47247,     0.47347,     0.47447,     0.47548,     0.47648,     0.47748,     0.47848,     0.47948,\n",
              "           0.48048,     0.48148,     0.48248,     0.48348,     0.48448,     0.48549,     0.48649,     0.48749,     0.48849,     0.48949,     0.49049,     0.49149,     0.49249,     0.49349,     0.49449,      0.4955,      0.4965,      0.4975,      0.4985,      0.4995,      0.5005,      0.5015,      0.5025,      0.5035,\n",
              "            0.5045,     0.50551,     0.50651,     0.50751,     0.50851,     0.50951,     0.51051,     0.51151,     0.51251,     0.51351,     0.51451,     0.51552,     0.51652,     0.51752,     0.51852,     0.51952,     0.52052,     0.52152,     0.52252,     0.52352,     0.52452,     0.52553,     0.52653,     0.52753,\n",
              "           0.52853,     0.52953,     0.53053,     0.53153,     0.53253,     0.53353,     0.53453,     0.53554,     0.53654,     0.53754,     0.53854,     0.53954,     0.54054,     0.54154,     0.54254,     0.54354,     0.54454,     0.54555,     0.54655,     0.54755,     0.54855,     0.54955,     0.55055,     0.55155,\n",
              "           0.55255,     0.55355,     0.55455,     0.55556,     0.55656,     0.55756,     0.55856,     0.55956,     0.56056,     0.56156,     0.56256,     0.56356,     0.56456,     0.56557,     0.56657,     0.56757,     0.56857,     0.56957,     0.57057,     0.57157,     0.57257,     0.57357,     0.57457,     0.57558,\n",
              "           0.57658,     0.57758,     0.57858,     0.57958,     0.58058,     0.58158,     0.58258,     0.58358,     0.58458,     0.58559,     0.58659,     0.58759,     0.58859,     0.58959,     0.59059,     0.59159,     0.59259,     0.59359,     0.59459,      0.5956,      0.5966,      0.5976,      0.5986,      0.5996,\n",
              "            0.6006,      0.6016,      0.6026,      0.6036,      0.6046,     0.60561,     0.60661,     0.60761,     0.60861,     0.60961,     0.61061,     0.61161,     0.61261,     0.61361,     0.61461,     0.61562,     0.61662,     0.61762,     0.61862,     0.61962,     0.62062,     0.62162,     0.62262,     0.62362,\n",
              "           0.62462,     0.62563,     0.62663,     0.62763,     0.62863,     0.62963,     0.63063,     0.63163,     0.63263,     0.63363,     0.63463,     0.63564,     0.63664,     0.63764,     0.63864,     0.63964,     0.64064,     0.64164,     0.64264,     0.64364,     0.64464,     0.64565,     0.64665,     0.64765,\n",
              "           0.64865,     0.64965,     0.65065,     0.65165,     0.65265,     0.65365,     0.65465,     0.65566,     0.65666,     0.65766,     0.65866,     0.65966,     0.66066,     0.66166,     0.66266,     0.66366,     0.66466,     0.66567,     0.66667,     0.66767,     0.66867,     0.66967,     0.67067,     0.67167,\n",
              "           0.67267,     0.67367,     0.67467,     0.67568,     0.67668,     0.67768,     0.67868,     0.67968,     0.68068,     0.68168,     0.68268,     0.68368,     0.68468,     0.68569,     0.68669,     0.68769,     0.68869,     0.68969,     0.69069,     0.69169,     0.69269,     0.69369,     0.69469,      0.6957,\n",
              "            0.6967,      0.6977,      0.6987,      0.6997,      0.7007,      0.7017,      0.7027,      0.7037,      0.7047,     0.70571,     0.70671,     0.70771,     0.70871,     0.70971,     0.71071,     0.71171,     0.71271,     0.71371,     0.71471,     0.71572,     0.71672,     0.71772,     0.71872,     0.71972,\n",
              "           0.72072,     0.72172,     0.72272,     0.72372,     0.72472,     0.72573,     0.72673,     0.72773,     0.72873,     0.72973,     0.73073,     0.73173,     0.73273,     0.73373,     0.73473,     0.73574,     0.73674,     0.73774,     0.73874,     0.73974,     0.74074,     0.74174,     0.74274,     0.74374,\n",
              "           0.74474,     0.74575,     0.74675,     0.74775,     0.74875,     0.74975,     0.75075,     0.75175,     0.75275,     0.75375,     0.75475,     0.75576,     0.75676,     0.75776,     0.75876,     0.75976,     0.76076,     0.76176,     0.76276,     0.76376,     0.76476,     0.76577,     0.76677,     0.76777,\n",
              "           0.76877,     0.76977,     0.77077,     0.77177,     0.77277,     0.77377,     0.77477,     0.77578,     0.77678,     0.77778,     0.77878,     0.77978,     0.78078,     0.78178,     0.78278,     0.78378,     0.78478,     0.78579,     0.78679,     0.78779,     0.78879,     0.78979,     0.79079,     0.79179,\n",
              "           0.79279,     0.79379,     0.79479,      0.7958,      0.7968,      0.7978,      0.7988,      0.7998,      0.8008,      0.8018,      0.8028,      0.8038,      0.8048,     0.80581,     0.80681,     0.80781,     0.80881,     0.80981,     0.81081,     0.81181,     0.81281,     0.81381,     0.81481,     0.81582,\n",
              "           0.81682,     0.81782,     0.81882,     0.81982,     0.82082,     0.82182,     0.82282,     0.82382,     0.82482,     0.82583,     0.82683,     0.82783,     0.82883,     0.82983,     0.83083,     0.83183,     0.83283,     0.83383,     0.83483,     0.83584,     0.83684,     0.83784,     0.83884,     0.83984,\n",
              "           0.84084,     0.84184,     0.84284,     0.84384,     0.84484,     0.84585,     0.84685,     0.84785,     0.84885,     0.84985,     0.85085,     0.85185,     0.85285,     0.85385,     0.85485,     0.85586,     0.85686,     0.85786,     0.85886,     0.85986,     0.86086,     0.86186,     0.86286,     0.86386,\n",
              "           0.86486,     0.86587,     0.86687,     0.86787,     0.86887,     0.86987,     0.87087,     0.87187,     0.87287,     0.87387,     0.87487,     0.87588,     0.87688,     0.87788,     0.87888,     0.87988,     0.88088,     0.88188,     0.88288,     0.88388,     0.88488,     0.88589,     0.88689,     0.88789,\n",
              "           0.88889,     0.88989,     0.89089,     0.89189,     0.89289,     0.89389,     0.89489,      0.8959,      0.8969,      0.8979,      0.8989,      0.8999,      0.9009,      0.9019,      0.9029,      0.9039,      0.9049,     0.90591,     0.90691,     0.90791,     0.90891,     0.90991,     0.91091,     0.91191,\n",
              "           0.91291,     0.91391,     0.91491,     0.91592,     0.91692,     0.91792,     0.91892,     0.91992,     0.92092,     0.92192,     0.92292,     0.92392,     0.92492,     0.92593,     0.92693,     0.92793,     0.92893,     0.92993,     0.93093,     0.93193,     0.93293,     0.93393,     0.93493,     0.93594,\n",
              "           0.93694,     0.93794,     0.93894,     0.93994,     0.94094,     0.94194,     0.94294,     0.94394,     0.94494,     0.94595,     0.94695,     0.94795,     0.94895,     0.94995,     0.95095,     0.95195,     0.95295,     0.95395,     0.95495,     0.95596,     0.95696,     0.95796,     0.95896,     0.95996,\n",
              "           0.96096,     0.96196,     0.96296,     0.96396,     0.96496,     0.96597,     0.96697,     0.96797,     0.96897,     0.96997,     0.97097,     0.97197,     0.97297,     0.97397,     0.97497,     0.97598,     0.97698,     0.97798,     0.97898,     0.97998,     0.98098,     0.98198,     0.98298,     0.98398,\n",
              "           0.98498,     0.98599,     0.98699,     0.98799,     0.98899,     0.98999,     0.99099,     0.99199,     0.99299,     0.99399,     0.99499,       0.996,       0.997,       0.998,       0.999,           1]), array([[    0.10545,     0.10545,     0.10556, ...,           0,           0,           0],\n",
              "       [   0.029412,    0.029412,    0.030082, ...,           0,           0,           0],\n",
              "       [    0.20102,     0.20102,     0.20132, ...,           0,           0,           0],\n",
              "       ...,\n",
              "       [   0.057471,    0.057471,    0.057607, ...,           0,           0,           0],\n",
              "       [    0.60417,     0.60417,     0.60426, ...,           0,           0,           0],\n",
              "       [    0.15996,     0.15996,     0.16042, ...,           0,           0,           0]]), 'Confidence', 'F1'], [array([          0,    0.001001,    0.002002,    0.003003,    0.004004,    0.005005,    0.006006,    0.007007,    0.008008,    0.009009,     0.01001,    0.011011,    0.012012,    0.013013,    0.014014,    0.015015,    0.016016,    0.017017,    0.018018,    0.019019,     0.02002,    0.021021,    0.022022,    0.023023,\n",
              "          0.024024,    0.025025,    0.026026,    0.027027,    0.028028,    0.029029,     0.03003,    0.031031,    0.032032,    0.033033,    0.034034,    0.035035,    0.036036,    0.037037,    0.038038,    0.039039,     0.04004,    0.041041,    0.042042,    0.043043,    0.044044,    0.045045,    0.046046,    0.047047,\n",
              "          0.048048,    0.049049,     0.05005,    0.051051,    0.052052,    0.053053,    0.054054,    0.055055,    0.056056,    0.057057,    0.058058,    0.059059,     0.06006,    0.061061,    0.062062,    0.063063,    0.064064,    0.065065,    0.066066,    0.067067,    0.068068,    0.069069,     0.07007,    0.071071,\n",
              "          0.072072,    0.073073,    0.074074,    0.075075,    0.076076,    0.077077,    0.078078,    0.079079,     0.08008,    0.081081,    0.082082,    0.083083,    0.084084,    0.085085,    0.086086,    0.087087,    0.088088,    0.089089,     0.09009,    0.091091,    0.092092,    0.093093,    0.094094,    0.095095,\n",
              "          0.096096,    0.097097,    0.098098,    0.099099,      0.1001,      0.1011,      0.1021,      0.1031,      0.1041,     0.10511,     0.10611,     0.10711,     0.10811,     0.10911,     0.11011,     0.11111,     0.11211,     0.11311,     0.11411,     0.11512,     0.11612,     0.11712,     0.11812,     0.11912,\n",
              "           0.12012,     0.12112,     0.12212,     0.12312,     0.12412,     0.12513,     0.12613,     0.12713,     0.12813,     0.12913,     0.13013,     0.13113,     0.13213,     0.13313,     0.13413,     0.13514,     0.13614,     0.13714,     0.13814,     0.13914,     0.14014,     0.14114,     0.14214,     0.14314,\n",
              "           0.14414,     0.14515,     0.14615,     0.14715,     0.14815,     0.14915,     0.15015,     0.15115,     0.15215,     0.15315,     0.15415,     0.15516,     0.15616,     0.15716,     0.15816,     0.15916,     0.16016,     0.16116,     0.16216,     0.16316,     0.16416,     0.16517,     0.16617,     0.16717,\n",
              "           0.16817,     0.16917,     0.17017,     0.17117,     0.17217,     0.17317,     0.17417,     0.17518,     0.17618,     0.17718,     0.17818,     0.17918,     0.18018,     0.18118,     0.18218,     0.18318,     0.18418,     0.18519,     0.18619,     0.18719,     0.18819,     0.18919,     0.19019,     0.19119,\n",
              "           0.19219,     0.19319,     0.19419,      0.1952,      0.1962,      0.1972,      0.1982,      0.1992,      0.2002,      0.2012,      0.2022,      0.2032,      0.2042,     0.20521,     0.20621,     0.20721,     0.20821,     0.20921,     0.21021,     0.21121,     0.21221,     0.21321,     0.21421,     0.21522,\n",
              "           0.21622,     0.21722,     0.21822,     0.21922,     0.22022,     0.22122,     0.22222,     0.22322,     0.22422,     0.22523,     0.22623,     0.22723,     0.22823,     0.22923,     0.23023,     0.23123,     0.23223,     0.23323,     0.23423,     0.23524,     0.23624,     0.23724,     0.23824,     0.23924,\n",
              "           0.24024,     0.24124,     0.24224,     0.24324,     0.24424,     0.24525,     0.24625,     0.24725,     0.24825,     0.24925,     0.25025,     0.25125,     0.25225,     0.25325,     0.25425,     0.25526,     0.25626,     0.25726,     0.25826,     0.25926,     0.26026,     0.26126,     0.26226,     0.26326,\n",
              "           0.26426,     0.26527,     0.26627,     0.26727,     0.26827,     0.26927,     0.27027,     0.27127,     0.27227,     0.27327,     0.27427,     0.27528,     0.27628,     0.27728,     0.27828,     0.27928,     0.28028,     0.28128,     0.28228,     0.28328,     0.28428,     0.28529,     0.28629,     0.28729,\n",
              "           0.28829,     0.28929,     0.29029,     0.29129,     0.29229,     0.29329,     0.29429,      0.2953,      0.2963,      0.2973,      0.2983,      0.2993,      0.3003,      0.3013,      0.3023,      0.3033,      0.3043,     0.30531,     0.30631,     0.30731,     0.30831,     0.30931,     0.31031,     0.31131,\n",
              "           0.31231,     0.31331,     0.31431,     0.31532,     0.31632,     0.31732,     0.31832,     0.31932,     0.32032,     0.32132,     0.32232,     0.32332,     0.32432,     0.32533,     0.32633,     0.32733,     0.32833,     0.32933,     0.33033,     0.33133,     0.33233,     0.33333,     0.33433,     0.33534,\n",
              "           0.33634,     0.33734,     0.33834,     0.33934,     0.34034,     0.34134,     0.34234,     0.34334,     0.34434,     0.34535,     0.34635,     0.34735,     0.34835,     0.34935,     0.35035,     0.35135,     0.35235,     0.35335,     0.35435,     0.35536,     0.35636,     0.35736,     0.35836,     0.35936,\n",
              "           0.36036,     0.36136,     0.36236,     0.36336,     0.36436,     0.36537,     0.36637,     0.36737,     0.36837,     0.36937,     0.37037,     0.37137,     0.37237,     0.37337,     0.37437,     0.37538,     0.37638,     0.37738,     0.37838,     0.37938,     0.38038,     0.38138,     0.38238,     0.38338,\n",
              "           0.38438,     0.38539,     0.38639,     0.38739,     0.38839,     0.38939,     0.39039,     0.39139,     0.39239,     0.39339,     0.39439,      0.3954,      0.3964,      0.3974,      0.3984,      0.3994,      0.4004,      0.4014,      0.4024,      0.4034,      0.4044,     0.40541,     0.40641,     0.40741,\n",
              "           0.40841,     0.40941,     0.41041,     0.41141,     0.41241,     0.41341,     0.41441,     0.41542,     0.41642,     0.41742,     0.41842,     0.41942,     0.42042,     0.42142,     0.42242,     0.42342,     0.42442,     0.42543,     0.42643,     0.42743,     0.42843,     0.42943,     0.43043,     0.43143,\n",
              "           0.43243,     0.43343,     0.43443,     0.43544,     0.43644,     0.43744,     0.43844,     0.43944,     0.44044,     0.44144,     0.44244,     0.44344,     0.44444,     0.44545,     0.44645,     0.44745,     0.44845,     0.44945,     0.45045,     0.45145,     0.45245,     0.45345,     0.45445,     0.45546,\n",
              "           0.45646,     0.45746,     0.45846,     0.45946,     0.46046,     0.46146,     0.46246,     0.46346,     0.46446,     0.46547,     0.46647,     0.46747,     0.46847,     0.46947,     0.47047,     0.47147,     0.47247,     0.47347,     0.47447,     0.47548,     0.47648,     0.47748,     0.47848,     0.47948,\n",
              "           0.48048,     0.48148,     0.48248,     0.48348,     0.48448,     0.48549,     0.48649,     0.48749,     0.48849,     0.48949,     0.49049,     0.49149,     0.49249,     0.49349,     0.49449,      0.4955,      0.4965,      0.4975,      0.4985,      0.4995,      0.5005,      0.5015,      0.5025,      0.5035,\n",
              "            0.5045,     0.50551,     0.50651,     0.50751,     0.50851,     0.50951,     0.51051,     0.51151,     0.51251,     0.51351,     0.51451,     0.51552,     0.51652,     0.51752,     0.51852,     0.51952,     0.52052,     0.52152,     0.52252,     0.52352,     0.52452,     0.52553,     0.52653,     0.52753,\n",
              "           0.52853,     0.52953,     0.53053,     0.53153,     0.53253,     0.53353,     0.53453,     0.53554,     0.53654,     0.53754,     0.53854,     0.53954,     0.54054,     0.54154,     0.54254,     0.54354,     0.54454,     0.54555,     0.54655,     0.54755,     0.54855,     0.54955,     0.55055,     0.55155,\n",
              "           0.55255,     0.55355,     0.55455,     0.55556,     0.55656,     0.55756,     0.55856,     0.55956,     0.56056,     0.56156,     0.56256,     0.56356,     0.56456,     0.56557,     0.56657,     0.56757,     0.56857,     0.56957,     0.57057,     0.57157,     0.57257,     0.57357,     0.57457,     0.57558,\n",
              "           0.57658,     0.57758,     0.57858,     0.57958,     0.58058,     0.58158,     0.58258,     0.58358,     0.58458,     0.58559,     0.58659,     0.58759,     0.58859,     0.58959,     0.59059,     0.59159,     0.59259,     0.59359,     0.59459,      0.5956,      0.5966,      0.5976,      0.5986,      0.5996,\n",
              "            0.6006,      0.6016,      0.6026,      0.6036,      0.6046,     0.60561,     0.60661,     0.60761,     0.60861,     0.60961,     0.61061,     0.61161,     0.61261,     0.61361,     0.61461,     0.61562,     0.61662,     0.61762,     0.61862,     0.61962,     0.62062,     0.62162,     0.62262,     0.62362,\n",
              "           0.62462,     0.62563,     0.62663,     0.62763,     0.62863,     0.62963,     0.63063,     0.63163,     0.63263,     0.63363,     0.63463,     0.63564,     0.63664,     0.63764,     0.63864,     0.63964,     0.64064,     0.64164,     0.64264,     0.64364,     0.64464,     0.64565,     0.64665,     0.64765,\n",
              "           0.64865,     0.64965,     0.65065,     0.65165,     0.65265,     0.65365,     0.65465,     0.65566,     0.65666,     0.65766,     0.65866,     0.65966,     0.66066,     0.66166,     0.66266,     0.66366,     0.66466,     0.66567,     0.66667,     0.66767,     0.66867,     0.66967,     0.67067,     0.67167,\n",
              "           0.67267,     0.67367,     0.67467,     0.67568,     0.67668,     0.67768,     0.67868,     0.67968,     0.68068,     0.68168,     0.68268,     0.68368,     0.68468,     0.68569,     0.68669,     0.68769,     0.68869,     0.68969,     0.69069,     0.69169,     0.69269,     0.69369,     0.69469,      0.6957,\n",
              "            0.6967,      0.6977,      0.6987,      0.6997,      0.7007,      0.7017,      0.7027,      0.7037,      0.7047,     0.70571,     0.70671,     0.70771,     0.70871,     0.70971,     0.71071,     0.71171,     0.71271,     0.71371,     0.71471,     0.71572,     0.71672,     0.71772,     0.71872,     0.71972,\n",
              "           0.72072,     0.72172,     0.72272,     0.72372,     0.72472,     0.72573,     0.72673,     0.72773,     0.72873,     0.72973,     0.73073,     0.73173,     0.73273,     0.73373,     0.73473,     0.73574,     0.73674,     0.73774,     0.73874,     0.73974,     0.74074,     0.74174,     0.74274,     0.74374,\n",
              "           0.74474,     0.74575,     0.74675,     0.74775,     0.74875,     0.74975,     0.75075,     0.75175,     0.75275,     0.75375,     0.75475,     0.75576,     0.75676,     0.75776,     0.75876,     0.75976,     0.76076,     0.76176,     0.76276,     0.76376,     0.76476,     0.76577,     0.76677,     0.76777,\n",
              "           0.76877,     0.76977,     0.77077,     0.77177,     0.77277,     0.77377,     0.77477,     0.77578,     0.77678,     0.77778,     0.77878,     0.77978,     0.78078,     0.78178,     0.78278,     0.78378,     0.78478,     0.78579,     0.78679,     0.78779,     0.78879,     0.78979,     0.79079,     0.79179,\n",
              "           0.79279,     0.79379,     0.79479,      0.7958,      0.7968,      0.7978,      0.7988,      0.7998,      0.8008,      0.8018,      0.8028,      0.8038,      0.8048,     0.80581,     0.80681,     0.80781,     0.80881,     0.80981,     0.81081,     0.81181,     0.81281,     0.81381,     0.81481,     0.81582,\n",
              "           0.81682,     0.81782,     0.81882,     0.81982,     0.82082,     0.82182,     0.82282,     0.82382,     0.82482,     0.82583,     0.82683,     0.82783,     0.82883,     0.82983,     0.83083,     0.83183,     0.83283,     0.83383,     0.83483,     0.83584,     0.83684,     0.83784,     0.83884,     0.83984,\n",
              "           0.84084,     0.84184,     0.84284,     0.84384,     0.84484,     0.84585,     0.84685,     0.84785,     0.84885,     0.84985,     0.85085,     0.85185,     0.85285,     0.85385,     0.85485,     0.85586,     0.85686,     0.85786,     0.85886,     0.85986,     0.86086,     0.86186,     0.86286,     0.86386,\n",
              "           0.86486,     0.86587,     0.86687,     0.86787,     0.86887,     0.86987,     0.87087,     0.87187,     0.87287,     0.87387,     0.87487,     0.87588,     0.87688,     0.87788,     0.87888,     0.87988,     0.88088,     0.88188,     0.88288,     0.88388,     0.88488,     0.88589,     0.88689,     0.88789,\n",
              "           0.88889,     0.88989,     0.89089,     0.89189,     0.89289,     0.89389,     0.89489,      0.8959,      0.8969,      0.8979,      0.8989,      0.8999,      0.9009,      0.9019,      0.9029,      0.9039,      0.9049,     0.90591,     0.90691,     0.90791,     0.90891,     0.90991,     0.91091,     0.91191,\n",
              "           0.91291,     0.91391,     0.91491,     0.91592,     0.91692,     0.91792,     0.91892,     0.91992,     0.92092,     0.92192,     0.92292,     0.92392,     0.92492,     0.92593,     0.92693,     0.92793,     0.92893,     0.92993,     0.93093,     0.93193,     0.93293,     0.93393,     0.93493,     0.93594,\n",
              "           0.93694,     0.93794,     0.93894,     0.93994,     0.94094,     0.94194,     0.94294,     0.94394,     0.94494,     0.94595,     0.94695,     0.94795,     0.94895,     0.94995,     0.95095,     0.95195,     0.95295,     0.95395,     0.95495,     0.95596,     0.95696,     0.95796,     0.95896,     0.95996,\n",
              "           0.96096,     0.96196,     0.96296,     0.96396,     0.96496,     0.96597,     0.96697,     0.96797,     0.96897,     0.96997,     0.97097,     0.97197,     0.97297,     0.97397,     0.97497,     0.97598,     0.97698,     0.97798,     0.97898,     0.97998,     0.98098,     0.98198,     0.98298,     0.98398,\n",
              "           0.98498,     0.98599,     0.98699,     0.98799,     0.98899,     0.98999,     0.99099,     0.99199,     0.99299,     0.99399,     0.99499,       0.996,       0.997,       0.998,       0.999,           1]), array([[   0.058529,    0.058529,    0.058597, ...,           1,           1,           1],\n",
              "       [   0.083333,    0.083333,    0.095369, ...,           1,           1,           1],\n",
              "       [    0.11585,     0.11585,     0.11605, ...,           1,           1,           1],\n",
              "       ...,\n",
              "       [   0.030157,    0.030157,    0.030232, ...,           1,           1,           1],\n",
              "       [    0.43413,     0.43413,     0.43423, ...,           1,           1,           1],\n",
              "       [   0.088741,    0.088741,    0.089023, ...,           1,           1,           1]]), 'Confidence', 'Precision'], [array([          0,    0.001001,    0.002002,    0.003003,    0.004004,    0.005005,    0.006006,    0.007007,    0.008008,    0.009009,     0.01001,    0.011011,    0.012012,    0.013013,    0.014014,    0.015015,    0.016016,    0.017017,    0.018018,    0.019019,     0.02002,    0.021021,    0.022022,    0.023023,\n",
              "          0.024024,    0.025025,    0.026026,    0.027027,    0.028028,    0.029029,     0.03003,    0.031031,    0.032032,    0.033033,    0.034034,    0.035035,    0.036036,    0.037037,    0.038038,    0.039039,     0.04004,    0.041041,    0.042042,    0.043043,    0.044044,    0.045045,    0.046046,    0.047047,\n",
              "          0.048048,    0.049049,     0.05005,    0.051051,    0.052052,    0.053053,    0.054054,    0.055055,    0.056056,    0.057057,    0.058058,    0.059059,     0.06006,    0.061061,    0.062062,    0.063063,    0.064064,    0.065065,    0.066066,    0.067067,    0.068068,    0.069069,     0.07007,    0.071071,\n",
              "          0.072072,    0.073073,    0.074074,    0.075075,    0.076076,    0.077077,    0.078078,    0.079079,     0.08008,    0.081081,    0.082082,    0.083083,    0.084084,    0.085085,    0.086086,    0.087087,    0.088088,    0.089089,     0.09009,    0.091091,    0.092092,    0.093093,    0.094094,    0.095095,\n",
              "          0.096096,    0.097097,    0.098098,    0.099099,      0.1001,      0.1011,      0.1021,      0.1031,      0.1041,     0.10511,     0.10611,     0.10711,     0.10811,     0.10911,     0.11011,     0.11111,     0.11211,     0.11311,     0.11411,     0.11512,     0.11612,     0.11712,     0.11812,     0.11912,\n",
              "           0.12012,     0.12112,     0.12212,     0.12312,     0.12412,     0.12513,     0.12613,     0.12713,     0.12813,     0.12913,     0.13013,     0.13113,     0.13213,     0.13313,     0.13413,     0.13514,     0.13614,     0.13714,     0.13814,     0.13914,     0.14014,     0.14114,     0.14214,     0.14314,\n",
              "           0.14414,     0.14515,     0.14615,     0.14715,     0.14815,     0.14915,     0.15015,     0.15115,     0.15215,     0.15315,     0.15415,     0.15516,     0.15616,     0.15716,     0.15816,     0.15916,     0.16016,     0.16116,     0.16216,     0.16316,     0.16416,     0.16517,     0.16617,     0.16717,\n",
              "           0.16817,     0.16917,     0.17017,     0.17117,     0.17217,     0.17317,     0.17417,     0.17518,     0.17618,     0.17718,     0.17818,     0.17918,     0.18018,     0.18118,     0.18218,     0.18318,     0.18418,     0.18519,     0.18619,     0.18719,     0.18819,     0.18919,     0.19019,     0.19119,\n",
              "           0.19219,     0.19319,     0.19419,      0.1952,      0.1962,      0.1972,      0.1982,      0.1992,      0.2002,      0.2012,      0.2022,      0.2032,      0.2042,     0.20521,     0.20621,     0.20721,     0.20821,     0.20921,     0.21021,     0.21121,     0.21221,     0.21321,     0.21421,     0.21522,\n",
              "           0.21622,     0.21722,     0.21822,     0.21922,     0.22022,     0.22122,     0.22222,     0.22322,     0.22422,     0.22523,     0.22623,     0.22723,     0.22823,     0.22923,     0.23023,     0.23123,     0.23223,     0.23323,     0.23423,     0.23524,     0.23624,     0.23724,     0.23824,     0.23924,\n",
              "           0.24024,     0.24124,     0.24224,     0.24324,     0.24424,     0.24525,     0.24625,     0.24725,     0.24825,     0.24925,     0.25025,     0.25125,     0.25225,     0.25325,     0.25425,     0.25526,     0.25626,     0.25726,     0.25826,     0.25926,     0.26026,     0.26126,     0.26226,     0.26326,\n",
              "           0.26426,     0.26527,     0.26627,     0.26727,     0.26827,     0.26927,     0.27027,     0.27127,     0.27227,     0.27327,     0.27427,     0.27528,     0.27628,     0.27728,     0.27828,     0.27928,     0.28028,     0.28128,     0.28228,     0.28328,     0.28428,     0.28529,     0.28629,     0.28729,\n",
              "           0.28829,     0.28929,     0.29029,     0.29129,     0.29229,     0.29329,     0.29429,      0.2953,      0.2963,      0.2973,      0.2983,      0.2993,      0.3003,      0.3013,      0.3023,      0.3033,      0.3043,     0.30531,     0.30631,     0.30731,     0.30831,     0.30931,     0.31031,     0.31131,\n",
              "           0.31231,     0.31331,     0.31431,     0.31532,     0.31632,     0.31732,     0.31832,     0.31932,     0.32032,     0.32132,     0.32232,     0.32332,     0.32432,     0.32533,     0.32633,     0.32733,     0.32833,     0.32933,     0.33033,     0.33133,     0.33233,     0.33333,     0.33433,     0.33534,\n",
              "           0.33634,     0.33734,     0.33834,     0.33934,     0.34034,     0.34134,     0.34234,     0.34334,     0.34434,     0.34535,     0.34635,     0.34735,     0.34835,     0.34935,     0.35035,     0.35135,     0.35235,     0.35335,     0.35435,     0.35536,     0.35636,     0.35736,     0.35836,     0.35936,\n",
              "           0.36036,     0.36136,     0.36236,     0.36336,     0.36436,     0.36537,     0.36637,     0.36737,     0.36837,     0.36937,     0.37037,     0.37137,     0.37237,     0.37337,     0.37437,     0.37538,     0.37638,     0.37738,     0.37838,     0.37938,     0.38038,     0.38138,     0.38238,     0.38338,\n",
              "           0.38438,     0.38539,     0.38639,     0.38739,     0.38839,     0.38939,     0.39039,     0.39139,     0.39239,     0.39339,     0.39439,      0.3954,      0.3964,      0.3974,      0.3984,      0.3994,      0.4004,      0.4014,      0.4024,      0.4034,      0.4044,     0.40541,     0.40641,     0.40741,\n",
              "           0.40841,     0.40941,     0.41041,     0.41141,     0.41241,     0.41341,     0.41441,     0.41542,     0.41642,     0.41742,     0.41842,     0.41942,     0.42042,     0.42142,     0.42242,     0.42342,     0.42442,     0.42543,     0.42643,     0.42743,     0.42843,     0.42943,     0.43043,     0.43143,\n",
              "           0.43243,     0.43343,     0.43443,     0.43544,     0.43644,     0.43744,     0.43844,     0.43944,     0.44044,     0.44144,     0.44244,     0.44344,     0.44444,     0.44545,     0.44645,     0.44745,     0.44845,     0.44945,     0.45045,     0.45145,     0.45245,     0.45345,     0.45445,     0.45546,\n",
              "           0.45646,     0.45746,     0.45846,     0.45946,     0.46046,     0.46146,     0.46246,     0.46346,     0.46446,     0.46547,     0.46647,     0.46747,     0.46847,     0.46947,     0.47047,     0.47147,     0.47247,     0.47347,     0.47447,     0.47548,     0.47648,     0.47748,     0.47848,     0.47948,\n",
              "           0.48048,     0.48148,     0.48248,     0.48348,     0.48448,     0.48549,     0.48649,     0.48749,     0.48849,     0.48949,     0.49049,     0.49149,     0.49249,     0.49349,     0.49449,      0.4955,      0.4965,      0.4975,      0.4985,      0.4995,      0.5005,      0.5015,      0.5025,      0.5035,\n",
              "            0.5045,     0.50551,     0.50651,     0.50751,     0.50851,     0.50951,     0.51051,     0.51151,     0.51251,     0.51351,     0.51451,     0.51552,     0.51652,     0.51752,     0.51852,     0.51952,     0.52052,     0.52152,     0.52252,     0.52352,     0.52452,     0.52553,     0.52653,     0.52753,\n",
              "           0.52853,     0.52953,     0.53053,     0.53153,     0.53253,     0.53353,     0.53453,     0.53554,     0.53654,     0.53754,     0.53854,     0.53954,     0.54054,     0.54154,     0.54254,     0.54354,     0.54454,     0.54555,     0.54655,     0.54755,     0.54855,     0.54955,     0.55055,     0.55155,\n",
              "           0.55255,     0.55355,     0.55455,     0.55556,     0.55656,     0.55756,     0.55856,     0.55956,     0.56056,     0.56156,     0.56256,     0.56356,     0.56456,     0.56557,     0.56657,     0.56757,     0.56857,     0.56957,     0.57057,     0.57157,     0.57257,     0.57357,     0.57457,     0.57558,\n",
              "           0.57658,     0.57758,     0.57858,     0.57958,     0.58058,     0.58158,     0.58258,     0.58358,     0.58458,     0.58559,     0.58659,     0.58759,     0.58859,     0.58959,     0.59059,     0.59159,     0.59259,     0.59359,     0.59459,      0.5956,      0.5966,      0.5976,      0.5986,      0.5996,\n",
              "            0.6006,      0.6016,      0.6026,      0.6036,      0.6046,     0.60561,     0.60661,     0.60761,     0.60861,     0.60961,     0.61061,     0.61161,     0.61261,     0.61361,     0.61461,     0.61562,     0.61662,     0.61762,     0.61862,     0.61962,     0.62062,     0.62162,     0.62262,     0.62362,\n",
              "           0.62462,     0.62563,     0.62663,     0.62763,     0.62863,     0.62963,     0.63063,     0.63163,     0.63263,     0.63363,     0.63463,     0.63564,     0.63664,     0.63764,     0.63864,     0.63964,     0.64064,     0.64164,     0.64264,     0.64364,     0.64464,     0.64565,     0.64665,     0.64765,\n",
              "           0.64865,     0.64965,     0.65065,     0.65165,     0.65265,     0.65365,     0.65465,     0.65566,     0.65666,     0.65766,     0.65866,     0.65966,     0.66066,     0.66166,     0.66266,     0.66366,     0.66466,     0.66567,     0.66667,     0.66767,     0.66867,     0.66967,     0.67067,     0.67167,\n",
              "           0.67267,     0.67367,     0.67467,     0.67568,     0.67668,     0.67768,     0.67868,     0.67968,     0.68068,     0.68168,     0.68268,     0.68368,     0.68468,     0.68569,     0.68669,     0.68769,     0.68869,     0.68969,     0.69069,     0.69169,     0.69269,     0.69369,     0.69469,      0.6957,\n",
              "            0.6967,      0.6977,      0.6987,      0.6997,      0.7007,      0.7017,      0.7027,      0.7037,      0.7047,     0.70571,     0.70671,     0.70771,     0.70871,     0.70971,     0.71071,     0.71171,     0.71271,     0.71371,     0.71471,     0.71572,     0.71672,     0.71772,     0.71872,     0.71972,\n",
              "           0.72072,     0.72172,     0.72272,     0.72372,     0.72472,     0.72573,     0.72673,     0.72773,     0.72873,     0.72973,     0.73073,     0.73173,     0.73273,     0.73373,     0.73473,     0.73574,     0.73674,     0.73774,     0.73874,     0.73974,     0.74074,     0.74174,     0.74274,     0.74374,\n",
              "           0.74474,     0.74575,     0.74675,     0.74775,     0.74875,     0.74975,     0.75075,     0.75175,     0.75275,     0.75375,     0.75475,     0.75576,     0.75676,     0.75776,     0.75876,     0.75976,     0.76076,     0.76176,     0.76276,     0.76376,     0.76476,     0.76577,     0.76677,     0.76777,\n",
              "           0.76877,     0.76977,     0.77077,     0.77177,     0.77277,     0.77377,     0.77477,     0.77578,     0.77678,     0.77778,     0.77878,     0.77978,     0.78078,     0.78178,     0.78278,     0.78378,     0.78478,     0.78579,     0.78679,     0.78779,     0.78879,     0.78979,     0.79079,     0.79179,\n",
              "           0.79279,     0.79379,     0.79479,      0.7958,      0.7968,      0.7978,      0.7988,      0.7998,      0.8008,      0.8018,      0.8028,      0.8038,      0.8048,     0.80581,     0.80681,     0.80781,     0.80881,     0.80981,     0.81081,     0.81181,     0.81281,     0.81381,     0.81481,     0.81582,\n",
              "           0.81682,     0.81782,     0.81882,     0.81982,     0.82082,     0.82182,     0.82282,     0.82382,     0.82482,     0.82583,     0.82683,     0.82783,     0.82883,     0.82983,     0.83083,     0.83183,     0.83283,     0.83383,     0.83483,     0.83584,     0.83684,     0.83784,     0.83884,     0.83984,\n",
              "           0.84084,     0.84184,     0.84284,     0.84384,     0.84484,     0.84585,     0.84685,     0.84785,     0.84885,     0.84985,     0.85085,     0.85185,     0.85285,     0.85385,     0.85485,     0.85586,     0.85686,     0.85786,     0.85886,     0.85986,     0.86086,     0.86186,     0.86286,     0.86386,\n",
              "           0.86486,     0.86587,     0.86687,     0.86787,     0.86887,     0.86987,     0.87087,     0.87187,     0.87287,     0.87387,     0.87487,     0.87588,     0.87688,     0.87788,     0.87888,     0.87988,     0.88088,     0.88188,     0.88288,     0.88388,     0.88488,     0.88589,     0.88689,     0.88789,\n",
              "           0.88889,     0.88989,     0.89089,     0.89189,     0.89289,     0.89389,     0.89489,      0.8959,      0.8969,      0.8979,      0.8989,      0.8999,      0.9009,      0.9019,      0.9029,      0.9039,      0.9049,     0.90591,     0.90691,     0.90791,     0.90891,     0.90991,     0.91091,     0.91191,\n",
              "           0.91291,     0.91391,     0.91491,     0.91592,     0.91692,     0.91792,     0.91892,     0.91992,     0.92092,     0.92192,     0.92292,     0.92392,     0.92492,     0.92593,     0.92693,     0.92793,     0.92893,     0.92993,     0.93093,     0.93193,     0.93293,     0.93393,     0.93493,     0.93594,\n",
              "           0.93694,     0.93794,     0.93894,     0.93994,     0.94094,     0.94194,     0.94294,     0.94394,     0.94494,     0.94595,     0.94695,     0.94795,     0.94895,     0.94995,     0.95095,     0.95195,     0.95295,     0.95395,     0.95495,     0.95596,     0.95696,     0.95796,     0.95896,     0.95996,\n",
              "           0.96096,     0.96196,     0.96296,     0.96396,     0.96496,     0.96597,     0.96697,     0.96797,     0.96897,     0.96997,     0.97097,     0.97197,     0.97297,     0.97397,     0.97497,     0.97598,     0.97698,     0.97798,     0.97898,     0.97998,     0.98098,     0.98198,     0.98298,     0.98398,\n",
              "           0.98498,     0.98599,     0.98699,     0.98799,     0.98899,     0.98999,     0.99099,     0.99199,     0.99299,     0.99399,     0.99499,       0.996,       0.997,       0.998,       0.999,           1]), array([[    0.53147,     0.53147,     0.53147, ...,           0,           0,           0],\n",
              "       [   0.017857,    0.017857,    0.017857, ...,           0,           0,           0],\n",
              "       [     0.7589,      0.7589,      0.7589, ...,           0,           0,           0],\n",
              "       ...,\n",
              "       [    0.60976,     0.60976,     0.60976, ...,           0,           0,           0],\n",
              "       [    0.99315,     0.99315,     0.99315, ...,           0,           0,           0],\n",
              "       [    0.81026,     0.81026,     0.81026, ...,           0,           0,           0]]), 'Confidence', 'Recall']]\n",
              "fitness: 0.1637089032344669\n",
              "keys: ['metrics/precision(B)', 'metrics/recall(B)', 'metrics/mAP50(B)', 'metrics/mAP50-95(B)']\n",
              "maps: array([   0.035938,    0.033696,      0.2369,   0.0049779,    0.082571,    0.020953,     0.07273,    0.019081,    0.079327,     0.31056,    0.021275,     0.30829,    0.083328,    0.024584,     0.85063,     0.26136])\n",
              "names: {0: 'Arugula', 1: 'Bacon', 2: 'Basil', 3: 'Broccoli', 4: 'Cheese', 5: 'Chicken', 6: 'Corn', 7: 'Ham', 8: 'Mushroom', 9: 'Olives', 10: 'Onion', 11: 'Pepperoni', 12: 'Peppers', 13: 'Pineapple', 14: 'Pizza', 15: 'Tomatoes'}\n",
              "plot: True\n",
              "results_dict: {'metrics/precision(B)': 0.41436130847126473, 'metrics/recall(B)': 0.28479178047461107, 'metrics/mAP50(B)': 0.2611017105899692, 'metrics/mAP50-95(B)': 0.15288748019496662, 'fitness': 0.1637089032344669}\n",
              "save_dir: WindowsPath('runs/detect/train')\n",
              "speed: {'preprocess': 0.264230748297463, 'inference': 3.448461143063827, 'loss': 0.0, 'postprocess': 5.576503108924543}\n",
              "task: 'detect'"
            ]
          },
          "execution_count": 7,
          "metadata": {},
          "output_type": "execute_result"
        }
      ],
      "source": [
        "# Specifying the paths\n",
        "model_path = 'yolov8s.pt'\n",
        "yaml_path = 'C:\\GitHubRepository\\Advanced-Computer-Vision-for-Artificial-Intelligence\\Part_3_Object_Detection\\YOLOv8\\datasets\\Pizza-Object-Detector-7\\data.yaml'\n",
        "\n",
        "# Creating YOLO object\n",
        "model = YOLO(model_path)\n",
        "\n",
        "# Specifying training parameters\n",
        "num_epochs = 100  # Number of epochs\n",
        "batch_size = 8  # Adjust based on GPU memory\n",
        "image_size = 640  # Decrease for faster training\n",
        "\n",
        "# Training configuration\n",
        "train_config = {\n",
        "    'data': yaml_path,\n",
        "    'imgsz': image_size,\n",
        "    'batch': batch_size,\n",
        "    'epochs': num_epochs,\n",
        "    'device': 0,  # Use GPU 0\n",
        "    'workers': 1,  # Number of data loading workers\n",
        "    'optimizer': 'Adam',  # Use Adam optimizer\n",
        "    'cache': True,  # Cache images for faster training\n",
        "    'rect': True,  # Use rectangle images\n",
        "    'patience': 15,  # epochs to wait before decreasing LR\n",
        "    'weight_decay': 0.0005,  # Weight decay\n",
        "    'lr0': 0.001,  # Initial learning rate\n",
        "    'momentum': 0.9,  # Momentum\n",
        "    'dropout': 0.5,  # Dropout rate\n",
        "    'val': True,  # Run validation during training\n",
        "    'plots': True,  # Run plots during training\n",
        "}\n",
        "\n",
        "# Train the model\n",
        "model.train(**train_config)"
      ]
    },
    {
      "cell_type": "markdown",
      "metadata": {
        "id": "6ODk1VTlevxn"
      },
      "source": [
        "**<h3>Validating the YOLOv8 model on the Validation subset.</h3>**"
      ]
    },
    {
      "cell_type": "code",
      "execution_count": 8,
      "metadata": {
        "colab": {
          "base_uri": "https://localhost:8080/"
        },
        "id": "IkrxsRHoV67H",
        "outputId": "ecb3eac0-3a4f-4df6-fdb0-9db829ad7a76"
      },
      "outputs": [],
      "source": [
        "locale.getpreferredencoding = lambda: \"UTF-8\"\n",
        "# !pip install aspose-words"
      ]
    },
    {
      "cell_type": "code",
      "execution_count": 19,
      "metadata": {
        "colab": {
          "base_uri": "https://localhost:8080/"
        },
        "id": "YpyuwrNlXc1P",
        "outputId": "f4718557-cd29-4208-d5fa-ad0776a893b7"
      },
      "outputs": [],
      "source": [
        "model.val() #This will output a train file however it will be on the validation data"
      ]
    },
    {
      "cell_type": "markdown",
      "metadata": {},
      "source": [
        "**<h3>Validating the YOLOv8 model on the Testing subset.</h3>**"
      ]
    },
    {
      "cell_type": "code",
      "execution_count": 11,
      "metadata": {},
      "outputs": [
        {
          "name": "stdout",
          "output_type": "stream",
          "text": [
            "Ultralytics YOLOv8.0.226 🚀 Python-3.9.18 torch-2.0.1+cu117 CUDA:0 (NVIDIA GeForce RTX 3060 Ti, 8191MiB)\n"
          ]
        },
        {
          "name": "stderr",
          "output_type": "stream",
          "text": [
            "\u001b[34m\u001b[1mval: \u001b[0mScanning C:\\GitHubRepository\\Advanced-Computer-Vision-for-Artificial-Intelligence\\Part_3_Object_Detection\\YOLOv8\\datasets\\Pizza-Object-Detector-7\\test\\labels... 283 images, 0 backgrounds, 0 corrupt: 100%|██████████| 283/283 [00:00<00:00, 483.58it/s]\n"
          ]
        },
        {
          "name": "stdout",
          "output_type": "stream",
          "text": [
            "\u001b[34m\u001b[1mval: \u001b[0mNew cache created: C:\\GitHubRepository\\Advanced-Computer-Vision-for-Artificial-Intelligence\\Part_3_Object_Detection\\YOLOv8\\datasets\\Pizza-Object-Detector-7\\test\\labels.cache\n"
          ]
        },
        {
          "name": "stderr",
          "output_type": "stream",
          "text": [
            "\u001b[34m\u001b[1mval: \u001b[0mCaching images (0.3GB True): 100%|██████████| 283/283 [00:00<00:00, 479.06it/s]\n",
            "                 Class     Images  Instances      Box(P          R      mAP50  mAP50-95): 100%|██████████| 36/36 [00:05<00:00,  6.61it/s]\n"
          ]
        },
        {
          "name": "stdout",
          "output_type": "stream",
          "text": [
            "                   all        283       5846      0.453        0.3      0.288      0.159\n",
            "               Arugula        283        209          0          0      0.108     0.0378\n",
            "                 Bacon        283         49          1          0          0          0\n",
            "                 Basil        283        492      0.497      0.581      0.515      0.255\n",
            "              Broccoli        283         31          1          0     0.0262     0.0112\n",
            "                Cheese        283        620      0.247      0.355      0.197      0.075\n",
            "               Chicken        283        184     0.0877     0.0543     0.0497     0.0248\n",
            "                  Corn        283        184      0.175      0.196      0.103     0.0395\n",
            "                   Ham        283        277       0.14     0.0325     0.0625     0.0277\n",
            "              Mushroom        283        456      0.335      0.378      0.279      0.129\n",
            "                Olives        283        580      0.581      0.402      0.476      0.185\n",
            "                 Onion        283        204      0.288      0.127       0.14     0.0598\n",
            "             Pepperoni        283        849      0.396      0.836      0.651      0.378\n",
            "               Peppers        283        555      0.379      0.351      0.351      0.166\n",
            "             Pineapple        283         98      0.643      0.122      0.207      0.106\n",
            "                 Pizza        283        313      0.904      0.933      0.946      0.818\n",
            "              Tomatoes        283        745      0.583      0.439      0.499      0.234\n",
            "Speed: 0.3ms preprocess, 5.8ms inference, 0.0ms loss, 4.5ms postprocess per image\n",
            "Results saved to \u001b[1mruns\\detect\\train3\u001b[0m\n"
          ]
        },
        {
          "data": {
            "text/plain": [
              "ultralytics.utils.metrics.DetMetrics object with attributes:\n",
              "\n",
              "ap_class_index: array([ 0,  1,  2,  3,  4,  5,  6,  7,  8,  9, 10, 11, 12, 13, 14, 15])\n",
              "box: ultralytics.utils.metrics.Metric object\n",
              "confusion_matrix: <ultralytics.utils.metrics.ConfusionMatrix object at 0x000002113B92E6A0>\n",
              "curves: ['Precision-Recall(B)', 'F1-Confidence(B)', 'Precision-Confidence(B)', 'Recall-Confidence(B)']\n",
              "curves_results: [[array([          0,    0.001001,    0.002002,    0.003003,    0.004004,    0.005005,    0.006006,    0.007007,    0.008008,    0.009009,     0.01001,    0.011011,    0.012012,    0.013013,    0.014014,    0.015015,    0.016016,    0.017017,    0.018018,    0.019019,     0.02002,    0.021021,    0.022022,    0.023023,\n",
              "          0.024024,    0.025025,    0.026026,    0.027027,    0.028028,    0.029029,     0.03003,    0.031031,    0.032032,    0.033033,    0.034034,    0.035035,    0.036036,    0.037037,    0.038038,    0.039039,     0.04004,    0.041041,    0.042042,    0.043043,    0.044044,    0.045045,    0.046046,    0.047047,\n",
              "          0.048048,    0.049049,     0.05005,    0.051051,    0.052052,    0.053053,    0.054054,    0.055055,    0.056056,    0.057057,    0.058058,    0.059059,     0.06006,    0.061061,    0.062062,    0.063063,    0.064064,    0.065065,    0.066066,    0.067067,    0.068068,    0.069069,     0.07007,    0.071071,\n",
              "          0.072072,    0.073073,    0.074074,    0.075075,    0.076076,    0.077077,    0.078078,    0.079079,     0.08008,    0.081081,    0.082082,    0.083083,    0.084084,    0.085085,    0.086086,    0.087087,    0.088088,    0.089089,     0.09009,    0.091091,    0.092092,    0.093093,    0.094094,    0.095095,\n",
              "          0.096096,    0.097097,    0.098098,    0.099099,      0.1001,      0.1011,      0.1021,      0.1031,      0.1041,     0.10511,     0.10611,     0.10711,     0.10811,     0.10911,     0.11011,     0.11111,     0.11211,     0.11311,     0.11411,     0.11512,     0.11612,     0.11712,     0.11812,     0.11912,\n",
              "           0.12012,     0.12112,     0.12212,     0.12312,     0.12412,     0.12513,     0.12613,     0.12713,     0.12813,     0.12913,     0.13013,     0.13113,     0.13213,     0.13313,     0.13413,     0.13514,     0.13614,     0.13714,     0.13814,     0.13914,     0.14014,     0.14114,     0.14214,     0.14314,\n",
              "           0.14414,     0.14515,     0.14615,     0.14715,     0.14815,     0.14915,     0.15015,     0.15115,     0.15215,     0.15315,     0.15415,     0.15516,     0.15616,     0.15716,     0.15816,     0.15916,     0.16016,     0.16116,     0.16216,     0.16316,     0.16416,     0.16517,     0.16617,     0.16717,\n",
              "           0.16817,     0.16917,     0.17017,     0.17117,     0.17217,     0.17317,     0.17417,     0.17518,     0.17618,     0.17718,     0.17818,     0.17918,     0.18018,     0.18118,     0.18218,     0.18318,     0.18418,     0.18519,     0.18619,     0.18719,     0.18819,     0.18919,     0.19019,     0.19119,\n",
              "           0.19219,     0.19319,     0.19419,      0.1952,      0.1962,      0.1972,      0.1982,      0.1992,      0.2002,      0.2012,      0.2022,      0.2032,      0.2042,     0.20521,     0.20621,     0.20721,     0.20821,     0.20921,     0.21021,     0.21121,     0.21221,     0.21321,     0.21421,     0.21522,\n",
              "           0.21622,     0.21722,     0.21822,     0.21922,     0.22022,     0.22122,     0.22222,     0.22322,     0.22422,     0.22523,     0.22623,     0.22723,     0.22823,     0.22923,     0.23023,     0.23123,     0.23223,     0.23323,     0.23423,     0.23524,     0.23624,     0.23724,     0.23824,     0.23924,\n",
              "           0.24024,     0.24124,     0.24224,     0.24324,     0.24424,     0.24525,     0.24625,     0.24725,     0.24825,     0.24925,     0.25025,     0.25125,     0.25225,     0.25325,     0.25425,     0.25526,     0.25626,     0.25726,     0.25826,     0.25926,     0.26026,     0.26126,     0.26226,     0.26326,\n",
              "           0.26426,     0.26527,     0.26627,     0.26727,     0.26827,     0.26927,     0.27027,     0.27127,     0.27227,     0.27327,     0.27427,     0.27528,     0.27628,     0.27728,     0.27828,     0.27928,     0.28028,     0.28128,     0.28228,     0.28328,     0.28428,     0.28529,     0.28629,     0.28729,\n",
              "           0.28829,     0.28929,     0.29029,     0.29129,     0.29229,     0.29329,     0.29429,      0.2953,      0.2963,      0.2973,      0.2983,      0.2993,      0.3003,      0.3013,      0.3023,      0.3033,      0.3043,     0.30531,     0.30631,     0.30731,     0.30831,     0.30931,     0.31031,     0.31131,\n",
              "           0.31231,     0.31331,     0.31431,     0.31532,     0.31632,     0.31732,     0.31832,     0.31932,     0.32032,     0.32132,     0.32232,     0.32332,     0.32432,     0.32533,     0.32633,     0.32733,     0.32833,     0.32933,     0.33033,     0.33133,     0.33233,     0.33333,     0.33433,     0.33534,\n",
              "           0.33634,     0.33734,     0.33834,     0.33934,     0.34034,     0.34134,     0.34234,     0.34334,     0.34434,     0.34535,     0.34635,     0.34735,     0.34835,     0.34935,     0.35035,     0.35135,     0.35235,     0.35335,     0.35435,     0.35536,     0.35636,     0.35736,     0.35836,     0.35936,\n",
              "           0.36036,     0.36136,     0.36236,     0.36336,     0.36436,     0.36537,     0.36637,     0.36737,     0.36837,     0.36937,     0.37037,     0.37137,     0.37237,     0.37337,     0.37437,     0.37538,     0.37638,     0.37738,     0.37838,     0.37938,     0.38038,     0.38138,     0.38238,     0.38338,\n",
              "           0.38438,     0.38539,     0.38639,     0.38739,     0.38839,     0.38939,     0.39039,     0.39139,     0.39239,     0.39339,     0.39439,      0.3954,      0.3964,      0.3974,      0.3984,      0.3994,      0.4004,      0.4014,      0.4024,      0.4034,      0.4044,     0.40541,     0.40641,     0.40741,\n",
              "           0.40841,     0.40941,     0.41041,     0.41141,     0.41241,     0.41341,     0.41441,     0.41542,     0.41642,     0.41742,     0.41842,     0.41942,     0.42042,     0.42142,     0.42242,     0.42342,     0.42442,     0.42543,     0.42643,     0.42743,     0.42843,     0.42943,     0.43043,     0.43143,\n",
              "           0.43243,     0.43343,     0.43443,     0.43544,     0.43644,     0.43744,     0.43844,     0.43944,     0.44044,     0.44144,     0.44244,     0.44344,     0.44444,     0.44545,     0.44645,     0.44745,     0.44845,     0.44945,     0.45045,     0.45145,     0.45245,     0.45345,     0.45445,     0.45546,\n",
              "           0.45646,     0.45746,     0.45846,     0.45946,     0.46046,     0.46146,     0.46246,     0.46346,     0.46446,     0.46547,     0.46647,     0.46747,     0.46847,     0.46947,     0.47047,     0.47147,     0.47247,     0.47347,     0.47447,     0.47548,     0.47648,     0.47748,     0.47848,     0.47948,\n",
              "           0.48048,     0.48148,     0.48248,     0.48348,     0.48448,     0.48549,     0.48649,     0.48749,     0.48849,     0.48949,     0.49049,     0.49149,     0.49249,     0.49349,     0.49449,      0.4955,      0.4965,      0.4975,      0.4985,      0.4995,      0.5005,      0.5015,      0.5025,      0.5035,\n",
              "            0.5045,     0.50551,     0.50651,     0.50751,     0.50851,     0.50951,     0.51051,     0.51151,     0.51251,     0.51351,     0.51451,     0.51552,     0.51652,     0.51752,     0.51852,     0.51952,     0.52052,     0.52152,     0.52252,     0.52352,     0.52452,     0.52553,     0.52653,     0.52753,\n",
              "           0.52853,     0.52953,     0.53053,     0.53153,     0.53253,     0.53353,     0.53453,     0.53554,     0.53654,     0.53754,     0.53854,     0.53954,     0.54054,     0.54154,     0.54254,     0.54354,     0.54454,     0.54555,     0.54655,     0.54755,     0.54855,     0.54955,     0.55055,     0.55155,\n",
              "           0.55255,     0.55355,     0.55455,     0.55556,     0.55656,     0.55756,     0.55856,     0.55956,     0.56056,     0.56156,     0.56256,     0.56356,     0.56456,     0.56557,     0.56657,     0.56757,     0.56857,     0.56957,     0.57057,     0.57157,     0.57257,     0.57357,     0.57457,     0.57558,\n",
              "           0.57658,     0.57758,     0.57858,     0.57958,     0.58058,     0.58158,     0.58258,     0.58358,     0.58458,     0.58559,     0.58659,     0.58759,     0.58859,     0.58959,     0.59059,     0.59159,     0.59259,     0.59359,     0.59459,      0.5956,      0.5966,      0.5976,      0.5986,      0.5996,\n",
              "            0.6006,      0.6016,      0.6026,      0.6036,      0.6046,     0.60561,     0.60661,     0.60761,     0.60861,     0.60961,     0.61061,     0.61161,     0.61261,     0.61361,     0.61461,     0.61562,     0.61662,     0.61762,     0.61862,     0.61962,     0.62062,     0.62162,     0.62262,     0.62362,\n",
              "           0.62462,     0.62563,     0.62663,     0.62763,     0.62863,     0.62963,     0.63063,     0.63163,     0.63263,     0.63363,     0.63463,     0.63564,     0.63664,     0.63764,     0.63864,     0.63964,     0.64064,     0.64164,     0.64264,     0.64364,     0.64464,     0.64565,     0.64665,     0.64765,\n",
              "           0.64865,     0.64965,     0.65065,     0.65165,     0.65265,     0.65365,     0.65465,     0.65566,     0.65666,     0.65766,     0.65866,     0.65966,     0.66066,     0.66166,     0.66266,     0.66366,     0.66466,     0.66567,     0.66667,     0.66767,     0.66867,     0.66967,     0.67067,     0.67167,\n",
              "           0.67267,     0.67367,     0.67467,     0.67568,     0.67668,     0.67768,     0.67868,     0.67968,     0.68068,     0.68168,     0.68268,     0.68368,     0.68468,     0.68569,     0.68669,     0.68769,     0.68869,     0.68969,     0.69069,     0.69169,     0.69269,     0.69369,     0.69469,      0.6957,\n",
              "            0.6967,      0.6977,      0.6987,      0.6997,      0.7007,      0.7017,      0.7027,      0.7037,      0.7047,     0.70571,     0.70671,     0.70771,     0.70871,     0.70971,     0.71071,     0.71171,     0.71271,     0.71371,     0.71471,     0.71572,     0.71672,     0.71772,     0.71872,     0.71972,\n",
              "           0.72072,     0.72172,     0.72272,     0.72372,     0.72472,     0.72573,     0.72673,     0.72773,     0.72873,     0.72973,     0.73073,     0.73173,     0.73273,     0.73373,     0.73473,     0.73574,     0.73674,     0.73774,     0.73874,     0.73974,     0.74074,     0.74174,     0.74274,     0.74374,\n",
              "           0.74474,     0.74575,     0.74675,     0.74775,     0.74875,     0.74975,     0.75075,     0.75175,     0.75275,     0.75375,     0.75475,     0.75576,     0.75676,     0.75776,     0.75876,     0.75976,     0.76076,     0.76176,     0.76276,     0.76376,     0.76476,     0.76577,     0.76677,     0.76777,\n",
              "           0.76877,     0.76977,     0.77077,     0.77177,     0.77277,     0.77377,     0.77477,     0.77578,     0.77678,     0.77778,     0.77878,     0.77978,     0.78078,     0.78178,     0.78278,     0.78378,     0.78478,     0.78579,     0.78679,     0.78779,     0.78879,     0.78979,     0.79079,     0.79179,\n",
              "           0.79279,     0.79379,     0.79479,      0.7958,      0.7968,      0.7978,      0.7988,      0.7998,      0.8008,      0.8018,      0.8028,      0.8038,      0.8048,     0.80581,     0.80681,     0.80781,     0.80881,     0.80981,     0.81081,     0.81181,     0.81281,     0.81381,     0.81481,     0.81582,\n",
              "           0.81682,     0.81782,     0.81882,     0.81982,     0.82082,     0.82182,     0.82282,     0.82382,     0.82482,     0.82583,     0.82683,     0.82783,     0.82883,     0.82983,     0.83083,     0.83183,     0.83283,     0.83383,     0.83483,     0.83584,     0.83684,     0.83784,     0.83884,     0.83984,\n",
              "           0.84084,     0.84184,     0.84284,     0.84384,     0.84484,     0.84585,     0.84685,     0.84785,     0.84885,     0.84985,     0.85085,     0.85185,     0.85285,     0.85385,     0.85485,     0.85586,     0.85686,     0.85786,     0.85886,     0.85986,     0.86086,     0.86186,     0.86286,     0.86386,\n",
              "           0.86486,     0.86587,     0.86687,     0.86787,     0.86887,     0.86987,     0.87087,     0.87187,     0.87287,     0.87387,     0.87487,     0.87588,     0.87688,     0.87788,     0.87888,     0.87988,     0.88088,     0.88188,     0.88288,     0.88388,     0.88488,     0.88589,     0.88689,     0.88789,\n",
              "           0.88889,     0.88989,     0.89089,     0.89189,     0.89289,     0.89389,     0.89489,      0.8959,      0.8969,      0.8979,      0.8989,      0.8999,      0.9009,      0.9019,      0.9029,      0.9039,      0.9049,     0.90591,     0.90691,     0.90791,     0.90891,     0.90991,     0.91091,     0.91191,\n",
              "           0.91291,     0.91391,     0.91491,     0.91592,     0.91692,     0.91792,     0.91892,     0.91992,     0.92092,     0.92192,     0.92292,     0.92392,     0.92492,     0.92593,     0.92693,     0.92793,     0.92893,     0.92993,     0.93093,     0.93193,     0.93293,     0.93393,     0.93493,     0.93594,\n",
              "           0.93694,     0.93794,     0.93894,     0.93994,     0.94094,     0.94194,     0.94294,     0.94394,     0.94494,     0.94595,     0.94695,     0.94795,     0.94895,     0.94995,     0.95095,     0.95195,     0.95295,     0.95395,     0.95495,     0.95596,     0.95696,     0.95796,     0.95896,     0.95996,\n",
              "           0.96096,     0.96196,     0.96296,     0.96396,     0.96496,     0.96597,     0.96697,     0.96797,     0.96897,     0.96997,     0.97097,     0.97197,     0.97297,     0.97397,     0.97497,     0.97598,     0.97698,     0.97798,     0.97898,     0.97998,     0.98098,     0.98198,     0.98298,     0.98398,\n",
              "           0.98498,     0.98599,     0.98699,     0.98799,     0.98899,     0.98999,     0.99099,     0.99199,     0.99299,     0.99399,     0.99499,       0.996,       0.997,       0.998,       0.999,           1]), array([[    0.33333,     0.33333,     0.33333, ...,  0.00035748,  0.00017874,           0],\n",
              "       [          0,           0,           0, ...,           0,           0,           0],\n",
              "       [          1,           1,           1, ...,   0.0013726,  0.00068632,           0],\n",
              "       ...,\n",
              "       [          1,           1,           1, ...,   0.0002625,  0.00013125,           0],\n",
              "       [          1,           1,           1, ...,    0.014588,   0.0072938,           0],\n",
              "       [          1,           1,           1, ...,   0.0010798,   0.0005399,           0]]), 'Recall', 'Precision'], [array([          0,    0.001001,    0.002002,    0.003003,    0.004004,    0.005005,    0.006006,    0.007007,    0.008008,    0.009009,     0.01001,    0.011011,    0.012012,    0.013013,    0.014014,    0.015015,    0.016016,    0.017017,    0.018018,    0.019019,     0.02002,    0.021021,    0.022022,    0.023023,\n",
              "          0.024024,    0.025025,    0.026026,    0.027027,    0.028028,    0.029029,     0.03003,    0.031031,    0.032032,    0.033033,    0.034034,    0.035035,    0.036036,    0.037037,    0.038038,    0.039039,     0.04004,    0.041041,    0.042042,    0.043043,    0.044044,    0.045045,    0.046046,    0.047047,\n",
              "          0.048048,    0.049049,     0.05005,    0.051051,    0.052052,    0.053053,    0.054054,    0.055055,    0.056056,    0.057057,    0.058058,    0.059059,     0.06006,    0.061061,    0.062062,    0.063063,    0.064064,    0.065065,    0.066066,    0.067067,    0.068068,    0.069069,     0.07007,    0.071071,\n",
              "          0.072072,    0.073073,    0.074074,    0.075075,    0.076076,    0.077077,    0.078078,    0.079079,     0.08008,    0.081081,    0.082082,    0.083083,    0.084084,    0.085085,    0.086086,    0.087087,    0.088088,    0.089089,     0.09009,    0.091091,    0.092092,    0.093093,    0.094094,    0.095095,\n",
              "          0.096096,    0.097097,    0.098098,    0.099099,      0.1001,      0.1011,      0.1021,      0.1031,      0.1041,     0.10511,     0.10611,     0.10711,     0.10811,     0.10911,     0.11011,     0.11111,     0.11211,     0.11311,     0.11411,     0.11512,     0.11612,     0.11712,     0.11812,     0.11912,\n",
              "           0.12012,     0.12112,     0.12212,     0.12312,     0.12412,     0.12513,     0.12613,     0.12713,     0.12813,     0.12913,     0.13013,     0.13113,     0.13213,     0.13313,     0.13413,     0.13514,     0.13614,     0.13714,     0.13814,     0.13914,     0.14014,     0.14114,     0.14214,     0.14314,\n",
              "           0.14414,     0.14515,     0.14615,     0.14715,     0.14815,     0.14915,     0.15015,     0.15115,     0.15215,     0.15315,     0.15415,     0.15516,     0.15616,     0.15716,     0.15816,     0.15916,     0.16016,     0.16116,     0.16216,     0.16316,     0.16416,     0.16517,     0.16617,     0.16717,\n",
              "           0.16817,     0.16917,     0.17017,     0.17117,     0.17217,     0.17317,     0.17417,     0.17518,     0.17618,     0.17718,     0.17818,     0.17918,     0.18018,     0.18118,     0.18218,     0.18318,     0.18418,     0.18519,     0.18619,     0.18719,     0.18819,     0.18919,     0.19019,     0.19119,\n",
              "           0.19219,     0.19319,     0.19419,      0.1952,      0.1962,      0.1972,      0.1982,      0.1992,      0.2002,      0.2012,      0.2022,      0.2032,      0.2042,     0.20521,     0.20621,     0.20721,     0.20821,     0.20921,     0.21021,     0.21121,     0.21221,     0.21321,     0.21421,     0.21522,\n",
              "           0.21622,     0.21722,     0.21822,     0.21922,     0.22022,     0.22122,     0.22222,     0.22322,     0.22422,     0.22523,     0.22623,     0.22723,     0.22823,     0.22923,     0.23023,     0.23123,     0.23223,     0.23323,     0.23423,     0.23524,     0.23624,     0.23724,     0.23824,     0.23924,\n",
              "           0.24024,     0.24124,     0.24224,     0.24324,     0.24424,     0.24525,     0.24625,     0.24725,     0.24825,     0.24925,     0.25025,     0.25125,     0.25225,     0.25325,     0.25425,     0.25526,     0.25626,     0.25726,     0.25826,     0.25926,     0.26026,     0.26126,     0.26226,     0.26326,\n",
              "           0.26426,     0.26527,     0.26627,     0.26727,     0.26827,     0.26927,     0.27027,     0.27127,     0.27227,     0.27327,     0.27427,     0.27528,     0.27628,     0.27728,     0.27828,     0.27928,     0.28028,     0.28128,     0.28228,     0.28328,     0.28428,     0.28529,     0.28629,     0.28729,\n",
              "           0.28829,     0.28929,     0.29029,     0.29129,     0.29229,     0.29329,     0.29429,      0.2953,      0.2963,      0.2973,      0.2983,      0.2993,      0.3003,      0.3013,      0.3023,      0.3033,      0.3043,     0.30531,     0.30631,     0.30731,     0.30831,     0.30931,     0.31031,     0.31131,\n",
              "           0.31231,     0.31331,     0.31431,     0.31532,     0.31632,     0.31732,     0.31832,     0.31932,     0.32032,     0.32132,     0.32232,     0.32332,     0.32432,     0.32533,     0.32633,     0.32733,     0.32833,     0.32933,     0.33033,     0.33133,     0.33233,     0.33333,     0.33433,     0.33534,\n",
              "           0.33634,     0.33734,     0.33834,     0.33934,     0.34034,     0.34134,     0.34234,     0.34334,     0.34434,     0.34535,     0.34635,     0.34735,     0.34835,     0.34935,     0.35035,     0.35135,     0.35235,     0.35335,     0.35435,     0.35536,     0.35636,     0.35736,     0.35836,     0.35936,\n",
              "           0.36036,     0.36136,     0.36236,     0.36336,     0.36436,     0.36537,     0.36637,     0.36737,     0.36837,     0.36937,     0.37037,     0.37137,     0.37237,     0.37337,     0.37437,     0.37538,     0.37638,     0.37738,     0.37838,     0.37938,     0.38038,     0.38138,     0.38238,     0.38338,\n",
              "           0.38438,     0.38539,     0.38639,     0.38739,     0.38839,     0.38939,     0.39039,     0.39139,     0.39239,     0.39339,     0.39439,      0.3954,      0.3964,      0.3974,      0.3984,      0.3994,      0.4004,      0.4014,      0.4024,      0.4034,      0.4044,     0.40541,     0.40641,     0.40741,\n",
              "           0.40841,     0.40941,     0.41041,     0.41141,     0.41241,     0.41341,     0.41441,     0.41542,     0.41642,     0.41742,     0.41842,     0.41942,     0.42042,     0.42142,     0.42242,     0.42342,     0.42442,     0.42543,     0.42643,     0.42743,     0.42843,     0.42943,     0.43043,     0.43143,\n",
              "           0.43243,     0.43343,     0.43443,     0.43544,     0.43644,     0.43744,     0.43844,     0.43944,     0.44044,     0.44144,     0.44244,     0.44344,     0.44444,     0.44545,     0.44645,     0.44745,     0.44845,     0.44945,     0.45045,     0.45145,     0.45245,     0.45345,     0.45445,     0.45546,\n",
              "           0.45646,     0.45746,     0.45846,     0.45946,     0.46046,     0.46146,     0.46246,     0.46346,     0.46446,     0.46547,     0.46647,     0.46747,     0.46847,     0.46947,     0.47047,     0.47147,     0.47247,     0.47347,     0.47447,     0.47548,     0.47648,     0.47748,     0.47848,     0.47948,\n",
              "           0.48048,     0.48148,     0.48248,     0.48348,     0.48448,     0.48549,     0.48649,     0.48749,     0.48849,     0.48949,     0.49049,     0.49149,     0.49249,     0.49349,     0.49449,      0.4955,      0.4965,      0.4975,      0.4985,      0.4995,      0.5005,      0.5015,      0.5025,      0.5035,\n",
              "            0.5045,     0.50551,     0.50651,     0.50751,     0.50851,     0.50951,     0.51051,     0.51151,     0.51251,     0.51351,     0.51451,     0.51552,     0.51652,     0.51752,     0.51852,     0.51952,     0.52052,     0.52152,     0.52252,     0.52352,     0.52452,     0.52553,     0.52653,     0.52753,\n",
              "           0.52853,     0.52953,     0.53053,     0.53153,     0.53253,     0.53353,     0.53453,     0.53554,     0.53654,     0.53754,     0.53854,     0.53954,     0.54054,     0.54154,     0.54254,     0.54354,     0.54454,     0.54555,     0.54655,     0.54755,     0.54855,     0.54955,     0.55055,     0.55155,\n",
              "           0.55255,     0.55355,     0.55455,     0.55556,     0.55656,     0.55756,     0.55856,     0.55956,     0.56056,     0.56156,     0.56256,     0.56356,     0.56456,     0.56557,     0.56657,     0.56757,     0.56857,     0.56957,     0.57057,     0.57157,     0.57257,     0.57357,     0.57457,     0.57558,\n",
              "           0.57658,     0.57758,     0.57858,     0.57958,     0.58058,     0.58158,     0.58258,     0.58358,     0.58458,     0.58559,     0.58659,     0.58759,     0.58859,     0.58959,     0.59059,     0.59159,     0.59259,     0.59359,     0.59459,      0.5956,      0.5966,      0.5976,      0.5986,      0.5996,\n",
              "            0.6006,      0.6016,      0.6026,      0.6036,      0.6046,     0.60561,     0.60661,     0.60761,     0.60861,     0.60961,     0.61061,     0.61161,     0.61261,     0.61361,     0.61461,     0.61562,     0.61662,     0.61762,     0.61862,     0.61962,     0.62062,     0.62162,     0.62262,     0.62362,\n",
              "           0.62462,     0.62563,     0.62663,     0.62763,     0.62863,     0.62963,     0.63063,     0.63163,     0.63263,     0.63363,     0.63463,     0.63564,     0.63664,     0.63764,     0.63864,     0.63964,     0.64064,     0.64164,     0.64264,     0.64364,     0.64464,     0.64565,     0.64665,     0.64765,\n",
              "           0.64865,     0.64965,     0.65065,     0.65165,     0.65265,     0.65365,     0.65465,     0.65566,     0.65666,     0.65766,     0.65866,     0.65966,     0.66066,     0.66166,     0.66266,     0.66366,     0.66466,     0.66567,     0.66667,     0.66767,     0.66867,     0.66967,     0.67067,     0.67167,\n",
              "           0.67267,     0.67367,     0.67467,     0.67568,     0.67668,     0.67768,     0.67868,     0.67968,     0.68068,     0.68168,     0.68268,     0.68368,     0.68468,     0.68569,     0.68669,     0.68769,     0.68869,     0.68969,     0.69069,     0.69169,     0.69269,     0.69369,     0.69469,      0.6957,\n",
              "            0.6967,      0.6977,      0.6987,      0.6997,      0.7007,      0.7017,      0.7027,      0.7037,      0.7047,     0.70571,     0.70671,     0.70771,     0.70871,     0.70971,     0.71071,     0.71171,     0.71271,     0.71371,     0.71471,     0.71572,     0.71672,     0.71772,     0.71872,     0.71972,\n",
              "           0.72072,     0.72172,     0.72272,     0.72372,     0.72472,     0.72573,     0.72673,     0.72773,     0.72873,     0.72973,     0.73073,     0.73173,     0.73273,     0.73373,     0.73473,     0.73574,     0.73674,     0.73774,     0.73874,     0.73974,     0.74074,     0.74174,     0.74274,     0.74374,\n",
              "           0.74474,     0.74575,     0.74675,     0.74775,     0.74875,     0.74975,     0.75075,     0.75175,     0.75275,     0.75375,     0.75475,     0.75576,     0.75676,     0.75776,     0.75876,     0.75976,     0.76076,     0.76176,     0.76276,     0.76376,     0.76476,     0.76577,     0.76677,     0.76777,\n",
              "           0.76877,     0.76977,     0.77077,     0.77177,     0.77277,     0.77377,     0.77477,     0.77578,     0.77678,     0.77778,     0.77878,     0.77978,     0.78078,     0.78178,     0.78278,     0.78378,     0.78478,     0.78579,     0.78679,     0.78779,     0.78879,     0.78979,     0.79079,     0.79179,\n",
              "           0.79279,     0.79379,     0.79479,      0.7958,      0.7968,      0.7978,      0.7988,      0.7998,      0.8008,      0.8018,      0.8028,      0.8038,      0.8048,     0.80581,     0.80681,     0.80781,     0.80881,     0.80981,     0.81081,     0.81181,     0.81281,     0.81381,     0.81481,     0.81582,\n",
              "           0.81682,     0.81782,     0.81882,     0.81982,     0.82082,     0.82182,     0.82282,     0.82382,     0.82482,     0.82583,     0.82683,     0.82783,     0.82883,     0.82983,     0.83083,     0.83183,     0.83283,     0.83383,     0.83483,     0.83584,     0.83684,     0.83784,     0.83884,     0.83984,\n",
              "           0.84084,     0.84184,     0.84284,     0.84384,     0.84484,     0.84585,     0.84685,     0.84785,     0.84885,     0.84985,     0.85085,     0.85185,     0.85285,     0.85385,     0.85485,     0.85586,     0.85686,     0.85786,     0.85886,     0.85986,     0.86086,     0.86186,     0.86286,     0.86386,\n",
              "           0.86486,     0.86587,     0.86687,     0.86787,     0.86887,     0.86987,     0.87087,     0.87187,     0.87287,     0.87387,     0.87487,     0.87588,     0.87688,     0.87788,     0.87888,     0.87988,     0.88088,     0.88188,     0.88288,     0.88388,     0.88488,     0.88589,     0.88689,     0.88789,\n",
              "           0.88889,     0.88989,     0.89089,     0.89189,     0.89289,     0.89389,     0.89489,      0.8959,      0.8969,      0.8979,      0.8989,      0.8999,      0.9009,      0.9019,      0.9029,      0.9039,      0.9049,     0.90591,     0.90691,     0.90791,     0.90891,     0.90991,     0.91091,     0.91191,\n",
              "           0.91291,     0.91391,     0.91491,     0.91592,     0.91692,     0.91792,     0.91892,     0.91992,     0.92092,     0.92192,     0.92292,     0.92392,     0.92492,     0.92593,     0.92693,     0.92793,     0.92893,     0.92993,     0.93093,     0.93193,     0.93293,     0.93393,     0.93493,     0.93594,\n",
              "           0.93694,     0.93794,     0.93894,     0.93994,     0.94094,     0.94194,     0.94294,     0.94394,     0.94494,     0.94595,     0.94695,     0.94795,     0.94895,     0.94995,     0.95095,     0.95195,     0.95295,     0.95395,     0.95495,     0.95596,     0.95696,     0.95796,     0.95896,     0.95996,\n",
              "           0.96096,     0.96196,     0.96296,     0.96396,     0.96496,     0.96597,     0.96697,     0.96797,     0.96897,     0.96997,     0.97097,     0.97197,     0.97297,     0.97397,     0.97497,     0.97598,     0.97698,     0.97798,     0.97898,     0.97998,     0.98098,     0.98198,     0.98298,     0.98398,\n",
              "           0.98498,     0.98599,     0.98699,     0.98799,     0.98899,     0.98999,     0.99099,     0.99199,     0.99299,     0.99399,     0.99499,       0.996,       0.997,       0.998,       0.999,           1]), array([[    0.10698,     0.10698,     0.10722, ...,           0,           0,           0],\n",
              "       [          0,           0,           0, ...,           0,           0,           0],\n",
              "       [    0.17518,     0.17518,     0.17523, ...,           0,           0,           0],\n",
              "       ...,\n",
              "       [    0.10436,     0.10436,     0.10466, ...,           0,           0,           0],\n",
              "       [    0.58014,     0.58014,     0.58145, ...,           0,           0,           0],\n",
              "       [     0.1912,      0.1912,     0.19158, ...,           0,           0,           0]]), 'Confidence', 'F1'], [array([          0,    0.001001,    0.002002,    0.003003,    0.004004,    0.005005,    0.006006,    0.007007,    0.008008,    0.009009,     0.01001,    0.011011,    0.012012,    0.013013,    0.014014,    0.015015,    0.016016,    0.017017,    0.018018,    0.019019,     0.02002,    0.021021,    0.022022,    0.023023,\n",
              "          0.024024,    0.025025,    0.026026,    0.027027,    0.028028,    0.029029,     0.03003,    0.031031,    0.032032,    0.033033,    0.034034,    0.035035,    0.036036,    0.037037,    0.038038,    0.039039,     0.04004,    0.041041,    0.042042,    0.043043,    0.044044,    0.045045,    0.046046,    0.047047,\n",
              "          0.048048,    0.049049,     0.05005,    0.051051,    0.052052,    0.053053,    0.054054,    0.055055,    0.056056,    0.057057,    0.058058,    0.059059,     0.06006,    0.061061,    0.062062,    0.063063,    0.064064,    0.065065,    0.066066,    0.067067,    0.068068,    0.069069,     0.07007,    0.071071,\n",
              "          0.072072,    0.073073,    0.074074,    0.075075,    0.076076,    0.077077,    0.078078,    0.079079,     0.08008,    0.081081,    0.082082,    0.083083,    0.084084,    0.085085,    0.086086,    0.087087,    0.088088,    0.089089,     0.09009,    0.091091,    0.092092,    0.093093,    0.094094,    0.095095,\n",
              "          0.096096,    0.097097,    0.098098,    0.099099,      0.1001,      0.1011,      0.1021,      0.1031,      0.1041,     0.10511,     0.10611,     0.10711,     0.10811,     0.10911,     0.11011,     0.11111,     0.11211,     0.11311,     0.11411,     0.11512,     0.11612,     0.11712,     0.11812,     0.11912,\n",
              "           0.12012,     0.12112,     0.12212,     0.12312,     0.12412,     0.12513,     0.12613,     0.12713,     0.12813,     0.12913,     0.13013,     0.13113,     0.13213,     0.13313,     0.13413,     0.13514,     0.13614,     0.13714,     0.13814,     0.13914,     0.14014,     0.14114,     0.14214,     0.14314,\n",
              "           0.14414,     0.14515,     0.14615,     0.14715,     0.14815,     0.14915,     0.15015,     0.15115,     0.15215,     0.15315,     0.15415,     0.15516,     0.15616,     0.15716,     0.15816,     0.15916,     0.16016,     0.16116,     0.16216,     0.16316,     0.16416,     0.16517,     0.16617,     0.16717,\n",
              "           0.16817,     0.16917,     0.17017,     0.17117,     0.17217,     0.17317,     0.17417,     0.17518,     0.17618,     0.17718,     0.17818,     0.17918,     0.18018,     0.18118,     0.18218,     0.18318,     0.18418,     0.18519,     0.18619,     0.18719,     0.18819,     0.18919,     0.19019,     0.19119,\n",
              "           0.19219,     0.19319,     0.19419,      0.1952,      0.1962,      0.1972,      0.1982,      0.1992,      0.2002,      0.2012,      0.2022,      0.2032,      0.2042,     0.20521,     0.20621,     0.20721,     0.20821,     0.20921,     0.21021,     0.21121,     0.21221,     0.21321,     0.21421,     0.21522,\n",
              "           0.21622,     0.21722,     0.21822,     0.21922,     0.22022,     0.22122,     0.22222,     0.22322,     0.22422,     0.22523,     0.22623,     0.22723,     0.22823,     0.22923,     0.23023,     0.23123,     0.23223,     0.23323,     0.23423,     0.23524,     0.23624,     0.23724,     0.23824,     0.23924,\n",
              "           0.24024,     0.24124,     0.24224,     0.24324,     0.24424,     0.24525,     0.24625,     0.24725,     0.24825,     0.24925,     0.25025,     0.25125,     0.25225,     0.25325,     0.25425,     0.25526,     0.25626,     0.25726,     0.25826,     0.25926,     0.26026,     0.26126,     0.26226,     0.26326,\n",
              "           0.26426,     0.26527,     0.26627,     0.26727,     0.26827,     0.26927,     0.27027,     0.27127,     0.27227,     0.27327,     0.27427,     0.27528,     0.27628,     0.27728,     0.27828,     0.27928,     0.28028,     0.28128,     0.28228,     0.28328,     0.28428,     0.28529,     0.28629,     0.28729,\n",
              "           0.28829,     0.28929,     0.29029,     0.29129,     0.29229,     0.29329,     0.29429,      0.2953,      0.2963,      0.2973,      0.2983,      0.2993,      0.3003,      0.3013,      0.3023,      0.3033,      0.3043,     0.30531,     0.30631,     0.30731,     0.30831,     0.30931,     0.31031,     0.31131,\n",
              "           0.31231,     0.31331,     0.31431,     0.31532,     0.31632,     0.31732,     0.31832,     0.31932,     0.32032,     0.32132,     0.32232,     0.32332,     0.32432,     0.32533,     0.32633,     0.32733,     0.32833,     0.32933,     0.33033,     0.33133,     0.33233,     0.33333,     0.33433,     0.33534,\n",
              "           0.33634,     0.33734,     0.33834,     0.33934,     0.34034,     0.34134,     0.34234,     0.34334,     0.34434,     0.34535,     0.34635,     0.34735,     0.34835,     0.34935,     0.35035,     0.35135,     0.35235,     0.35335,     0.35435,     0.35536,     0.35636,     0.35736,     0.35836,     0.35936,\n",
              "           0.36036,     0.36136,     0.36236,     0.36336,     0.36436,     0.36537,     0.36637,     0.36737,     0.36837,     0.36937,     0.37037,     0.37137,     0.37237,     0.37337,     0.37437,     0.37538,     0.37638,     0.37738,     0.37838,     0.37938,     0.38038,     0.38138,     0.38238,     0.38338,\n",
              "           0.38438,     0.38539,     0.38639,     0.38739,     0.38839,     0.38939,     0.39039,     0.39139,     0.39239,     0.39339,     0.39439,      0.3954,      0.3964,      0.3974,      0.3984,      0.3994,      0.4004,      0.4014,      0.4024,      0.4034,      0.4044,     0.40541,     0.40641,     0.40741,\n",
              "           0.40841,     0.40941,     0.41041,     0.41141,     0.41241,     0.41341,     0.41441,     0.41542,     0.41642,     0.41742,     0.41842,     0.41942,     0.42042,     0.42142,     0.42242,     0.42342,     0.42442,     0.42543,     0.42643,     0.42743,     0.42843,     0.42943,     0.43043,     0.43143,\n",
              "           0.43243,     0.43343,     0.43443,     0.43544,     0.43644,     0.43744,     0.43844,     0.43944,     0.44044,     0.44144,     0.44244,     0.44344,     0.44444,     0.44545,     0.44645,     0.44745,     0.44845,     0.44945,     0.45045,     0.45145,     0.45245,     0.45345,     0.45445,     0.45546,\n",
              "           0.45646,     0.45746,     0.45846,     0.45946,     0.46046,     0.46146,     0.46246,     0.46346,     0.46446,     0.46547,     0.46647,     0.46747,     0.46847,     0.46947,     0.47047,     0.47147,     0.47247,     0.47347,     0.47447,     0.47548,     0.47648,     0.47748,     0.47848,     0.47948,\n",
              "           0.48048,     0.48148,     0.48248,     0.48348,     0.48448,     0.48549,     0.48649,     0.48749,     0.48849,     0.48949,     0.49049,     0.49149,     0.49249,     0.49349,     0.49449,      0.4955,      0.4965,      0.4975,      0.4985,      0.4995,      0.5005,      0.5015,      0.5025,      0.5035,\n",
              "            0.5045,     0.50551,     0.50651,     0.50751,     0.50851,     0.50951,     0.51051,     0.51151,     0.51251,     0.51351,     0.51451,     0.51552,     0.51652,     0.51752,     0.51852,     0.51952,     0.52052,     0.52152,     0.52252,     0.52352,     0.52452,     0.52553,     0.52653,     0.52753,\n",
              "           0.52853,     0.52953,     0.53053,     0.53153,     0.53253,     0.53353,     0.53453,     0.53554,     0.53654,     0.53754,     0.53854,     0.53954,     0.54054,     0.54154,     0.54254,     0.54354,     0.54454,     0.54555,     0.54655,     0.54755,     0.54855,     0.54955,     0.55055,     0.55155,\n",
              "           0.55255,     0.55355,     0.55455,     0.55556,     0.55656,     0.55756,     0.55856,     0.55956,     0.56056,     0.56156,     0.56256,     0.56356,     0.56456,     0.56557,     0.56657,     0.56757,     0.56857,     0.56957,     0.57057,     0.57157,     0.57257,     0.57357,     0.57457,     0.57558,\n",
              "           0.57658,     0.57758,     0.57858,     0.57958,     0.58058,     0.58158,     0.58258,     0.58358,     0.58458,     0.58559,     0.58659,     0.58759,     0.58859,     0.58959,     0.59059,     0.59159,     0.59259,     0.59359,     0.59459,      0.5956,      0.5966,      0.5976,      0.5986,      0.5996,\n",
              "            0.6006,      0.6016,      0.6026,      0.6036,      0.6046,     0.60561,     0.60661,     0.60761,     0.60861,     0.60961,     0.61061,     0.61161,     0.61261,     0.61361,     0.61461,     0.61562,     0.61662,     0.61762,     0.61862,     0.61962,     0.62062,     0.62162,     0.62262,     0.62362,\n",
              "           0.62462,     0.62563,     0.62663,     0.62763,     0.62863,     0.62963,     0.63063,     0.63163,     0.63263,     0.63363,     0.63463,     0.63564,     0.63664,     0.63764,     0.63864,     0.63964,     0.64064,     0.64164,     0.64264,     0.64364,     0.64464,     0.64565,     0.64665,     0.64765,\n",
              "           0.64865,     0.64965,     0.65065,     0.65165,     0.65265,     0.65365,     0.65465,     0.65566,     0.65666,     0.65766,     0.65866,     0.65966,     0.66066,     0.66166,     0.66266,     0.66366,     0.66466,     0.66567,     0.66667,     0.66767,     0.66867,     0.66967,     0.67067,     0.67167,\n",
              "           0.67267,     0.67367,     0.67467,     0.67568,     0.67668,     0.67768,     0.67868,     0.67968,     0.68068,     0.68168,     0.68268,     0.68368,     0.68468,     0.68569,     0.68669,     0.68769,     0.68869,     0.68969,     0.69069,     0.69169,     0.69269,     0.69369,     0.69469,      0.6957,\n",
              "            0.6967,      0.6977,      0.6987,      0.6997,      0.7007,      0.7017,      0.7027,      0.7037,      0.7047,     0.70571,     0.70671,     0.70771,     0.70871,     0.70971,     0.71071,     0.71171,     0.71271,     0.71371,     0.71471,     0.71572,     0.71672,     0.71772,     0.71872,     0.71972,\n",
              "           0.72072,     0.72172,     0.72272,     0.72372,     0.72472,     0.72573,     0.72673,     0.72773,     0.72873,     0.72973,     0.73073,     0.73173,     0.73273,     0.73373,     0.73473,     0.73574,     0.73674,     0.73774,     0.73874,     0.73974,     0.74074,     0.74174,     0.74274,     0.74374,\n",
              "           0.74474,     0.74575,     0.74675,     0.74775,     0.74875,     0.74975,     0.75075,     0.75175,     0.75275,     0.75375,     0.75475,     0.75576,     0.75676,     0.75776,     0.75876,     0.75976,     0.76076,     0.76176,     0.76276,     0.76376,     0.76476,     0.76577,     0.76677,     0.76777,\n",
              "           0.76877,     0.76977,     0.77077,     0.77177,     0.77277,     0.77377,     0.77477,     0.77578,     0.77678,     0.77778,     0.77878,     0.77978,     0.78078,     0.78178,     0.78278,     0.78378,     0.78478,     0.78579,     0.78679,     0.78779,     0.78879,     0.78979,     0.79079,     0.79179,\n",
              "           0.79279,     0.79379,     0.79479,      0.7958,      0.7968,      0.7978,      0.7988,      0.7998,      0.8008,      0.8018,      0.8028,      0.8038,      0.8048,     0.80581,     0.80681,     0.80781,     0.80881,     0.80981,     0.81081,     0.81181,     0.81281,     0.81381,     0.81481,     0.81582,\n",
              "           0.81682,     0.81782,     0.81882,     0.81982,     0.82082,     0.82182,     0.82282,     0.82382,     0.82482,     0.82583,     0.82683,     0.82783,     0.82883,     0.82983,     0.83083,     0.83183,     0.83283,     0.83383,     0.83483,     0.83584,     0.83684,     0.83784,     0.83884,     0.83984,\n",
              "           0.84084,     0.84184,     0.84284,     0.84384,     0.84484,     0.84585,     0.84685,     0.84785,     0.84885,     0.84985,     0.85085,     0.85185,     0.85285,     0.85385,     0.85485,     0.85586,     0.85686,     0.85786,     0.85886,     0.85986,     0.86086,     0.86186,     0.86286,     0.86386,\n",
              "           0.86486,     0.86587,     0.86687,     0.86787,     0.86887,     0.86987,     0.87087,     0.87187,     0.87287,     0.87387,     0.87487,     0.87588,     0.87688,     0.87788,     0.87888,     0.87988,     0.88088,     0.88188,     0.88288,     0.88388,     0.88488,     0.88589,     0.88689,     0.88789,\n",
              "           0.88889,     0.88989,     0.89089,     0.89189,     0.89289,     0.89389,     0.89489,      0.8959,      0.8969,      0.8979,      0.8989,      0.8999,      0.9009,      0.9019,      0.9029,      0.9039,      0.9049,     0.90591,     0.90691,     0.90791,     0.90891,     0.90991,     0.91091,     0.91191,\n",
              "           0.91291,     0.91391,     0.91491,     0.91592,     0.91692,     0.91792,     0.91892,     0.91992,     0.92092,     0.92192,     0.92292,     0.92392,     0.92492,     0.92593,     0.92693,     0.92793,     0.92893,     0.92993,     0.93093,     0.93193,     0.93293,     0.93393,     0.93493,     0.93594,\n",
              "           0.93694,     0.93794,     0.93894,     0.93994,     0.94094,     0.94194,     0.94294,     0.94394,     0.94494,     0.94595,     0.94695,     0.94795,     0.94895,     0.94995,     0.95095,     0.95195,     0.95295,     0.95395,     0.95495,     0.95596,     0.95696,     0.95796,     0.95896,     0.95996,\n",
              "           0.96096,     0.96196,     0.96296,     0.96396,     0.96496,     0.96597,     0.96697,     0.96797,     0.96897,     0.96997,     0.97097,     0.97197,     0.97297,     0.97397,     0.97497,     0.97598,     0.97698,     0.97798,     0.97898,     0.97998,     0.98098,     0.98198,     0.98298,     0.98398,\n",
              "           0.98498,     0.98599,     0.98699,     0.98799,     0.98899,     0.98999,     0.99099,     0.99199,     0.99299,     0.99399,     0.99499,       0.996,       0.997,       0.998,       0.999,           1]), array([[   0.058096,    0.058096,    0.058238, ...,           1,           1,           1],\n",
              "       [          0,           0,           0, ...,           1,           1,           1],\n",
              "       [    0.09755,     0.09755,    0.097583, ...,           1,           1,           1],\n",
              "       ...,\n",
              "       [   0.057531,    0.057531,    0.057713, ...,           1,           1,           1],\n",
              "       [    0.41903,     0.41903,      0.4204, ...,           1,           1,           1],\n",
              "       [     0.1086,      0.1086,     0.10885, ...,           1,           1,           1]]), 'Confidence', 'Precision'], [array([          0,    0.001001,    0.002002,    0.003003,    0.004004,    0.005005,    0.006006,    0.007007,    0.008008,    0.009009,     0.01001,    0.011011,    0.012012,    0.013013,    0.014014,    0.015015,    0.016016,    0.017017,    0.018018,    0.019019,     0.02002,    0.021021,    0.022022,    0.023023,\n",
              "          0.024024,    0.025025,    0.026026,    0.027027,    0.028028,    0.029029,     0.03003,    0.031031,    0.032032,    0.033033,    0.034034,    0.035035,    0.036036,    0.037037,    0.038038,    0.039039,     0.04004,    0.041041,    0.042042,    0.043043,    0.044044,    0.045045,    0.046046,    0.047047,\n",
              "          0.048048,    0.049049,     0.05005,    0.051051,    0.052052,    0.053053,    0.054054,    0.055055,    0.056056,    0.057057,    0.058058,    0.059059,     0.06006,    0.061061,    0.062062,    0.063063,    0.064064,    0.065065,    0.066066,    0.067067,    0.068068,    0.069069,     0.07007,    0.071071,\n",
              "          0.072072,    0.073073,    0.074074,    0.075075,    0.076076,    0.077077,    0.078078,    0.079079,     0.08008,    0.081081,    0.082082,    0.083083,    0.084084,    0.085085,    0.086086,    0.087087,    0.088088,    0.089089,     0.09009,    0.091091,    0.092092,    0.093093,    0.094094,    0.095095,\n",
              "          0.096096,    0.097097,    0.098098,    0.099099,      0.1001,      0.1011,      0.1021,      0.1031,      0.1041,     0.10511,     0.10611,     0.10711,     0.10811,     0.10911,     0.11011,     0.11111,     0.11211,     0.11311,     0.11411,     0.11512,     0.11612,     0.11712,     0.11812,     0.11912,\n",
              "           0.12012,     0.12112,     0.12212,     0.12312,     0.12412,     0.12513,     0.12613,     0.12713,     0.12813,     0.12913,     0.13013,     0.13113,     0.13213,     0.13313,     0.13413,     0.13514,     0.13614,     0.13714,     0.13814,     0.13914,     0.14014,     0.14114,     0.14214,     0.14314,\n",
              "           0.14414,     0.14515,     0.14615,     0.14715,     0.14815,     0.14915,     0.15015,     0.15115,     0.15215,     0.15315,     0.15415,     0.15516,     0.15616,     0.15716,     0.15816,     0.15916,     0.16016,     0.16116,     0.16216,     0.16316,     0.16416,     0.16517,     0.16617,     0.16717,\n",
              "           0.16817,     0.16917,     0.17017,     0.17117,     0.17217,     0.17317,     0.17417,     0.17518,     0.17618,     0.17718,     0.17818,     0.17918,     0.18018,     0.18118,     0.18218,     0.18318,     0.18418,     0.18519,     0.18619,     0.18719,     0.18819,     0.18919,     0.19019,     0.19119,\n",
              "           0.19219,     0.19319,     0.19419,      0.1952,      0.1962,      0.1972,      0.1982,      0.1992,      0.2002,      0.2012,      0.2022,      0.2032,      0.2042,     0.20521,     0.20621,     0.20721,     0.20821,     0.20921,     0.21021,     0.21121,     0.21221,     0.21321,     0.21421,     0.21522,\n",
              "           0.21622,     0.21722,     0.21822,     0.21922,     0.22022,     0.22122,     0.22222,     0.22322,     0.22422,     0.22523,     0.22623,     0.22723,     0.22823,     0.22923,     0.23023,     0.23123,     0.23223,     0.23323,     0.23423,     0.23524,     0.23624,     0.23724,     0.23824,     0.23924,\n",
              "           0.24024,     0.24124,     0.24224,     0.24324,     0.24424,     0.24525,     0.24625,     0.24725,     0.24825,     0.24925,     0.25025,     0.25125,     0.25225,     0.25325,     0.25425,     0.25526,     0.25626,     0.25726,     0.25826,     0.25926,     0.26026,     0.26126,     0.26226,     0.26326,\n",
              "           0.26426,     0.26527,     0.26627,     0.26727,     0.26827,     0.26927,     0.27027,     0.27127,     0.27227,     0.27327,     0.27427,     0.27528,     0.27628,     0.27728,     0.27828,     0.27928,     0.28028,     0.28128,     0.28228,     0.28328,     0.28428,     0.28529,     0.28629,     0.28729,\n",
              "           0.28829,     0.28929,     0.29029,     0.29129,     0.29229,     0.29329,     0.29429,      0.2953,      0.2963,      0.2973,      0.2983,      0.2993,      0.3003,      0.3013,      0.3023,      0.3033,      0.3043,     0.30531,     0.30631,     0.30731,     0.30831,     0.30931,     0.31031,     0.31131,\n",
              "           0.31231,     0.31331,     0.31431,     0.31532,     0.31632,     0.31732,     0.31832,     0.31932,     0.32032,     0.32132,     0.32232,     0.32332,     0.32432,     0.32533,     0.32633,     0.32733,     0.32833,     0.32933,     0.33033,     0.33133,     0.33233,     0.33333,     0.33433,     0.33534,\n",
              "           0.33634,     0.33734,     0.33834,     0.33934,     0.34034,     0.34134,     0.34234,     0.34334,     0.34434,     0.34535,     0.34635,     0.34735,     0.34835,     0.34935,     0.35035,     0.35135,     0.35235,     0.35335,     0.35435,     0.35536,     0.35636,     0.35736,     0.35836,     0.35936,\n",
              "           0.36036,     0.36136,     0.36236,     0.36336,     0.36436,     0.36537,     0.36637,     0.36737,     0.36837,     0.36937,     0.37037,     0.37137,     0.37237,     0.37337,     0.37437,     0.37538,     0.37638,     0.37738,     0.37838,     0.37938,     0.38038,     0.38138,     0.38238,     0.38338,\n",
              "           0.38438,     0.38539,     0.38639,     0.38739,     0.38839,     0.38939,     0.39039,     0.39139,     0.39239,     0.39339,     0.39439,      0.3954,      0.3964,      0.3974,      0.3984,      0.3994,      0.4004,      0.4014,      0.4024,      0.4034,      0.4044,     0.40541,     0.40641,     0.40741,\n",
              "           0.40841,     0.40941,     0.41041,     0.41141,     0.41241,     0.41341,     0.41441,     0.41542,     0.41642,     0.41742,     0.41842,     0.41942,     0.42042,     0.42142,     0.42242,     0.42342,     0.42442,     0.42543,     0.42643,     0.42743,     0.42843,     0.42943,     0.43043,     0.43143,\n",
              "           0.43243,     0.43343,     0.43443,     0.43544,     0.43644,     0.43744,     0.43844,     0.43944,     0.44044,     0.44144,     0.44244,     0.44344,     0.44444,     0.44545,     0.44645,     0.44745,     0.44845,     0.44945,     0.45045,     0.45145,     0.45245,     0.45345,     0.45445,     0.45546,\n",
              "           0.45646,     0.45746,     0.45846,     0.45946,     0.46046,     0.46146,     0.46246,     0.46346,     0.46446,     0.46547,     0.46647,     0.46747,     0.46847,     0.46947,     0.47047,     0.47147,     0.47247,     0.47347,     0.47447,     0.47548,     0.47648,     0.47748,     0.47848,     0.47948,\n",
              "           0.48048,     0.48148,     0.48248,     0.48348,     0.48448,     0.48549,     0.48649,     0.48749,     0.48849,     0.48949,     0.49049,     0.49149,     0.49249,     0.49349,     0.49449,      0.4955,      0.4965,      0.4975,      0.4985,      0.4995,      0.5005,      0.5015,      0.5025,      0.5035,\n",
              "            0.5045,     0.50551,     0.50651,     0.50751,     0.50851,     0.50951,     0.51051,     0.51151,     0.51251,     0.51351,     0.51451,     0.51552,     0.51652,     0.51752,     0.51852,     0.51952,     0.52052,     0.52152,     0.52252,     0.52352,     0.52452,     0.52553,     0.52653,     0.52753,\n",
              "           0.52853,     0.52953,     0.53053,     0.53153,     0.53253,     0.53353,     0.53453,     0.53554,     0.53654,     0.53754,     0.53854,     0.53954,     0.54054,     0.54154,     0.54254,     0.54354,     0.54454,     0.54555,     0.54655,     0.54755,     0.54855,     0.54955,     0.55055,     0.55155,\n",
              "           0.55255,     0.55355,     0.55455,     0.55556,     0.55656,     0.55756,     0.55856,     0.55956,     0.56056,     0.56156,     0.56256,     0.56356,     0.56456,     0.56557,     0.56657,     0.56757,     0.56857,     0.56957,     0.57057,     0.57157,     0.57257,     0.57357,     0.57457,     0.57558,\n",
              "           0.57658,     0.57758,     0.57858,     0.57958,     0.58058,     0.58158,     0.58258,     0.58358,     0.58458,     0.58559,     0.58659,     0.58759,     0.58859,     0.58959,     0.59059,     0.59159,     0.59259,     0.59359,     0.59459,      0.5956,      0.5966,      0.5976,      0.5986,      0.5996,\n",
              "            0.6006,      0.6016,      0.6026,      0.6036,      0.6046,     0.60561,     0.60661,     0.60761,     0.60861,     0.60961,     0.61061,     0.61161,     0.61261,     0.61361,     0.61461,     0.61562,     0.61662,     0.61762,     0.61862,     0.61962,     0.62062,     0.62162,     0.62262,     0.62362,\n",
              "           0.62462,     0.62563,     0.62663,     0.62763,     0.62863,     0.62963,     0.63063,     0.63163,     0.63263,     0.63363,     0.63463,     0.63564,     0.63664,     0.63764,     0.63864,     0.63964,     0.64064,     0.64164,     0.64264,     0.64364,     0.64464,     0.64565,     0.64665,     0.64765,\n",
              "           0.64865,     0.64965,     0.65065,     0.65165,     0.65265,     0.65365,     0.65465,     0.65566,     0.65666,     0.65766,     0.65866,     0.65966,     0.66066,     0.66166,     0.66266,     0.66366,     0.66466,     0.66567,     0.66667,     0.66767,     0.66867,     0.66967,     0.67067,     0.67167,\n",
              "           0.67267,     0.67367,     0.67467,     0.67568,     0.67668,     0.67768,     0.67868,     0.67968,     0.68068,     0.68168,     0.68268,     0.68368,     0.68468,     0.68569,     0.68669,     0.68769,     0.68869,     0.68969,     0.69069,     0.69169,     0.69269,     0.69369,     0.69469,      0.6957,\n",
              "            0.6967,      0.6977,      0.6987,      0.6997,      0.7007,      0.7017,      0.7027,      0.7037,      0.7047,     0.70571,     0.70671,     0.70771,     0.70871,     0.70971,     0.71071,     0.71171,     0.71271,     0.71371,     0.71471,     0.71572,     0.71672,     0.71772,     0.71872,     0.71972,\n",
              "           0.72072,     0.72172,     0.72272,     0.72372,     0.72472,     0.72573,     0.72673,     0.72773,     0.72873,     0.72973,     0.73073,     0.73173,     0.73273,     0.73373,     0.73473,     0.73574,     0.73674,     0.73774,     0.73874,     0.73974,     0.74074,     0.74174,     0.74274,     0.74374,\n",
              "           0.74474,     0.74575,     0.74675,     0.74775,     0.74875,     0.74975,     0.75075,     0.75175,     0.75275,     0.75375,     0.75475,     0.75576,     0.75676,     0.75776,     0.75876,     0.75976,     0.76076,     0.76176,     0.76276,     0.76376,     0.76476,     0.76577,     0.76677,     0.76777,\n",
              "           0.76877,     0.76977,     0.77077,     0.77177,     0.77277,     0.77377,     0.77477,     0.77578,     0.77678,     0.77778,     0.77878,     0.77978,     0.78078,     0.78178,     0.78278,     0.78378,     0.78478,     0.78579,     0.78679,     0.78779,     0.78879,     0.78979,     0.79079,     0.79179,\n",
              "           0.79279,     0.79379,     0.79479,      0.7958,      0.7968,      0.7978,      0.7988,      0.7998,      0.8008,      0.8018,      0.8028,      0.8038,      0.8048,     0.80581,     0.80681,     0.80781,     0.80881,     0.80981,     0.81081,     0.81181,     0.81281,     0.81381,     0.81481,     0.81582,\n",
              "           0.81682,     0.81782,     0.81882,     0.81982,     0.82082,     0.82182,     0.82282,     0.82382,     0.82482,     0.82583,     0.82683,     0.82783,     0.82883,     0.82983,     0.83083,     0.83183,     0.83283,     0.83383,     0.83483,     0.83584,     0.83684,     0.83784,     0.83884,     0.83984,\n",
              "           0.84084,     0.84184,     0.84284,     0.84384,     0.84484,     0.84585,     0.84685,     0.84785,     0.84885,     0.84985,     0.85085,     0.85185,     0.85285,     0.85385,     0.85485,     0.85586,     0.85686,     0.85786,     0.85886,     0.85986,     0.86086,     0.86186,     0.86286,     0.86386,\n",
              "           0.86486,     0.86587,     0.86687,     0.86787,     0.86887,     0.86987,     0.87087,     0.87187,     0.87287,     0.87387,     0.87487,     0.87588,     0.87688,     0.87788,     0.87888,     0.87988,     0.88088,     0.88188,     0.88288,     0.88388,     0.88488,     0.88589,     0.88689,     0.88789,\n",
              "           0.88889,     0.88989,     0.89089,     0.89189,     0.89289,     0.89389,     0.89489,      0.8959,      0.8969,      0.8979,      0.8989,      0.8999,      0.9009,      0.9019,      0.9029,      0.9039,      0.9049,     0.90591,     0.90691,     0.90791,     0.90891,     0.90991,     0.91091,     0.91191,\n",
              "           0.91291,     0.91391,     0.91491,     0.91592,     0.91692,     0.91792,     0.91892,     0.91992,     0.92092,     0.92192,     0.92292,     0.92392,     0.92492,     0.92593,     0.92693,     0.92793,     0.92893,     0.92993,     0.93093,     0.93193,     0.93293,     0.93393,     0.93493,     0.93594,\n",
              "           0.93694,     0.93794,     0.93894,     0.93994,     0.94094,     0.94194,     0.94294,     0.94394,     0.94494,     0.94595,     0.94695,     0.94795,     0.94895,     0.94995,     0.95095,     0.95195,     0.95295,     0.95395,     0.95495,     0.95596,     0.95696,     0.95796,     0.95896,     0.95996,\n",
              "           0.96096,     0.96196,     0.96296,     0.96396,     0.96496,     0.96597,     0.96697,     0.96797,     0.96897,     0.96997,     0.97097,     0.97197,     0.97297,     0.97397,     0.97497,     0.97598,     0.97698,     0.97798,     0.97898,     0.97998,     0.98098,     0.98198,     0.98298,     0.98398,\n",
              "           0.98498,     0.98599,     0.98699,     0.98799,     0.98899,     0.98999,     0.99099,     0.99199,     0.99299,     0.99399,     0.99499,       0.996,       0.997,       0.998,       0.999,           1]), array([[    0.67464,     0.67464,     0.67464, ...,           0,           0,           0],\n",
              "       [          0,           0,           0, ...,           0,           0,           0],\n",
              "       [    0.85772,     0.85772,     0.85772, ...,           0,           0,           0],\n",
              "       ...,\n",
              "       [    0.56122,     0.56122,     0.56122, ...,           0,           0,           0],\n",
              "       [    0.94249,     0.94249,     0.94249, ...,           0,           0,           0],\n",
              "       [    0.79866,     0.79866,     0.79866, ...,           0,           0,           0]]), 'Confidence', 'Recall']]\n",
              "fitness: 0.17202637256934453\n",
              "keys: ['metrics/precision(B)', 'metrics/recall(B)', 'metrics/mAP50(B)', 'metrics/mAP50-95(B)']\n",
              "maps: array([   0.037815,           0,     0.25483,    0.011186,    0.074973,    0.024841,    0.039455,    0.027696,     0.12852,      0.1848,    0.059796,     0.37777,     0.16621,     0.10644,     0.81752,     0.23425])\n",
              "names: {0: 'Arugula', 1: 'Bacon', 2: 'Basil', 3: 'Broccoli', 4: 'Cheese', 5: 'Chicken', 6: 'Corn', 7: 'Ham', 8: 'Mushroom', 9: 'Olives', 10: 'Onion', 11: 'Pepperoni', 12: 'Peppers', 13: 'Pineapple', 14: 'Pizza', 15: 'Tomatoes'}\n",
              "plot: True\n",
              "results_dict: {'metrics/precision(B)': 0.45347359322880937, 'metrics/recall(B)': 0.30044132168983567, 'metrics/mAP50(B)': 0.28807681911438787, 'metrics/mAP50-95(B)': 0.15913187850878416, 'fitness': 0.17202637256934453}\n",
              "save_dir: WindowsPath('runs/detect/train3')\n",
              "speed: {'preprocess': 0.31107558799716695, 'inference': 5.84541108498725, 'loss': 0.0, 'postprocess': 4.515551004308693}\n",
              "task: 'detect'"
            ]
          },
          "execution_count": 11,
          "metadata": {},
          "output_type": "execute_result"
        }
      ],
      "source": [
        "model.val(split='test') #This will output a train file however it will be on the test data"
      ]
    },
    {
      "cell_type": "markdown",
      "metadata": {
        "id": "i4eASbcWkQBq"
      },
      "source": [
        "**<h3>Testing the YOLOv8 model on the Testing subset.</h3>**"
      ]
    },
    {
      "cell_type": "code",
      "execution_count": 13,
      "metadata": {
        "colab": {
          "base_uri": "https://localhost:8080/"
        },
        "id": "Wjc1ctZykYuf",
        "outputId": "38b730a6-7d15-4f9f-b812-e814fc861557"
      },
      "outputs": [
        {
          "name": "stdout",
          "output_type": "stream",
          "text": [
            "Ultralytics YOLOv8.0.226 🚀 Python-3.9.18 torch-2.0.1+cu117 CUDA:0 (NVIDIA GeForce RTX 3060 Ti, 8191MiB)\n",
            "Model summary (fused): 168 layers, 11131776 parameters, 0 gradients, 28.5 GFLOPs\n",
            "\n",
            "image 1/283 C:\\GitHubRepository\\Advanced-Computer-Vision-for-Artificial-Intelligence\\Part_3_Object_Detection\\YOLOv8\\datasets\\Pizza-Object-Detector-7\\test\\images\\000001_jpg.rf.28a0a9ec43243edc5b2179d657363422.jpg: 384x640 1 Pepperoni, 1 Pizza, 90.3ms\n",
            "image 2/283 C:\\GitHubRepository\\Advanced-Computer-Vision-for-Artificial-Intelligence\\Part_3_Object_Detection\\YOLOv8\\datasets\\Pizza-Object-Detector-7\\test\\images\\00051_jpg.rf.46ae55e13d218643bc60a0bcd61b9745.jpg: 416x640 2 Cheeses, 1 Pizza, 100.0ms\n",
            "image 3/283 C:\\GitHubRepository\\Advanced-Computer-Vision-for-Artificial-Intelligence\\Part_3_Object_Detection\\YOLOv8\\datasets\\Pizza-Object-Detector-7\\test\\images\\00052_jpg.rf.d0a75a8c3ec836eb92b6c7ffdc8291c5.jpg: 640x640 3 Basils, 1 Pizza, 9.0ms\n",
            "image 4/283 C:\\GitHubRepository\\Advanced-Computer-Vision-for-Artificial-Intelligence\\Part_3_Object_Detection\\YOLOv8\\datasets\\Pizza-Object-Detector-7\\test\\images\\00053_jpg.rf.1b3d3ce4107f234862e3de343be1a5b5.jpg: 640x544 2 Cheeses, 1 Pizza, 95.0ms\n",
            "image 5/283 C:\\GitHubRepository\\Advanced-Computer-Vision-for-Artificial-Intelligence\\Part_3_Object_Detection\\YOLOv8\\datasets\\Pizza-Object-Detector-7\\test\\images\\00054_jpg.rf.c49dc656b008e9b38a52f2f01bf06d84.jpg: 640x512 5 Pepperonis, 1 Pizza, 100.0ms\n",
            "image 6/283 C:\\GitHubRepository\\Advanced-Computer-Vision-for-Artificial-Intelligence\\Part_3_Object_Detection\\YOLOv8\\datasets\\Pizza-Object-Detector-7\\test\\images\\00055_jpg.rf.ea46c13d015b4f57bff81fbe66320047.jpg: 640x640 3 Pepperonis, 1 Pizza, 2 Tomatoess, 9.0ms\n",
            "image 7/283 C:\\GitHubRepository\\Advanced-Computer-Vision-for-Artificial-Intelligence\\Part_3_Object_Detection\\YOLOv8\\datasets\\Pizza-Object-Detector-7\\test\\images\\00056_jpg.rf.117f4a54879e8953fe676af882d36ffe.jpg: 640x640 7 Olivess, 1 Pizza, 9.0ms\n",
            "image 8/283 C:\\GitHubRepository\\Advanced-Computer-Vision-for-Artificial-Intelligence\\Part_3_Object_Detection\\YOLOv8\\datasets\\Pizza-Object-Detector-7\\test\\images\\00058_jpg.rf.c3fee37872d4f555ae824526162463a8.jpg: 640x544 3 Olivess, 2 Pepperonis, 1 Pizza, 8.0ms\n",
            "image 9/283 C:\\GitHubRepository\\Advanced-Computer-Vision-for-Artificial-Intelligence\\Part_3_Object_Detection\\YOLOv8\\datasets\\Pizza-Object-Detector-7\\test\\images\\00059_jpg.rf.f04fc7014320326a9a33a48c388a2b94.jpg: 640x640 1 Pizza, 10.0ms\n",
            "image 10/283 C:\\GitHubRepository\\Advanced-Computer-Vision-for-Artificial-Intelligence\\Part_3_Object_Detection\\YOLOv8\\datasets\\Pizza-Object-Detector-7\\test\\images\\00061_jpg.rf.d91f39fda40d6ef026acb7a15751f913.jpg: 640x640 3 Basils, 1 Cheese, 1 Pizza, 8.0ms\n",
            "image 11/283 C:\\GitHubRepository\\Advanced-Computer-Vision-for-Artificial-Intelligence\\Part_3_Object_Detection\\YOLOv8\\datasets\\Pizza-Object-Detector-7\\test\\images\\00062_jpg.rf.2ec8cf1831c5e0dc5327b71e57d0de77.jpg: 480x640 1 Basil, 1 Cheese, 1 Pizza, 92.0ms\n",
            "image 12/283 C:\\GitHubRepository\\Advanced-Computer-Vision-for-Artificial-Intelligence\\Part_3_Object_Detection\\YOLOv8\\datasets\\Pizza-Object-Detector-7\\test\\images\\00074_jpg.rf.631863b32a62b4bfc1d0b3a8a08cdc33.jpg: 640x640 2 Pepperonis, 1 Pizza, 9.0ms\n",
            "image 13/283 C:\\GitHubRepository\\Advanced-Computer-Vision-for-Artificial-Intelligence\\Part_3_Object_Detection\\YOLOv8\\datasets\\Pizza-Object-Detector-7\\test\\images\\00075_jpg.rf.d2ac531cce609e1b6b96f9209db1b53c.jpg: 640x640 4 Pepperonis, 1 Peppers, 1 Pizza, 7.0ms\n",
            "image 14/283 C:\\GitHubRepository\\Advanced-Computer-Vision-for-Artificial-Intelligence\\Part_3_Object_Detection\\YOLOv8\\datasets\\Pizza-Object-Detector-7\\test\\images\\00077_jpg.rf.f0a9653ea7246e11ef4fa1e8b184afcd.jpg: 640x512 1 Mushroom, 1 Onion, 1 Pizza, 8.0ms\n",
            "image 15/283 C:\\GitHubRepository\\Advanced-Computer-Vision-for-Artificial-Intelligence\\Part_3_Object_Detection\\YOLOv8\\datasets\\Pizza-Object-Detector-7\\test\\images\\00079_jpg.rf.ee37f60a35eada8df035e0a1a4d15f2b.jpg: 640x640 1 Pizza, 10.0ms\n",
            "image 16/283 C:\\GitHubRepository\\Advanced-Computer-Vision-for-Artificial-Intelligence\\Part_3_Object_Detection\\YOLOv8\\datasets\\Pizza-Object-Detector-7\\test\\images\\00080_jpg.rf.cea6c37f7af165ffd875ee603d07a00c.jpg: 640x640 1 Pizza, 8.0ms\n",
            "image 17/283 C:\\GitHubRepository\\Advanced-Computer-Vision-for-Artificial-Intelligence\\Part_3_Object_Detection\\YOLOv8\\datasets\\Pizza-Object-Detector-7\\test\\images\\00081_jpg.rf.c025e40aa46031ca2e912bcb103e050c.jpg: 640x640 1 Pizza, 7.0ms\n",
            "image 18/283 C:\\GitHubRepository\\Advanced-Computer-Vision-for-Artificial-Intelligence\\Part_3_Object_Detection\\YOLOv8\\datasets\\Pizza-Object-Detector-7\\test\\images\\00082_jpg.rf.daa3e1a8f5c6b87b6792a1625eb4a88e.jpg: 640x512 5 Basils, 1 Cheese, 1 Pizza, 8.0ms\n",
            "image 19/283 C:\\GitHubRepository\\Advanced-Computer-Vision-for-Artificial-Intelligence\\Part_3_Object_Detection\\YOLOv8\\datasets\\Pizza-Object-Detector-7\\test\\images\\00087_jpg.rf.6099b7230d303c1cb8f4ec4a40b7e8fa.jpg: 640x640 3 Basils, 1 Cheese, 2 Pepperonis, 1 Pizza, 11.0ms\n",
            "image 20/283 C:\\GitHubRepository\\Advanced-Computer-Vision-for-Artificial-Intelligence\\Part_3_Object_Detection\\YOLOv8\\datasets\\Pizza-Object-Detector-7\\test\\images\\00088_jpg.rf.2937badd00ea129ad4af729ab28223c2.jpg: 576x640 4 Basils, 1 Pizza, 90.0ms\n",
            "image 21/283 C:\\GitHubRepository\\Advanced-Computer-Vision-for-Artificial-Intelligence\\Part_3_Object_Detection\\YOLOv8\\datasets\\Pizza-Object-Detector-7\\test\\images\\00093_jpg.rf.d846e3ff8f7bcafde40b0a60ba1a9248.jpg: 640x512 2 Mushrooms, 1 Pizza, 8.0ms\n",
            "image 22/283 C:\\GitHubRepository\\Advanced-Computer-Vision-for-Artificial-Intelligence\\Part_3_Object_Detection\\YOLOv8\\datasets\\Pizza-Object-Detector-7\\test\\images\\00094_jpg.rf.517c37636853408e65adc2e3f09ab763.jpg: 384x640 1 Pizza, 10.0ms\n",
            "image 23/283 C:\\GitHubRepository\\Advanced-Computer-Vision-for-Artificial-Intelligence\\Part_3_Object_Detection\\YOLOv8\\datasets\\Pizza-Object-Detector-7\\test\\images\\00095_jpg.rf.4e82a1b41112247ffc9d016d90afea16.jpg: 640x640 9 Basils, 1 Pizza, 2 Tomatoess, 8.0ms\n",
            "image 24/283 C:\\GitHubRepository\\Advanced-Computer-Vision-for-Artificial-Intelligence\\Part_3_Object_Detection\\YOLOv8\\datasets\\Pizza-Object-Detector-7\\test\\images\\00101_jpg.rf.2879bd64afb80e6c0c22152ac45c28d0.jpg: 640x640 1 Pizza, 7.0ms\n",
            "image 25/283 C:\\GitHubRepository\\Advanced-Computer-Vision-for-Artificial-Intelligence\\Part_3_Object_Detection\\YOLOv8\\datasets\\Pizza-Object-Detector-7\\test\\images\\00103_jpg.rf.2847f8b5287d2bd561ed57ad7d864240.jpg: 640x640 5 Cheeses, 1 Pizza, 10.0ms\n",
            "image 26/283 C:\\GitHubRepository\\Advanced-Computer-Vision-for-Artificial-Intelligence\\Part_3_Object_Detection\\YOLOv8\\datasets\\Pizza-Object-Detector-7\\test\\images\\00113_jpg.rf.80409cc2b1c224fbeab75d1622365e7f.jpg: 640x640 2 Basils, 3 Mushrooms, 1 Pizza, 7.0ms\n",
            "image 27/283 C:\\GitHubRepository\\Advanced-Computer-Vision-for-Artificial-Intelligence\\Part_3_Object_Detection\\YOLOv8\\datasets\\Pizza-Object-Detector-7\\test\\images\\00122_jpg.rf.3e2fa1128b7f7d57ee2a346031a5498e.jpg: 448x640 1 Pizza, 91.0ms\n",
            "image 28/283 C:\\GitHubRepository\\Advanced-Computer-Vision-for-Artificial-Intelligence\\Part_3_Object_Detection\\YOLOv8\\datasets\\Pizza-Object-Detector-7\\test\\images\\00127_jpg.rf.6fb01cb2594c584dbf923ee9c97e0fa6.jpg: 640x640 9 Pepperonis, 1 Pizza, 8.0ms\n",
            "image 29/283 C:\\GitHubRepository\\Advanced-Computer-Vision-for-Artificial-Intelligence\\Part_3_Object_Detection\\YOLOv8\\datasets\\Pizza-Object-Detector-7\\test\\images\\00131_jpg.rf.bbfe75b697d36d5fb6b1fa29c34cc0df.jpg: 640x640 6 Basils, 2 Pepperonis, 1 Peppers, 1 Pizza, 5 Tomatoess, 9.0ms\n",
            "image 30/283 C:\\GitHubRepository\\Advanced-Computer-Vision-for-Artificial-Intelligence\\Part_3_Object_Detection\\YOLOv8\\datasets\\Pizza-Object-Detector-7\\test\\images\\00133_jpg.rf.e281bb7120d7192770573a45f07d6700.jpg: 640x512 1 Basil, 1 Pizza, 9.0ms\n",
            "image 31/283 C:\\GitHubRepository\\Advanced-Computer-Vision-for-Artificial-Intelligence\\Part_3_Object_Detection\\YOLOv8\\datasets\\Pizza-Object-Detector-7\\test\\images\\00136_jpg.rf.0e9c5c92e945c2eefe5f80f8a9e8d4a7.jpg: 512x640 1 Pizza, 94.0ms\n",
            "image 32/283 C:\\GitHubRepository\\Advanced-Computer-Vision-for-Artificial-Intelligence\\Part_3_Object_Detection\\YOLOv8\\datasets\\Pizza-Object-Detector-7\\test\\images\\00137_jpg.rf.f306f256a9a41bc28bab850519ca65e3.jpg: 640x640 2 Pizzas, 10 Tomatoess, 10.0ms\n",
            "image 33/283 C:\\GitHubRepository\\Advanced-Computer-Vision-for-Artificial-Intelligence\\Part_3_Object_Detection\\YOLOv8\\datasets\\Pizza-Object-Detector-7\\test\\images\\00138_jpg.rf.ba2d25e91e16134e32d4cd7a2eee637b.jpg: 640x640 1 Pizza, 8.0ms\n",
            "image 34/283 C:\\GitHubRepository\\Advanced-Computer-Vision-for-Artificial-Intelligence\\Part_3_Object_Detection\\YOLOv8\\datasets\\Pizza-Object-Detector-7\\test\\images\\00140_jpg.rf.c098e71e910e2489be5c98603554eee9.jpg: 640x640 1 Basil, 2 Cheeses, 1 Pizza, 7.0ms\n",
            "image 35/283 C:\\GitHubRepository\\Advanced-Computer-Vision-for-Artificial-Intelligence\\Part_3_Object_Detection\\YOLOv8\\datasets\\Pizza-Object-Detector-7\\test\\images\\00143_jpg.rf.b91612368cbac78e78b6970ae0cd0c72.jpg: 640x640 1 Pizza, 8.0ms\n",
            "image 36/283 C:\\GitHubRepository\\Advanced-Computer-Vision-for-Artificial-Intelligence\\Part_3_Object_Detection\\YOLOv8\\datasets\\Pizza-Object-Detector-7\\test\\images\\00145_jpg.rf.71b3fe1200b11c6feb393225bf4593bb.jpg: 640x640 1 Mushroom, 7 Olivess, 6 Pepperonis, 1 Pizza, 9.0ms\n",
            "image 37/283 C:\\GitHubRepository\\Advanced-Computer-Vision-for-Artificial-Intelligence\\Part_3_Object_Detection\\YOLOv8\\datasets\\Pizza-Object-Detector-7\\test\\images\\00151_jpg.rf.575d4c0db587e5567e95e15f32fb479d.jpg: 640x640 19 Pepperonis, 1 Pizza, 8.0ms\n",
            "image 38/283 C:\\GitHubRepository\\Advanced-Computer-Vision-for-Artificial-Intelligence\\Part_3_Object_Detection\\YOLOv8\\datasets\\Pizza-Object-Detector-7\\test\\images\\00152_jpg.rf.7e4a5e1421b0151f799a5ad74e41bc42.jpg: 640x640 2 Basils, 1 Pizza, 11.0ms\n",
            "image 39/283 C:\\GitHubRepository\\Advanced-Computer-Vision-for-Artificial-Intelligence\\Part_3_Object_Detection\\YOLOv8\\datasets\\Pizza-Object-Detector-7\\test\\images\\00156_jpg.rf.7d676a92466dbccdde530e738c53ced3.jpg: 640x640 1 Mushroom, 2 Olivess, 1 Pizza, 7.0ms\n",
            "image 40/283 C:\\GitHubRepository\\Advanced-Computer-Vision-for-Artificial-Intelligence\\Part_3_Object_Detection\\YOLOv8\\datasets\\Pizza-Object-Detector-7\\test\\images\\00157_jpg.rf.d35aeadc85c64d3884f76ef2c6c87047.jpg: 640x640 1 Cheese, 5 Olivess, 1 Pizza, 7.0ms\n",
            "image 41/283 C:\\GitHubRepository\\Advanced-Computer-Vision-for-Artificial-Intelligence\\Part_3_Object_Detection\\YOLOv8\\datasets\\Pizza-Object-Detector-7\\test\\images\\00159_jpg.rf.d27cb5e64df46a8e5fa426c6b08dd099.jpg: 640x640 1 Pizza, 10.0ms\n",
            "image 42/283 C:\\GitHubRepository\\Advanced-Computer-Vision-for-Artificial-Intelligence\\Part_3_Object_Detection\\YOLOv8\\datasets\\Pizza-Object-Detector-7\\test\\images\\00160_jpg.rf.be294c159585f886ac47cc3c3ebba702.jpg: 640x640 6 Pepperonis, 1 Pizza, 8.0ms\n",
            "image 43/283 C:\\GitHubRepository\\Advanced-Computer-Vision-for-Artificial-Intelligence\\Part_3_Object_Detection\\YOLOv8\\datasets\\Pizza-Object-Detector-7\\test\\images\\00172_jpg.rf.8714c42d29a012c91e3a693e90bd9b75.jpg: 448x640 8 Pepperonis, 1 Pizza, 8.0ms\n",
            "image 44/283 C:\\GitHubRepository\\Advanced-Computer-Vision-for-Artificial-Intelligence\\Part_3_Object_Detection\\YOLOv8\\datasets\\Pizza-Object-Detector-7\\test\\images\\00173_jpg.rf.dc7186d1a2b3cae7c632632ad76d7c61.jpg: 640x640 3 Olivess, 7 Pepperonis, 1 Pizza, 1 Tomatoes, 10.0ms\n",
            "image 45/283 C:\\GitHubRepository\\Advanced-Computer-Vision-for-Artificial-Intelligence\\Part_3_Object_Detection\\YOLOv8\\datasets\\Pizza-Object-Detector-7\\test\\images\\00174_jpg.rf.97fbeb0d614b73087f0cc0fd9ddc55e7.jpg: 640x512 18 Pepperonis, 1 Pizza, 9.0ms\n",
            "image 46/283 C:\\GitHubRepository\\Advanced-Computer-Vision-for-Artificial-Intelligence\\Part_3_Object_Detection\\YOLOv8\\datasets\\Pizza-Object-Detector-7\\test\\images\\00175_jpg.rf.0e3770c07bc38fc88f173be6e83e10b6.jpg: 640x544 31 Pepperonis, 1 Pizza, 10.5ms\n",
            "image 47/283 C:\\GitHubRepository\\Advanced-Computer-Vision-for-Artificial-Intelligence\\Part_3_Object_Detection\\YOLOv8\\datasets\\Pizza-Object-Detector-7\\test\\images\\00183_jpg.rf.6db92622af49d59a86e3594e0b0b8d3b.jpg: 448x640 1 Pizza, 9.0ms\n",
            "image 48/283 C:\\GitHubRepository\\Advanced-Computer-Vision-for-Artificial-Intelligence\\Part_3_Object_Detection\\YOLOv8\\datasets\\Pizza-Object-Detector-7\\test\\images\\00185_jpg.rf.920c3b30f1877e6c57ed49bad40f2cb6.jpg: 640x640 1 Mushroom, 2 Pepperonis, 2 Pizzas, 10.0ms\n",
            "image 49/283 C:\\GitHubRepository\\Advanced-Computer-Vision-for-Artificial-Intelligence\\Part_3_Object_Detection\\YOLOv8\\datasets\\Pizza-Object-Detector-7\\test\\images\\00189_jpg.rf.0f7a61e8f6cc790c8df674c7829856e1.jpg: 384x640 1 Basil, 2 Cheeses, 1 Pizza, 2 Tomatoess, 8.0ms\n",
            "image 50/283 C:\\GitHubRepository\\Advanced-Computer-Vision-for-Artificial-Intelligence\\Part_3_Object_Detection\\YOLOv8\\datasets\\Pizza-Object-Detector-7\\test\\images\\00192_jpg.rf.e83c652f259315b0797dc34eebd6b59e.jpg: 640x512 1 Pizza, 8.0ms\n",
            "image 51/283 C:\\GitHubRepository\\Advanced-Computer-Vision-for-Artificial-Intelligence\\Part_3_Object_Detection\\YOLOv8\\datasets\\Pizza-Object-Detector-7\\test\\images\\00200_jpg.rf.03a0429bc8acf3836be846829be356db.jpg: 640x640 6 Mushrooms, 1 Pepperoni, 1 Pizza, 9.0ms\n",
            "image 52/283 C:\\GitHubRepository\\Advanced-Computer-Vision-for-Artificial-Intelligence\\Part_3_Object_Detection\\YOLOv8\\datasets\\Pizza-Object-Detector-7\\test\\images\\00252_jpg.rf.9c42a09acfd1b3745ecbca977893634f.jpg: 640x640 25 Pepperonis, 2 Pizzas, 8.0ms\n",
            "image 53/283 C:\\GitHubRepository\\Advanced-Computer-Vision-for-Artificial-Intelligence\\Part_3_Object_Detection\\YOLOv8\\datasets\\Pizza-Object-Detector-7\\test\\images\\00258_jpg.rf.6db774e1a334906ee7c86131f51ca23f.jpg: 640x544 1 Cheese, 22 Pepperonis, 1 Pizza, 9.0ms\n",
            "image 54/283 C:\\GitHubRepository\\Advanced-Computer-Vision-for-Artificial-Intelligence\\Part_3_Object_Detection\\YOLOv8\\datasets\\Pizza-Object-Detector-7\\test\\images\\00264_jpg.rf.411705b5c84f6b11c749c3d4d140be3f.jpg: 640x544 1 Pizza, 8 Tomatoess, 7.0ms\n",
            "image 55/283 C:\\GitHubRepository\\Advanced-Computer-Vision-for-Artificial-Intelligence\\Part_3_Object_Detection\\YOLOv8\\datasets\\Pizza-Object-Detector-7\\test\\images\\00265_jpg.rf.72a84832d26d4185bd1bbaf17318d9f5.jpg: 640x512 1 Pizza, 7.0ms\n",
            "image 56/283 C:\\GitHubRepository\\Advanced-Computer-Vision-for-Artificial-Intelligence\\Part_3_Object_Detection\\YOLOv8\\datasets\\Pizza-Object-Detector-7\\test\\images\\00266_jpg.rf.ca86b251204cb031a142483868ba111c.jpg: 640x640 3 Basils, 1 Cheese, 1 Pizza, 7.0ms\n",
            "image 57/283 C:\\GitHubRepository\\Advanced-Computer-Vision-for-Artificial-Intelligence\\Part_3_Object_Detection\\YOLOv8\\datasets\\Pizza-Object-Detector-7\\test\\images\\00923_jpg.rf.39f75684bbec1a981cb9939d14804a18.jpg: 640x640 1 Pizza, 7.0ms\n",
            "image 58/283 C:\\GitHubRepository\\Advanced-Computer-Vision-for-Artificial-Intelligence\\Part_3_Object_Detection\\YOLOv8\\datasets\\Pizza-Object-Detector-7\\test\\images\\00927_jpg.rf.fdfee87b686bc20a404f11950b1448db.jpg: 640x640 2 Basils, 2 Cheeses, 3 Pepperonis, 2 Pizzas, 1 Tomatoes, 8.0ms\n",
            "image 59/283 C:\\GitHubRepository\\Advanced-Computer-Vision-for-Artificial-Intelligence\\Part_3_Object_Detection\\YOLOv8\\datasets\\Pizza-Object-Detector-7\\test\\images\\00930_jpg.rf.78c1e4fc91d817347ad02428d44f6aa6.jpg: 608x640 13 Mushrooms, 1 Pizza, 94.0ms\n",
            "image 60/283 C:\\GitHubRepository\\Advanced-Computer-Vision-for-Artificial-Intelligence\\Part_3_Object_Detection\\YOLOv8\\datasets\\Pizza-Object-Detector-7\\test\\images\\00931_jpg.rf.7597a88e02bffa814a7e0219130e3668.jpg: 640x640 3 Pepperonis, 1 Pizza, 8.0ms\n",
            "image 61/283 C:\\GitHubRepository\\Advanced-Computer-Vision-for-Artificial-Intelligence\\Part_3_Object_Detection\\YOLOv8\\datasets\\Pizza-Object-Detector-7\\test\\images\\00934_jpg.rf.34431758b8a0325e5bc568493ac667af.jpg: 640x640 2 Pepperonis, 1 Pizza, 1 Tomatoes, 9.0ms\n",
            "image 62/283 C:\\GitHubRepository\\Advanced-Computer-Vision-for-Artificial-Intelligence\\Part_3_Object_Detection\\YOLOv8\\datasets\\Pizza-Object-Detector-7\\test\\images\\00935_jpg.rf.748ebcee95fabb60aad3372c9e7c3f06.jpg: 480x640 1 Ham, 12 Olivess, 1 Peppers, 1 Pizza, 2 Tomatoess, 9.0ms\n",
            "image 63/283 C:\\GitHubRepository\\Advanced-Computer-Vision-for-Artificial-Intelligence\\Part_3_Object_Detection\\YOLOv8\\datasets\\Pizza-Object-Detector-7\\test\\images\\00936_jpg.rf.0b87217a0e17f366bbe581a2c14dbae5.jpg: 640x640 2 Mushrooms, 4 Pepperonis, 1 Pizza, 8.0ms\n",
            "image 64/283 C:\\GitHubRepository\\Advanced-Computer-Vision-for-Artificial-Intelligence\\Part_3_Object_Detection\\YOLOv8\\datasets\\Pizza-Object-Detector-7\\test\\images\\00937_jpg.rf.aad2779e73259170a4dada19c5cc3c45.jpg: 640x640 24 Pepperonis, 1 Pizza, 6.0ms\n",
            "image 65/283 C:\\GitHubRepository\\Advanced-Computer-Vision-for-Artificial-Intelligence\\Part_3_Object_Detection\\YOLOv8\\datasets\\Pizza-Object-Detector-7\\test\\images\\00938_jpg.rf.d5f935e70d49052633897f66738b2f5a.jpg: 640x640 2 Pepperonis, 1 Pizza, 6.0ms\n",
            "image 66/283 C:\\GitHubRepository\\Advanced-Computer-Vision-for-Artificial-Intelligence\\Part_3_Object_Detection\\YOLOv8\\datasets\\Pizza-Object-Detector-7\\test\\images\\00940_jpg.rf.a53307e849b696d5925716667db03bee.jpg: 480x640 2 Mushrooms, 1 Pizza, 7.0ms\n",
            "image 67/283 C:\\GitHubRepository\\Advanced-Computer-Vision-for-Artificial-Intelligence\\Part_3_Object_Detection\\YOLOv8\\datasets\\Pizza-Object-Detector-7\\test\\images\\00941_jpg.rf.8bc36bdf6d8989967885cbdafb20180d.jpg: 640x640 15 Pepperonis, 1 Pizza, 8.0ms\n",
            "image 68/283 C:\\GitHubRepository\\Advanced-Computer-Vision-for-Artificial-Intelligence\\Part_3_Object_Detection\\YOLOv8\\datasets\\Pizza-Object-Detector-7\\test\\images\\00943_jpg.rf.913ff966f3ef9c7dcaac55dffc53e71f.jpg: 640x640 1 Basil, 1 Pizza, 7.0ms\n",
            "image 69/283 C:\\GitHubRepository\\Advanced-Computer-Vision-for-Artificial-Intelligence\\Part_3_Object_Detection\\YOLOv8\\datasets\\Pizza-Object-Detector-7\\test\\images\\00944_jpg.rf.871a5ada40f595e6c4276f120448b3b0.jpg: 640x512 1 Pepperoni, 1 Pizza, 8.0ms\n",
            "image 70/283 C:\\GitHubRepository\\Advanced-Computer-Vision-for-Artificial-Intelligence\\Part_3_Object_Detection\\YOLOv8\\datasets\\Pizza-Object-Detector-7\\test\\images\\00947_jpg.rf.1ea3a97a90e49368338c1815dd5c2c28.jpg: 640x640 1 Peppers, 1 Pizza, 8.0ms\n",
            "image 71/283 C:\\GitHubRepository\\Advanced-Computer-Vision-for-Artificial-Intelligence\\Part_3_Object_Detection\\YOLOv8\\datasets\\Pizza-Object-Detector-7\\test\\images\\00949_jpg.rf.1a736e58dac510f945c416d02a39707b.jpg: 480x640 4 Pepperonis, 1 Pizza, 7.0ms\n",
            "image 72/283 C:\\GitHubRepository\\Advanced-Computer-Vision-for-Artificial-Intelligence\\Part_3_Object_Detection\\YOLOv8\\datasets\\Pizza-Object-Detector-7\\test\\images\\00950_jpg.rf.03fedd9b7aa148e8f54f96930edb2dc2.jpg: 480x640 1 Pizza, 6.0ms\n",
            "image 73/283 C:\\GitHubRepository\\Advanced-Computer-Vision-for-Artificial-Intelligence\\Part_3_Object_Detection\\YOLOv8\\datasets\\Pizza-Object-Detector-7\\test\\images\\00951_jpg.rf.4fba4817f956fbe954a80e975048547e.jpg: 640x512 1 Mushroom, 1 Peppers, 1 Pizza, 7.0ms\n",
            "image 74/283 C:\\GitHubRepository\\Advanced-Computer-Vision-for-Artificial-Intelligence\\Part_3_Object_Detection\\YOLOv8\\datasets\\Pizza-Object-Detector-7\\test\\images\\00952_jpg.rf.8656e9f86830571cccca6bf83785f8da.jpg: 640x640 1 Chicken, 8 Pepperonis, 1 Peppers, 1 Pizza, 8.0ms\n",
            "image 75/283 C:\\GitHubRepository\\Advanced-Computer-Vision-for-Artificial-Intelligence\\Part_3_Object_Detection\\YOLOv8\\datasets\\Pizza-Object-Detector-7\\test\\images\\00953_jpg.rf.a28052fc14315efa41eebf1205e136b9.jpg: 640x512 1 Peppers, 1 Pizza, 9.0ms\n",
            "image 76/283 C:\\GitHubRepository\\Advanced-Computer-Vision-for-Artificial-Intelligence\\Part_3_Object_Detection\\YOLOv8\\datasets\\Pizza-Object-Detector-7\\test\\images\\00954_jpg.rf.b3cccd7e86702ac69959bfe6f9a70a7d.jpg: 448x640 3 Mushrooms, 1 Olives, 2 Pepperss, 1 Pizza, 7.0ms\n",
            "image 77/283 C:\\GitHubRepository\\Advanced-Computer-Vision-for-Artificial-Intelligence\\Part_3_Object_Detection\\YOLOv8\\datasets\\Pizza-Object-Detector-7\\test\\images\\00955_jpg.rf.a60228645fc235e27be0b301d540c04f.jpg: 640x640 1 Pepperoni, 1 Pizza, 11.0ms\n",
            "image 78/283 C:\\GitHubRepository\\Advanced-Computer-Vision-for-Artificial-Intelligence\\Part_3_Object_Detection\\YOLOv8\\datasets\\Pizza-Object-Detector-7\\test\\images\\00957_jpg.rf.74e9c320ee8711b960501a9b0691904b.jpg: 640x640 2 Basils, 2 Pizzas, 9.0ms\n",
            "image 79/283 C:\\GitHubRepository\\Advanced-Computer-Vision-for-Artificial-Intelligence\\Part_3_Object_Detection\\YOLOv8\\datasets\\Pizza-Object-Detector-7\\test\\images\\00959_jpg.rf.d87e3ab09acb016c6edfd2ea18dd9122.jpg: 640x640 2 Olivess, 6 Pepperss, 1 Pizza, 1 Tomatoes, 10.0ms\n",
            "image 80/283 C:\\GitHubRepository\\Advanced-Computer-Vision-for-Artificial-Intelligence\\Part_3_Object_Detection\\YOLOv8\\datasets\\Pizza-Object-Detector-7\\test\\images\\00960_jpg.rf.d820eff989e8995e686facd61825623b.jpg: 640x640 3 Cheeses, 1 Chicken, 1 Pizza, 14.0ms\n",
            "image 81/283 C:\\GitHubRepository\\Advanced-Computer-Vision-for-Artificial-Intelligence\\Part_3_Object_Detection\\YOLOv8\\datasets\\Pizza-Object-Detector-7\\test\\images\\00961_jpg.rf.fd9cbb6d6dbd8dc9c55537254995b384.jpg: 608x640 1 Cheese, 1 Pizza, 1 Tomatoes, 17.0ms\n",
            "image 82/283 C:\\GitHubRepository\\Advanced-Computer-Vision-for-Artificial-Intelligence\\Part_3_Object_Detection\\YOLOv8\\datasets\\Pizza-Object-Detector-7\\test\\images\\00962_jpg.rf.77c193a56f4d0d5a1bf884163b96af0d.jpg: 608x640 1 Onion, 1 Pizza, 4 Tomatoess, 11.0ms\n",
            "image 83/283 C:\\GitHubRepository\\Advanced-Computer-Vision-for-Artificial-Intelligence\\Part_3_Object_Detection\\YOLOv8\\datasets\\Pizza-Object-Detector-7\\test\\images\\00963_jpg.rf.82e7d19432432c5a16a31fbc68833049.jpg: 512x640 1 Pizza, 2 Tomatoess, 12.0ms\n",
            "image 84/283 C:\\GitHubRepository\\Advanced-Computer-Vision-for-Artificial-Intelligence\\Part_3_Object_Detection\\YOLOv8\\datasets\\Pizza-Object-Detector-7\\test\\images\\00964_jpg.rf.799d0d9562eab88be30b7224fd117b80.jpg: 640x640 3 Pepperonis, 2 Pepperss, 1 Pizza, 14.6ms\n",
            "image 85/283 C:\\GitHubRepository\\Advanced-Computer-Vision-for-Artificial-Intelligence\\Part_3_Object_Detection\\YOLOv8\\datasets\\Pizza-Object-Detector-7\\test\\images\\00965_jpg.rf.8a834a1c0bf222714595df370d99f4fa.jpg: 640x640 36 Pepperonis, 1 Pizza, 10.0ms\n",
            "image 86/283 C:\\GitHubRepository\\Advanced-Computer-Vision-for-Artificial-Intelligence\\Part_3_Object_Detection\\YOLOv8\\datasets\\Pizza-Object-Detector-7\\test\\images\\00966_jpg.rf.0077e1619e23df4db32514ddbd701b92.jpg: 640x512 9 Pepperonis, 1 Pizza, 10.0ms\n",
            "image 87/283 C:\\GitHubRepository\\Advanced-Computer-Vision-for-Artificial-Intelligence\\Part_3_Object_Detection\\YOLOv8\\datasets\\Pizza-Object-Detector-7\\test\\images\\00967_jpg.rf.422f8a93012b17d11454c6cf9249d9ba.jpg: 640x640 1 Basil, 3 Pepperonis, 1 Pizza, 14.0ms\n",
            "image 88/283 C:\\GitHubRepository\\Advanced-Computer-Vision-for-Artificial-Intelligence\\Part_3_Object_Detection\\YOLOv8\\datasets\\Pizza-Object-Detector-7\\test\\images\\00969_jpg.rf.3ca955a29d03b32f49516db889f8e4be.jpg: 544x640 2 Mushrooms, 15 Pepperonis, 1 Pizza, 77.0ms\n",
            "image 89/283 C:\\GitHubRepository\\Advanced-Computer-Vision-for-Artificial-Intelligence\\Part_3_Object_Detection\\YOLOv8\\datasets\\Pizza-Object-Detector-7\\test\\images\\00971_jpg.rf.6a7a24e3ed65d4ce5bfc54f6b3d27f63.jpg: 640x640 6 Pepperonis, 1 Pizza, 16.0ms\n",
            "image 90/283 C:\\GitHubRepository\\Advanced-Computer-Vision-for-Artificial-Intelligence\\Part_3_Object_Detection\\YOLOv8\\datasets\\Pizza-Object-Detector-7\\test\\images\\00972_jpg.rf.61bebce8946c8409a0eec51d939e1198.jpg: 640x640 1 Pizza, 14.0ms\n",
            "image 91/283 C:\\GitHubRepository\\Advanced-Computer-Vision-for-Artificial-Intelligence\\Part_3_Object_Detection\\YOLOv8\\datasets\\Pizza-Object-Detector-7\\test\\images\\00973_jpg.rf.ee41129f10ff3b9f9bb416d985bb5d47.jpg: 512x640 11 Basils, 2 Cheeses, 1 Pizza, 13.4ms\n",
            "image 92/283 C:\\GitHubRepository\\Advanced-Computer-Vision-for-Artificial-Intelligence\\Part_3_Object_Detection\\YOLOv8\\datasets\\Pizza-Object-Detector-7\\test\\images\\00974_jpg.rf.4f180f0805bff5a62495d5b0df5b40f3.jpg: 640x512 3 Basils, 1 Pizza, 11.0ms\n",
            "image 93/283 C:\\GitHubRepository\\Advanced-Computer-Vision-for-Artificial-Intelligence\\Part_3_Object_Detection\\YOLOv8\\datasets\\Pizza-Object-Detector-7\\test\\images\\00975_jpg.rf.863affbbbec22fc1bde3f7001615511f.jpg: 480x640 1 Pepperoni, 1 Pizza, 13.0ms\n",
            "image 94/283 C:\\GitHubRepository\\Advanced-Computer-Vision-for-Artificial-Intelligence\\Part_3_Object_Detection\\YOLOv8\\datasets\\Pizza-Object-Detector-7\\test\\images\\00977_jpg.rf.d4594c3bb17102226c454bf7a51110be.jpg: 640x640 (no detections), 17.0ms\n",
            "image 95/283 C:\\GitHubRepository\\Advanced-Computer-Vision-for-Artificial-Intelligence\\Part_3_Object_Detection\\YOLOv8\\datasets\\Pizza-Object-Detector-7\\test\\images\\00978_jpg.rf.ac7da46f08b079dbcd2e025a1d7b3f7f.jpg: 480x640 1 Basil, 1 Cheese, 1 Pizza, 9.0ms\n",
            "image 96/283 C:\\GitHubRepository\\Advanced-Computer-Vision-for-Artificial-Intelligence\\Part_3_Object_Detection\\YOLOv8\\datasets\\Pizza-Object-Detector-7\\test\\images\\00979_jpg.rf.5a1641663643619855c27aa9317e4a92.jpg: 640x640 1 Cheese, 3 Pepperss, 1 Pizza, 14.0ms\n",
            "image 97/283 C:\\GitHubRepository\\Advanced-Computer-Vision-for-Artificial-Intelligence\\Part_3_Object_Detection\\YOLOv8\\datasets\\Pizza-Object-Detector-7\\test\\images\\00980_jpg.rf.6d82e20de7621e5999494aa49071fe0c.jpg: 640x640 1 Pizza, 12.0ms\n",
            "image 98/283 C:\\GitHubRepository\\Advanced-Computer-Vision-for-Artificial-Intelligence\\Part_3_Object_Detection\\YOLOv8\\datasets\\Pizza-Object-Detector-7\\test\\images\\00981_jpg.rf.e2dc2106ba874880eb0d28a84e7a0262.jpg: 448x640 1 Pizza, 1 Tomatoes, 10.0ms\n",
            "image 99/283 C:\\GitHubRepository\\Advanced-Computer-Vision-for-Artificial-Intelligence\\Part_3_Object_Detection\\YOLOv8\\datasets\\Pizza-Object-Detector-7\\test\\images\\00983_jpg.rf.86281dce3ea13530ebee06dd7c1a5478.jpg: 480x640 1 Pizza, 10.0ms\n",
            "image 100/283 C:\\GitHubRepository\\Advanced-Computer-Vision-for-Artificial-Intelligence\\Part_3_Object_Detection\\YOLOv8\\datasets\\Pizza-Object-Detector-7\\test\\images\\00984_jpg.rf.863c141aa713eeac0cb4db30b56311d6.jpg: 640x640 1 Pizza, 13.0ms\n",
            "image 101/283 C:\\GitHubRepository\\Advanced-Computer-Vision-for-Artificial-Intelligence\\Part_3_Object_Detection\\YOLOv8\\datasets\\Pizza-Object-Detector-7\\test\\images\\00985_jpg.rf.223ed42ff3ca6fbeba3584ea1191a894.jpg: 640x512 3 Pepperonis, 1 Pizza, 16.0ms\n",
            "image 102/283 C:\\GitHubRepository\\Advanced-Computer-Vision-for-Artificial-Intelligence\\Part_3_Object_Detection\\YOLOv8\\datasets\\Pizza-Object-Detector-7\\test\\images\\00986_jpg.rf.9de70577cafc24ce801680d74172165d.jpg: 640x640 1 Basil, 3 Pepperonis, 1 Pizza, 1 Tomatoes, 13.0ms\n",
            "image 103/283 C:\\GitHubRepository\\Advanced-Computer-Vision-for-Artificial-Intelligence\\Part_3_Object_Detection\\YOLOv8\\datasets\\Pizza-Object-Detector-7\\test\\images\\00987_jpg.rf.e2ffc6bba9bf6e97bb7890319ca9c0d2.jpg: 640x640 1 Pizza, 9 Tomatoess, 12.0ms\n",
            "image 104/283 C:\\GitHubRepository\\Advanced-Computer-Vision-for-Artificial-Intelligence\\Part_3_Object_Detection\\YOLOv8\\datasets\\Pizza-Object-Detector-7\\test\\images\\00988_jpg.rf.8b870c5ebbddbc47b673d05cdf7f827a.jpg: 640x640 6 Pepperonis, 1 Pizza, 17.0ms\n",
            "image 105/283 C:\\GitHubRepository\\Advanced-Computer-Vision-for-Artificial-Intelligence\\Part_3_Object_Detection\\YOLOv8\\datasets\\Pizza-Object-Detector-7\\test\\images\\00989_jpg.rf.4a45fc1efce07cdcf9bea40a43a8e901.jpg: 640x640 41 Pepperonis, 1 Pizza, 20.0ms\n",
            "image 106/283 C:\\GitHubRepository\\Advanced-Computer-Vision-for-Artificial-Intelligence\\Part_3_Object_Detection\\YOLOv8\\datasets\\Pizza-Object-Detector-7\\test\\images\\00990_jpg.rf.73afe4d7042e7ad6d7c92218ad9cfc57.jpg: 448x640 1 Pizza, 9.0ms\n",
            "image 107/283 C:\\GitHubRepository\\Advanced-Computer-Vision-for-Artificial-Intelligence\\Part_3_Object_Detection\\YOLOv8\\datasets\\Pizza-Object-Detector-7\\test\\images\\00991_jpg.rf.4c61ac0f0747eed42ef3cf70c11e26a2.jpg: 640x640 1 Mushroom, 1 Olives, 13 Pepperonis, 1 Peppers, 1 Pizza, 19.6ms\n",
            "image 108/283 C:\\GitHubRepository\\Advanced-Computer-Vision-for-Artificial-Intelligence\\Part_3_Object_Detection\\YOLOv8\\datasets\\Pizza-Object-Detector-7\\test\\images\\00992_jpg.rf.0f84cbc2290eac6981aaeb520b6211dc.jpg: 640x640 3 Mushrooms, 1 Onion, 2 Pizzas, 13.0ms\n",
            "image 109/283 C:\\GitHubRepository\\Advanced-Computer-Vision-for-Artificial-Intelligence\\Part_3_Object_Detection\\YOLOv8\\datasets\\Pizza-Object-Detector-7\\test\\images\\00993_jpg.rf.628af9d5f490dfe5e5012a33f5c29dee.jpg: 640x640 1 Pizza, 16.7ms\n",
            "image 110/283 C:\\GitHubRepository\\Advanced-Computer-Vision-for-Artificial-Intelligence\\Part_3_Object_Detection\\YOLOv8\\datasets\\Pizza-Object-Detector-7\\test\\images\\00994_jpg.rf.2c00a2a259caaf453852d701a9d8f4c0.jpg: 640x640 1 Pizza, 13.0ms\n",
            "image 111/283 C:\\GitHubRepository\\Advanced-Computer-Vision-for-Artificial-Intelligence\\Part_3_Object_Detection\\YOLOv8\\datasets\\Pizza-Object-Detector-7\\test\\images\\00996_jpg.rf.d379fad64d8bad3face20fac04fd627d.jpg: 640x640 15 Olivess, 1 Pizza, 11.0ms\n",
            "image 112/283 C:\\GitHubRepository\\Advanced-Computer-Vision-for-Artificial-Intelligence\\Part_3_Object_Detection\\YOLOv8\\datasets\\Pizza-Object-Detector-7\\test\\images\\00997_jpg.rf.69bfd7912e613589b192c2d7e5f2b68c.jpg: 640x608 2 Olivess, 3 Pepperonis, 1 Peppers, 1 Pizza, 99.0ms\n",
            "image 113/283 C:\\GitHubRepository\\Advanced-Computer-Vision-for-Artificial-Intelligence\\Part_3_Object_Detection\\YOLOv8\\datasets\\Pizza-Object-Detector-7\\test\\images\\00998_jpg.rf.fc39a24f354ec2be9c877a08a95cfde9.jpg: 640x640 12 Pepperonis, 1 Pizza, 13.0ms\n",
            "image 114/283 C:\\GitHubRepository\\Advanced-Computer-Vision-for-Artificial-Intelligence\\Part_3_Object_Detection\\YOLOv8\\datasets\\Pizza-Object-Detector-7\\test\\images\\00999_jpg.rf.344348464fac697b32f415b520986ec0.jpg: 640x640 5 Basils, 1 Pizza, 15.0ms\n",
            "image 115/283 C:\\GitHubRepository\\Advanced-Computer-Vision-for-Artificial-Intelligence\\Part_3_Object_Detection\\YOLOv8\\datasets\\Pizza-Object-Detector-7\\test\\images\\01000_jpg.rf.4a3f902015bcb82f360b6a0b2aa19030.jpg: 480x640 7 Basils, 4 Cheeses, 1 Pizza, 10.0ms\n",
            "image 116/283 C:\\GitHubRepository\\Advanced-Computer-Vision-for-Artificial-Intelligence\\Part_3_Object_Detection\\YOLOv8\\datasets\\Pizza-Object-Detector-7\\test\\images\\01002_jpg.rf.3b3f8a0446779df99d9f0503c4db3db6.jpg: 640x640 1 Basil, 9 Olivess, 1 Peppers, 1 Pizza, 1 Tomatoes, 26.4ms\n",
            "image 117/283 C:\\GitHubRepository\\Advanced-Computer-Vision-for-Artificial-Intelligence\\Part_3_Object_Detection\\YOLOv8\\datasets\\Pizza-Object-Detector-7\\test\\images\\01004_jpg.rf.e9503759835cd2eb1fa05d6607c38113.jpg: 512x640 1 Peppers, 1 Pizza, 18.0ms\n",
            "image 118/283 C:\\GitHubRepository\\Advanced-Computer-Vision-for-Artificial-Intelligence\\Part_3_Object_Detection\\YOLOv8\\datasets\\Pizza-Object-Detector-7\\test\\images\\01005_jpg.rf.629b04924bd9ccf1e5f597ded040bd90.jpg: 640x640 2 Basils, 1 Pizza, 23 Tomatoess, 15.9ms\n",
            "image 119/283 C:\\GitHubRepository\\Advanced-Computer-Vision-for-Artificial-Intelligence\\Part_3_Object_Detection\\YOLOv8\\datasets\\Pizza-Object-Detector-7\\test\\images\\01006_jpg.rf.5bac864dfc714d005345d38c70f9fe89.jpg: 640x640 2 Basils, 1 Cheese, 1 Pizza, 5 Tomatoess, 13.6ms\n",
            "image 120/283 C:\\GitHubRepository\\Advanced-Computer-Vision-for-Artificial-Intelligence\\Part_3_Object_Detection\\YOLOv8\\datasets\\Pizza-Object-Detector-7\\test\\images\\01007_jpg.rf.e1cd52622c2c29a63f4b6442275c6242.jpg: 640x640 8 Pepperonis, 1 Pizza, 14.0ms\n",
            "image 121/283 C:\\GitHubRepository\\Advanced-Computer-Vision-for-Artificial-Intelligence\\Part_3_Object_Detection\\YOLOv8\\datasets\\Pizza-Object-Detector-7\\test\\images\\01008_jpg.rf.bf93dbeda7dc74e1ac5fd23fbce987f0.jpg: 448x640 1 Mushroom, 5 Olivess, 1 Pizza, 9 Tomatoess, 9.0ms\n",
            "image 122/283 C:\\GitHubRepository\\Advanced-Computer-Vision-for-Artificial-Intelligence\\Part_3_Object_Detection\\YOLOv8\\datasets\\Pizza-Object-Detector-7\\test\\images\\01009_jpg.rf.84e41c02da4a0f278847fe8be5095f2d.jpg: 640x512 2 Pizzas, 13.0ms\n",
            "image 123/283 C:\\GitHubRepository\\Advanced-Computer-Vision-for-Artificial-Intelligence\\Part_3_Object_Detection\\YOLOv8\\datasets\\Pizza-Object-Detector-7\\test\\images\\01011_jpg.rf.142e1d4225ce34f89b0c99931be49eed.jpg: 640x512 4 Pepperonis, 10 Pepperss, 2 Pizzas, 11.0ms\n",
            "image 124/283 C:\\GitHubRepository\\Advanced-Computer-Vision-for-Artificial-Intelligence\\Part_3_Object_Detection\\YOLOv8\\datasets\\Pizza-Object-Detector-7\\test\\images\\01012_jpg.rf.67390d28fdbe9cc1dde2a29a9a6f1d32.jpg: 640x640 1 Pepperoni, 1 Pizza, 19.0ms\n",
            "image 125/283 C:\\GitHubRepository\\Advanced-Computer-Vision-for-Artificial-Intelligence\\Part_3_Object_Detection\\YOLOv8\\datasets\\Pizza-Object-Detector-7\\test\\images\\01013_jpg.rf.f1602a6e5027d49153792b1ce8f6011e.jpg: 640x640 3 Pepperonis, 1 Pizza, 15.8ms\n",
            "image 126/283 C:\\GitHubRepository\\Advanced-Computer-Vision-for-Artificial-Intelligence\\Part_3_Object_Detection\\YOLOv8\\datasets\\Pizza-Object-Detector-7\\test\\images\\01014_jpg.rf.1eb42c4fb9b155f119bfa86a3e5b71eb.jpg: 640x640 2 Basils, 1 Pizza, 12.0ms\n",
            "image 127/283 C:\\GitHubRepository\\Advanced-Computer-Vision-for-Artificial-Intelligence\\Part_3_Object_Detection\\YOLOv8\\datasets\\Pizza-Object-Detector-7\\test\\images\\01015_jpg.rf.eb901708ac9bfa00e778531570d7afe3.jpg: 640x640 1 Pizza, 18.9ms\n",
            "image 128/283 C:\\GitHubRepository\\Advanced-Computer-Vision-for-Artificial-Intelligence\\Part_3_Object_Detection\\YOLOv8\\datasets\\Pizza-Object-Detector-7\\test\\images\\01016_jpg.rf.5a186d28db3436258e05627fa8d426d2.jpg: 640x640 8 Pepperonis, 1 Pizza, 18.0ms\n",
            "image 129/283 C:\\GitHubRepository\\Advanced-Computer-Vision-for-Artificial-Intelligence\\Part_3_Object_Detection\\YOLOv8\\datasets\\Pizza-Object-Detector-7\\test\\images\\01017_jpg.rf.d15fa5706d51bcf6bd3dfb825635f3a0.jpg: 640x640 1 Pizza, 4 Tomatoess, 14.0ms\n",
            "image 130/283 C:\\GitHubRepository\\Advanced-Computer-Vision-for-Artificial-Intelligence\\Part_3_Object_Detection\\YOLOv8\\datasets\\Pizza-Object-Detector-7\\test\\images\\01019_jpg.rf.f49e5353a61311f9fa98fd01b0a6d931.jpg: 640x640 1 Pizza, 15.0ms\n",
            "image 131/283 C:\\GitHubRepository\\Advanced-Computer-Vision-for-Artificial-Intelligence\\Part_3_Object_Detection\\YOLOv8\\datasets\\Pizza-Object-Detector-7\\test\\images\\01020_jpg.rf.b5ea035209c8651b6670dbc2cf722d16.jpg: 640x640 3 Cheeses, 2 Mushrooms, 1 Pepperoni, 1 Pizza, 17.7ms\n",
            "image 132/283 C:\\GitHubRepository\\Advanced-Computer-Vision-for-Artificial-Intelligence\\Part_3_Object_Detection\\YOLOv8\\datasets\\Pizza-Object-Detector-7\\test\\images\\01021_jpg.rf.4cf2e944ba8d0184be78e2fa2cb6e1a5.jpg: 512x640 7 Basils, 3 Cheeses, 2 Pizzas, 17.0ms\n",
            "image 133/283 C:\\GitHubRepository\\Advanced-Computer-Vision-for-Artificial-Intelligence\\Part_3_Object_Detection\\YOLOv8\\datasets\\Pizza-Object-Detector-7\\test\\images\\01022_jpg.rf.84b8b3a9141415a8a35a79ff740d7c1a.jpg: 608x640 3 Pepperonis, 1 Pizza, 13.0ms\n",
            "image 134/283 C:\\GitHubRepository\\Advanced-Computer-Vision-for-Artificial-Intelligence\\Part_3_Object_Detection\\YOLOv8\\datasets\\Pizza-Object-Detector-7\\test\\images\\01023_jpg.rf.5b4c0e7dc5ae1807c3f5ca94f1745a9f.jpg: 640x640 2 Chickens, 1 Mushroom, 3 Olivess, 1 Peppers, 1 Pizza, 19.0ms\n",
            "image 135/283 C:\\GitHubRepository\\Advanced-Computer-Vision-for-Artificial-Intelligence\\Part_3_Object_Detection\\YOLOv8\\datasets\\Pizza-Object-Detector-7\\test\\images\\01024_jpg.rf.6964605fbf8f6e7a0a34c6d232b8aab7.jpg: 640x640 7 Basils, 1 Mushroom, 9 Olivess, 3 Pepperonis, 1 Pizza, 12.0ms\n",
            "image 136/283 C:\\GitHubRepository\\Advanced-Computer-Vision-for-Artificial-Intelligence\\Part_3_Object_Detection\\YOLOv8\\datasets\\Pizza-Object-Detector-7\\test\\images\\01025_jpg.rf.8cc9d9b5334245e9140a58cbc315aa68.jpg: 640x512 19 Pepperonis, 1 Pizza, 17.0ms\n",
            "image 137/283 C:\\GitHubRepository\\Advanced-Computer-Vision-for-Artificial-Intelligence\\Part_3_Object_Detection\\YOLOv8\\datasets\\Pizza-Object-Detector-7\\test\\images\\01027_jpg.rf.ec6a8d5888a5661b2ce2b56b96c44edb.jpg: 480x640 24 Pepperonis, 1 Pizza, 10.0ms\n",
            "image 138/283 C:\\GitHubRepository\\Advanced-Computer-Vision-for-Artificial-Intelligence\\Part_3_Object_Detection\\YOLOv8\\datasets\\Pizza-Object-Detector-7\\test\\images\\01029_jpg.rf.127c873bf1c6fa5bd92577c2bfb8e400.jpg: 640x640 1 Pizza, 1 Tomatoes, 17.0ms\n",
            "image 139/283 C:\\GitHubRepository\\Advanced-Computer-Vision-for-Artificial-Intelligence\\Part_3_Object_Detection\\YOLOv8\\datasets\\Pizza-Object-Detector-7\\test\\images\\01030_jpg.rf.2f23995e41e6d91b9f4b8fa1a2e65b77.jpg: 640x640 1 Pepperoni, 1 Pizza, 11.0ms\n",
            "image 140/283 C:\\GitHubRepository\\Advanced-Computer-Vision-for-Artificial-Intelligence\\Part_3_Object_Detection\\YOLOv8\\datasets\\Pizza-Object-Detector-7\\test\\images\\01031_jpg.rf.f21bd8c1481f28ea440d96003fe3b7ce.jpg: 640x640 1 Pepperoni, 1 Pizza, 20.0ms\n",
            "image 141/283 C:\\GitHubRepository\\Advanced-Computer-Vision-for-Artificial-Intelligence\\Part_3_Object_Detection\\YOLOv8\\datasets\\Pizza-Object-Detector-7\\test\\images\\01032_jpg.rf.6924d3c22efcc60ecf4e0ec8152f7db3.jpg: 640x640 2 Cheeses, 15 Pepperonis, 13 Pepperss, 1 Pizza, 14.1ms\n",
            "image 142/283 C:\\GitHubRepository\\Advanced-Computer-Vision-for-Artificial-Intelligence\\Part_3_Object_Detection\\YOLOv8\\datasets\\Pizza-Object-Detector-7\\test\\images\\01033_jpg.rf.c0b976421390ea51050f31691095c2bb.jpg: 544x640 2 Basils, 2 Cheeses, 1 Mushroom, 1 Pizza, 13.0ms\n",
            "image 143/283 C:\\GitHubRepository\\Advanced-Computer-Vision-for-Artificial-Intelligence\\Part_3_Object_Detection\\YOLOv8\\datasets\\Pizza-Object-Detector-7\\test\\images\\01034_jpg.rf.6e8a42396bd988dbbd6b70753e041e19.jpg: 640x640 1 Pepperoni, 1 Peppers, 1 Pizza, 1 Tomatoes, 16.5ms\n",
            "image 144/283 C:\\GitHubRepository\\Advanced-Computer-Vision-for-Artificial-Intelligence\\Part_3_Object_Detection\\YOLOv8\\datasets\\Pizza-Object-Detector-7\\test\\images\\01035_jpg.rf.ad40ae89f7055ec15ee29130cda54ab7.jpg: 640x640 30 Pepperonis, 1 Pizza, 16.0ms\n",
            "image 145/283 C:\\GitHubRepository\\Advanced-Computer-Vision-for-Artificial-Intelligence\\Part_3_Object_Detection\\YOLOv8\\datasets\\Pizza-Object-Detector-7\\test\\images\\01036_jpg.rf.0db3df54766bd41f6475e3bd82e9ebd3.jpg: 640x640 5 Pepperonis, 2 Pizzas, 20.0ms\n",
            "image 146/283 C:\\GitHubRepository\\Advanced-Computer-Vision-for-Artificial-Intelligence\\Part_3_Object_Detection\\YOLOv8\\datasets\\Pizza-Object-Detector-7\\test\\images\\01037_jpg.rf.6493b6324a5812bba8d01ae6040356c3.jpg: 640x640 1 Basil, 1 Pizza, 15.0ms\n",
            "image 147/283 C:\\GitHubRepository\\Advanced-Computer-Vision-for-Artificial-Intelligence\\Part_3_Object_Detection\\YOLOv8\\datasets\\Pizza-Object-Detector-7\\test\\images\\01038_jpg.rf.54ff4411ac4f8f117594c42335010e49.jpg: 640x512 2 Pepperonis, 1 Pizza, 19.0ms\n",
            "image 148/283 C:\\GitHubRepository\\Advanced-Computer-Vision-for-Artificial-Intelligence\\Part_3_Object_Detection\\YOLOv8\\datasets\\Pizza-Object-Detector-7\\test\\images\\01039_jpg.rf.585a4509b293d858bd242383f91c2180.jpg: 640x640 1 Mushroom, 1 Pepperoni, 1 Pizza, 17.0ms\n",
            "image 149/283 C:\\GitHubRepository\\Advanced-Computer-Vision-for-Artificial-Intelligence\\Part_3_Object_Detection\\YOLOv8\\datasets\\Pizza-Object-Detector-7\\test\\images\\01040_jpg.rf.b8456e9ab18c3803cb722305b72a38d6.jpg: 640x640 1 Basil, 4 Pepperonis, 1 Pizza, 19.0ms\n",
            "image 150/283 C:\\GitHubRepository\\Advanced-Computer-Vision-for-Artificial-Intelligence\\Part_3_Object_Detection\\YOLOv8\\datasets\\Pizza-Object-Detector-7\\test\\images\\01041_jpg.rf.3c4c955bbf5c07a196758bdb91613405.jpg: 640x512 1 Pizza, 13.0ms\n",
            "image 151/283 C:\\GitHubRepository\\Advanced-Computer-Vision-for-Artificial-Intelligence\\Part_3_Object_Detection\\YOLOv8\\datasets\\Pizza-Object-Detector-7\\test\\images\\01043_jpg.rf.999081a9dfdd68099976bf4e95f2d8c7.jpg: 640x640 5 Mushrooms, 1 Pepperoni, 1 Pizza, 1 Tomatoes, 18.5ms\n",
            "image 152/283 C:\\GitHubRepository\\Advanced-Computer-Vision-for-Artificial-Intelligence\\Part_3_Object_Detection\\YOLOv8\\datasets\\Pizza-Object-Detector-7\\test\\images\\01044_jpg.rf.e7fe2f7e9ee7d9c4cb3153d1c26e086a.jpg: 640x640 4 Basils, 2 Cheeses, 1 Pizza, 20.0ms\n",
            "image 153/283 C:\\GitHubRepository\\Advanced-Computer-Vision-for-Artificial-Intelligence\\Part_3_Object_Detection\\YOLOv8\\datasets\\Pizza-Object-Detector-7\\test\\images\\01045_jpg.rf.907cc2482da159e5e4ff7b3d45b40584.jpg: 640x640 1 Basil, 8 Pepperonis, 1 Pizza, 21.0ms\n",
            "image 154/283 C:\\GitHubRepository\\Advanced-Computer-Vision-for-Artificial-Intelligence\\Part_3_Object_Detection\\YOLOv8\\datasets\\Pizza-Object-Detector-7\\test\\images\\01046_jpg.rf.b85765eba17f66b5c46e88c333472785.jpg: 640x640 1 Pizza, 18.0ms\n",
            "image 155/283 C:\\GitHubRepository\\Advanced-Computer-Vision-for-Artificial-Intelligence\\Part_3_Object_Detection\\YOLOv8\\datasets\\Pizza-Object-Detector-7\\test\\images\\01049_jpg.rf.ff85f7c01f584987a1907d637e55f408.jpg: 640x640 5 Basils, 1 Pizza, 19.6ms\n",
            "image 156/283 C:\\GitHubRepository\\Advanced-Computer-Vision-for-Artificial-Intelligence\\Part_3_Object_Detection\\YOLOv8\\datasets\\Pizza-Object-Detector-7\\test\\images\\01050_jpg.rf.5328f4b140222f6dcae1357b7a10617e.jpg: 640x608 1 Pizza, 16.0ms\n",
            "image 157/283 C:\\GitHubRepository\\Advanced-Computer-Vision-for-Artificial-Intelligence\\Part_3_Object_Detection\\YOLOv8\\datasets\\Pizza-Object-Detector-7\\test\\images\\01052_jpg.rf.bd5a85ab144e1483b0b29a37308c3297.jpg: 640x640 1 Mushroom, 1 Pizza, 16.6ms\n",
            "image 158/283 C:\\GitHubRepository\\Advanced-Computer-Vision-for-Artificial-Intelligence\\Part_3_Object_Detection\\YOLOv8\\datasets\\Pizza-Object-Detector-7\\test\\images\\01053_jpg.rf.fc65ae80a8f7cd7902ca25bdd7c90225.jpg: 640x640 3 Onions, 1 Pizza, 1 Tomatoes, 13.0ms\n",
            "image 159/283 C:\\GitHubRepository\\Advanced-Computer-Vision-for-Artificial-Intelligence\\Part_3_Object_Detection\\YOLOv8\\datasets\\Pizza-Object-Detector-7\\test\\images\\01054_jpg.rf.a2d016eeb71f6b5b6e25534bce0bf313.jpg: 640x640 7 Basils, 2 Pepperonis, 1 Pizza, 14.8ms\n",
            "image 160/283 C:\\GitHubRepository\\Advanced-Computer-Vision-for-Artificial-Intelligence\\Part_3_Object_Detection\\YOLOv8\\datasets\\Pizza-Object-Detector-7\\test\\images\\01055_jpg.rf.69549ed9c537de8262a1105514e0be64.jpg: 640x640 18 Pepperonis, 1 Pizza, 18.0ms\n",
            "image 161/283 C:\\GitHubRepository\\Advanced-Computer-Vision-for-Artificial-Intelligence\\Part_3_Object_Detection\\YOLOv8\\datasets\\Pizza-Object-Detector-7\\test\\images\\01056_jpg.rf.99d1a07257deb3429256a074b9b3e41b.jpg: 640x512 17 Pepperonis, 1 Pizza, 15.0ms\n",
            "image 162/283 C:\\GitHubRepository\\Advanced-Computer-Vision-for-Artificial-Intelligence\\Part_3_Object_Detection\\YOLOv8\\datasets\\Pizza-Object-Detector-7\\test\\images\\01057_jpg.rf.678c7b0ecbbd7427875dfe9ce1cf45e3.jpg: 640x640 1 Pizza, 12.0ms\n",
            "image 163/283 C:\\GitHubRepository\\Advanced-Computer-Vision-for-Artificial-Intelligence\\Part_3_Object_Detection\\YOLOv8\\datasets\\Pizza-Object-Detector-7\\test\\images\\01058_jpg.rf.fa24118f0a9350bed561c23fb7d1b479.jpg: 640x640 9 Basils, 1 Pizza, 16.0ms\n",
            "image 164/283 C:\\GitHubRepository\\Advanced-Computer-Vision-for-Artificial-Intelligence\\Part_3_Object_Detection\\YOLOv8\\datasets\\Pizza-Object-Detector-7\\test\\images\\01059_jpg.rf.6b4b65d9561de776a3c7da36e885c499.jpg: 640x640 1 Pizza, 13.0ms\n",
            "image 165/283 C:\\GitHubRepository\\Advanced-Computer-Vision-for-Artificial-Intelligence\\Part_3_Object_Detection\\YOLOv8\\datasets\\Pizza-Object-Detector-7\\test\\images\\01060_jpg.rf.b69c3bcbe539e37b800b19c12f10ca2c.jpg: 640x640 2 Pepperonis, 1 Pizza, 16.0ms\n",
            "image 166/283 C:\\GitHubRepository\\Advanced-Computer-Vision-for-Artificial-Intelligence\\Part_3_Object_Detection\\YOLOv8\\datasets\\Pizza-Object-Detector-7\\test\\images\\01061_jpg.rf.c0e40a6e93701ce5ce0752be38ef171b.jpg: 640x640 1 Pizza, 13.0ms\n",
            "image 167/283 C:\\GitHubRepository\\Advanced-Computer-Vision-for-Artificial-Intelligence\\Part_3_Object_Detection\\YOLOv8\\datasets\\Pizza-Object-Detector-7\\test\\images\\01062_jpg.rf.91631a1f044c0cceb160758bf616fbc5.jpg: 640x512 6 Mushrooms, 12 Olivess, 1 Onion, 1 Pizza, 14.0ms\n",
            "image 168/283 C:\\GitHubRepository\\Advanced-Computer-Vision-for-Artificial-Intelligence\\Part_3_Object_Detection\\YOLOv8\\datasets\\Pizza-Object-Detector-7\\test\\images\\01063_jpg.rf.587d8418e9f3159782ccd9f37d34e229.jpg: 640x640 11 Pepperonis, 8 Pepperss, 1 Pizza, 23.0ms\n",
            "image 169/283 C:\\GitHubRepository\\Advanced-Computer-Vision-for-Artificial-Intelligence\\Part_3_Object_Detection\\YOLOv8\\datasets\\Pizza-Object-Detector-7\\test\\images\\01064_jpg.rf.41cc514be88c03d483f6c12b2c5e033d.jpg: 640x640 31 Pepperonis, 1 Pizza, 17.0ms\n",
            "image 170/283 C:\\GitHubRepository\\Advanced-Computer-Vision-for-Artificial-Intelligence\\Part_3_Object_Detection\\YOLOv8\\datasets\\Pizza-Object-Detector-7\\test\\images\\01065_jpg.rf.802e5465f65e3cb01210a6af3cf066ee.jpg: 640x640 5 Mushrooms, 1 Pizza, 15.0ms\n",
            "image 171/283 C:\\GitHubRepository\\Advanced-Computer-Vision-for-Artificial-Intelligence\\Part_3_Object_Detection\\YOLOv8\\datasets\\Pizza-Object-Detector-7\\test\\images\\01066_jpg.rf.cc834eef62289a43fc6dca79d9a69b0e.jpg: 640x640 1 Pizza, 13.0ms\n",
            "image 172/283 C:\\GitHubRepository\\Advanced-Computer-Vision-for-Artificial-Intelligence\\Part_3_Object_Detection\\YOLOv8\\datasets\\Pizza-Object-Detector-7\\test\\images\\01067_jpg.rf.89b5e27a17718573432bb92419daf116.jpg: 640x640 6 Basils, 1 Pizza, 15.0ms\n",
            "image 173/283 C:\\GitHubRepository\\Advanced-Computer-Vision-for-Artificial-Intelligence\\Part_3_Object_Detection\\YOLOv8\\datasets\\Pizza-Object-Detector-7\\test\\images\\01068_jpg.rf.7b73e6d91dfe901427e60dd4350ffb4b.jpg: 640x640 3 Basils, 1 Cheese, 1 Pizza, 13.8ms\n",
            "image 174/283 C:\\GitHubRepository\\Advanced-Computer-Vision-for-Artificial-Intelligence\\Part_3_Object_Detection\\YOLOv8\\datasets\\Pizza-Object-Detector-7\\test\\images\\01069_jpg.rf.0b16a7ad5050c86f522deeecdf2ef684.jpg: 480x640 1 Mushroom, 2 Olivess, 1 Peppers, 1 Pizza, 9.0ms\n",
            "image 175/283 C:\\GitHubRepository\\Advanced-Computer-Vision-for-Artificial-Intelligence\\Part_3_Object_Detection\\YOLOv8\\datasets\\Pizza-Object-Detector-7\\test\\images\\01070_jpg.rf.20735875acbc6eeffbf9f23c036e8f04.jpg: 640x640 1 Pizza, 13.0ms\n",
            "image 176/283 C:\\GitHubRepository\\Advanced-Computer-Vision-for-Artificial-Intelligence\\Part_3_Object_Detection\\YOLOv8\\datasets\\Pizza-Object-Detector-7\\test\\images\\01071_jpg.rf.0fcb8667dd6d3f767bc10d7029dc895c.jpg: 480x640 2 Pizzas, 14.0ms\n",
            "image 177/283 C:\\GitHubRepository\\Advanced-Computer-Vision-for-Artificial-Intelligence\\Part_3_Object_Detection\\YOLOv8\\datasets\\Pizza-Object-Detector-7\\test\\images\\01072_jpg.rf.90fff32e7fc34315c4774e1b9b7bd215.jpg: 640x640 11 Pepperonis, 1 Pizza, 14.0ms\n",
            "image 178/283 C:\\GitHubRepository\\Advanced-Computer-Vision-for-Artificial-Intelligence\\Part_3_Object_Detection\\YOLOv8\\datasets\\Pizza-Object-Detector-7\\test\\images\\01073_jpg.rf.c701e1f02e4678bd2d4afdcc9eae7926.jpg: 608x640 3 Pepperonis, 1 Pizza, 17.0ms\n",
            "image 179/283 C:\\GitHubRepository\\Advanced-Computer-Vision-for-Artificial-Intelligence\\Part_3_Object_Detection\\YOLOv8\\datasets\\Pizza-Object-Detector-7\\test\\images\\01074_jpg.rf.1aa17a3f1990717a0bd1004f2bcbca5a.jpg: 640x640 3 Pepperonis, 1 Pizza, 2 Tomatoess, 14.0ms\n",
            "image 180/283 C:\\GitHubRepository\\Advanced-Computer-Vision-for-Artificial-Intelligence\\Part_3_Object_Detection\\YOLOv8\\datasets\\Pizza-Object-Detector-7\\test\\images\\01075_jpg.rf.dd6c2d59f740265b7aaab06bc0899b68.jpg: 640x640 1 Pizza, 13.0ms\n",
            "image 181/283 C:\\GitHubRepository\\Advanced-Computer-Vision-for-Artificial-Intelligence\\Part_3_Object_Detection\\YOLOv8\\datasets\\Pizza-Object-Detector-7\\test\\images\\01077_jpg.rf.8835f9f80bf5164f65e820d7052a4b3f.jpg: 640x640 5 Basils, 1 Pizza, 17.1ms\n",
            "image 182/283 C:\\GitHubRepository\\Advanced-Computer-Vision-for-Artificial-Intelligence\\Part_3_Object_Detection\\YOLOv8\\datasets\\Pizza-Object-Detector-7\\test\\images\\01078_jpg.rf.725ac2fb90f85165c2098f94e6b9d4c2.jpg: 640x512 2 Olivess, 18.0ms\n",
            "image 183/283 C:\\GitHubRepository\\Advanced-Computer-Vision-for-Artificial-Intelligence\\Part_3_Object_Detection\\YOLOv8\\datasets\\Pizza-Object-Detector-7\\test\\images\\01079_jpg.rf.f8f8fe73f21f756d270ce0bb5a154241.jpg: 640x640 1 Pepperoni, 1 Pizza, 19.2ms\n",
            "image 184/283 C:\\GitHubRepository\\Advanced-Computer-Vision-for-Artificial-Intelligence\\Part_3_Object_Detection\\YOLOv8\\datasets\\Pizza-Object-Detector-7\\test\\images\\01080_jpg.rf.de4787633d99a7ba786a34d3aa6d9f5a.jpg: 640x640 2 Basils, 1 Pizza, 17.0ms\n",
            "image 185/283 C:\\GitHubRepository\\Advanced-Computer-Vision-for-Artificial-Intelligence\\Part_3_Object_Detection\\YOLOv8\\datasets\\Pizza-Object-Detector-7\\test\\images\\01081_jpg.rf.4ac3202aa77554b901f9554da04b0acf.jpg: 640x640 1 Mushroom, 2 Olivess, 18 Pepperonis, 1 Peppers, 1 Pizza, 14.0ms\n",
            "image 186/283 C:\\GitHubRepository\\Advanced-Computer-Vision-for-Artificial-Intelligence\\Part_3_Object_Detection\\YOLOv8\\datasets\\Pizza-Object-Detector-7\\test\\images\\01082_jpg.rf.c47e7a49f95c529ee618ef30c4724ec2.jpg: 640x640 1 Mushroom, 1 Onion, 1 Pizza, 1 Tomatoes, 15.0ms\n",
            "image 187/283 C:\\GitHubRepository\\Advanced-Computer-Vision-for-Artificial-Intelligence\\Part_3_Object_Detection\\YOLOv8\\datasets\\Pizza-Object-Detector-7\\test\\images\\01083_jpg.rf.f0dd50a4140613468262ce6f2594725a.jpg: 640x640 10 Basils, 1 Cheese, 1 Pizza, 22.9ms\n",
            "image 188/283 C:\\GitHubRepository\\Advanced-Computer-Vision-for-Artificial-Intelligence\\Part_3_Object_Detection\\YOLOv8\\datasets\\Pizza-Object-Detector-7\\test\\images\\01084_jpg.rf.93ff9375d4769255fa84717bcf573449.jpg: 640x640 1 Mushroom, 1 Pizza, 25.5ms\n",
            "image 189/283 C:\\GitHubRepository\\Advanced-Computer-Vision-for-Artificial-Intelligence\\Part_3_Object_Detection\\YOLOv8\\datasets\\Pizza-Object-Detector-7\\test\\images\\01085_jpg.rf.f622586b0834e180a9d68226aa375d66.jpg: 640x640 1 Pizza, 1 Tomatoes, 17.0ms\n",
            "image 190/283 C:\\GitHubRepository\\Advanced-Computer-Vision-for-Artificial-Intelligence\\Part_3_Object_Detection\\YOLOv8\\datasets\\Pizza-Object-Detector-7\\test\\images\\01086_jpg.rf.d3b74a8ffd4638825d12bd9390b05797.jpg: 640x640 1 Cheese, 1 Olives, 5 Pepperonis, 1 Pizza, 14.0ms\n",
            "image 191/283 C:\\GitHubRepository\\Advanced-Computer-Vision-for-Artificial-Intelligence\\Part_3_Object_Detection\\YOLOv8\\datasets\\Pizza-Object-Detector-7\\test\\images\\01087_jpg.rf.092bade07eaf14be23d307ace9110916.jpg: 640x640 1 Cheese, 1 Pizza, 17.0ms\n",
            "image 192/283 C:\\GitHubRepository\\Advanced-Computer-Vision-for-Artificial-Intelligence\\Part_3_Object_Detection\\YOLOv8\\datasets\\Pizza-Object-Detector-7\\test\\images\\01088_jpg.rf.4bf49f933222eb4689650be5a6ad5403.jpg: 416x640 1 Pizza, 15.0ms\n",
            "image 193/283 C:\\GitHubRepository\\Advanced-Computer-Vision-for-Artificial-Intelligence\\Part_3_Object_Detection\\YOLOv8\\datasets\\Pizza-Object-Detector-7\\test\\images\\01089_jpg.rf.84f941899c34beb9f7c8fabebcc59049.jpg: 640x640 4 Basils, 1 Pizza, 17.1ms\n",
            "image 194/283 C:\\GitHubRepository\\Advanced-Computer-Vision-for-Artificial-Intelligence\\Part_3_Object_Detection\\YOLOv8\\datasets\\Pizza-Object-Detector-7\\test\\images\\01090_jpg.rf.19213ba6252d9dff113bf306241769e0.jpg: 480x640 1 Pizza, 4 Tomatoess, 11.0ms\n",
            "image 195/283 C:\\GitHubRepository\\Advanced-Computer-Vision-for-Artificial-Intelligence\\Part_3_Object_Detection\\YOLOv8\\datasets\\Pizza-Object-Detector-7\\test\\images\\01091_jpg.rf.e37df45b98387ac788138b3649ab7d54.jpg: 576x640 5 Pepperonis, 1 Pizza, 15.0ms\n",
            "image 196/283 C:\\GitHubRepository\\Advanced-Computer-Vision-for-Artificial-Intelligence\\Part_3_Object_Detection\\YOLOv8\\datasets\\Pizza-Object-Detector-7\\test\\images\\01093_jpg.rf.6c335f7bd35f569706571cbd21f5403e.jpg: 416x640 5 Basils, 2 Cheeses, 1 Pizza, 15.9ms\n",
            "image 197/283 C:\\GitHubRepository\\Advanced-Computer-Vision-for-Artificial-Intelligence\\Part_3_Object_Detection\\YOLOv8\\datasets\\Pizza-Object-Detector-7\\test\\images\\01094_jpg.rf.5661e1a6bf55037494dab3aae36d01bd.jpg: 608x640 1 Chicken, 1 Pizza, 14.0ms\n",
            "image 198/283 C:\\GitHubRepository\\Advanced-Computer-Vision-for-Artificial-Intelligence\\Part_3_Object_Detection\\YOLOv8\\datasets\\Pizza-Object-Detector-7\\test\\images\\01095_jpg.rf.2ffd48348a698ba38e263ef759eabbdb.jpg: 640x640 2 Pepperonis, 1 Pizza, 2 Tomatoess, 24.0ms\n",
            "image 199/283 C:\\GitHubRepository\\Advanced-Computer-Vision-for-Artificial-Intelligence\\Part_3_Object_Detection\\YOLOv8\\datasets\\Pizza-Object-Detector-7\\test\\images\\01096_jpg.rf.a1140bb3e53a94b775255c6cf6d62db3.jpg: 416x640 1 Basil, 1 Pepperoni, 1 Pizza, 1 Tomatoes, 16.0ms\n",
            "image 200/283 C:\\GitHubRepository\\Advanced-Computer-Vision-for-Artificial-Intelligence\\Part_3_Object_Detection\\YOLOv8\\datasets\\Pizza-Object-Detector-7\\test\\images\\01097_jpg.rf.ea5905fd030259eeba13fbbf5fa8f813.jpg: 640x512 2 Mushrooms, 1 Pizza, 15.0ms\n",
            "image 201/283 C:\\GitHubRepository\\Advanced-Computer-Vision-for-Artificial-Intelligence\\Part_3_Object_Detection\\YOLOv8\\datasets\\Pizza-Object-Detector-7\\test\\images\\01098_jpg.rf.8d3217c33a82d7245d022bc2ebf6733c.jpg: 640x640 1 Pizza, 13.0ms\n",
            "image 202/283 C:\\GitHubRepository\\Advanced-Computer-Vision-for-Artificial-Intelligence\\Part_3_Object_Detection\\YOLOv8\\datasets\\Pizza-Object-Detector-7\\test\\images\\01099_jpg.rf.5a342f0613128437c430688d8aef852a.jpg: 640x640 8 Pepperonis, 1 Pizza, 15.0ms\n",
            "image 203/283 C:\\GitHubRepository\\Advanced-Computer-Vision-for-Artificial-Intelligence\\Part_3_Object_Detection\\YOLOv8\\datasets\\Pizza-Object-Detector-7\\test\\images\\01100_jpg.rf.0586ef89f8aaab3aaa2ee806319dcdc1.jpg: 480x640 1 Mushroom, 4 Olivess, 2 Pepperss, 1 Pizza, 16.4ms\n",
            "image 204/283 C:\\GitHubRepository\\Advanced-Computer-Vision-for-Artificial-Intelligence\\Part_3_Object_Detection\\YOLOv8\\datasets\\Pizza-Object-Detector-7\\test\\images\\01101_jpg.rf.ae5f466697b2c7516590a194a3e06b97.jpg: 640x640 14 Pepperonis, 1 Pizza, 14.0ms\n",
            "image 205/283 C:\\GitHubRepository\\Advanced-Computer-Vision-for-Artificial-Intelligence\\Part_3_Object_Detection\\YOLOv8\\datasets\\Pizza-Object-Detector-7\\test\\images\\01102_jpg.rf.0f49e9e7b60570f01316f7593c7d4161.jpg: 640x640 1 Pizza, 16.0ms\n",
            "image 206/283 C:\\GitHubRepository\\Advanced-Computer-Vision-for-Artificial-Intelligence\\Part_3_Object_Detection\\YOLOv8\\datasets\\Pizza-Object-Detector-7\\test\\images\\01104_jpg.rf.e5ea49758f1f5e60e7beca83e5cb02b7.jpg: 640x640 2 Basils, 2 Pizzas, 13.0ms\n",
            "image 207/283 C:\\GitHubRepository\\Advanced-Computer-Vision-for-Artificial-Intelligence\\Part_3_Object_Detection\\YOLOv8\\datasets\\Pizza-Object-Detector-7\\test\\images\\01105_jpg.rf.711391c2bea53e7732296e8b54e39551.jpg: 640x640 1 Pepperoni, 1 Pizza, 12 Tomatoess, 17.1ms\n",
            "image 208/283 C:\\GitHubRepository\\Advanced-Computer-Vision-for-Artificial-Intelligence\\Part_3_Object_Detection\\YOLOv8\\datasets\\Pizza-Object-Detector-7\\test\\images\\01106_jpg.rf.a298ebe72245fe3bcc42bbe34b150959.jpg: 640x544 1 Basil, 2 Cheeses, 1 Pizza, 12.0ms\n",
            "image 209/283 C:\\GitHubRepository\\Advanced-Computer-Vision-for-Artificial-Intelligence\\Part_3_Object_Detection\\YOLOv8\\datasets\\Pizza-Object-Detector-7\\test\\images\\01107_jpg.rf.11c0c51807fddd754ddf337977af6505.jpg: 640x640 11 Pepperonis, 2 Pizzas, 12.0ms\n",
            "image 210/283 C:\\GitHubRepository\\Advanced-Computer-Vision-for-Artificial-Intelligence\\Part_3_Object_Detection\\YOLOv8\\datasets\\Pizza-Object-Detector-7\\test\\images\\01108_jpg.rf.e302d242ec8a28fd2154eb6e5d6fea75.jpg: 448x640 1 Basil, 2 Pepperonis, 1 Pizza, 16.0ms\n",
            "image 211/283 C:\\GitHubRepository\\Advanced-Computer-Vision-for-Artificial-Intelligence\\Part_3_Object_Detection\\YOLOv8\\datasets\\Pizza-Object-Detector-7\\test\\images\\01109_jpg.rf.05223aed5967c7e6882e01da61c65296.jpg: 640x512 1 Pizza, 15.0ms\n",
            "image 212/283 C:\\GitHubRepository\\Advanced-Computer-Vision-for-Artificial-Intelligence\\Part_3_Object_Detection\\YOLOv8\\datasets\\Pizza-Object-Detector-7\\test\\images\\01110_jpg.rf.8f977981ff653471258cfc011f7d04aa.jpg: 640x576 2 Mushrooms, 1 Peppers, 1 Pizza, 83.0ms\n",
            "image 213/283 C:\\GitHubRepository\\Advanced-Computer-Vision-for-Artificial-Intelligence\\Part_3_Object_Detection\\YOLOv8\\datasets\\Pizza-Object-Detector-7\\test\\images\\01111_jpg.rf.c4f5a7b27716b61114aa05d41b190ea0.jpg: 608x640 1 Mushroom, 5 Olivess, 7 Pepperss, 1 Pizza, 19.0ms\n",
            "image 214/283 C:\\GitHubRepository\\Advanced-Computer-Vision-for-Artificial-Intelligence\\Part_3_Object_Detection\\YOLOv8\\datasets\\Pizza-Object-Detector-7\\test\\images\\01112_jpg.rf.819960eb2169544810a49e17583c51c3.jpg: 640x512 3 Pizzas, 17.0ms\n",
            "image 215/283 C:\\GitHubRepository\\Advanced-Computer-Vision-for-Artificial-Intelligence\\Part_3_Object_Detection\\YOLOv8\\datasets\\Pizza-Object-Detector-7\\test\\images\\01113_jpg.rf.8097a31611383cac0769070c23d9557a.jpg: 512x640 1 Cheese, 1 Chicken, 1 Pepperoni, 1 Peppers, 1 Pizza, 20.0ms\n",
            "image 216/283 C:\\GitHubRepository\\Advanced-Computer-Vision-for-Artificial-Intelligence\\Part_3_Object_Detection\\YOLOv8\\datasets\\Pizza-Object-Detector-7\\test\\images\\01114_jpg.rf.7bdaec3bbb1489aa7753c9d1f830922f.jpg: 640x640 3 Basils, 1 Pizza, 1 Tomatoes, 20.0ms\n",
            "image 217/283 C:\\GitHubRepository\\Advanced-Computer-Vision-for-Artificial-Intelligence\\Part_3_Object_Detection\\YOLOv8\\datasets\\Pizza-Object-Detector-7\\test\\images\\01115_jpg.rf.07f53bd882fab9374e683cb782eab77e.jpg: 352x640 12 Pepperonis, 1 Pizza, 84.0ms\n",
            "image 218/283 C:\\GitHubRepository\\Advanced-Computer-Vision-for-Artificial-Intelligence\\Part_3_Object_Detection\\YOLOv8\\datasets\\Pizza-Object-Detector-7\\test\\images\\01117_jpg.rf.775f2562c6dd7ace636c38ef24884bad.jpg: 480x640 5 Olivess, 1 Pizza, 1 Tomatoes, 13.0ms\n",
            "image 219/283 C:\\GitHubRepository\\Advanced-Computer-Vision-for-Artificial-Intelligence\\Part_3_Object_Detection\\YOLOv8\\datasets\\Pizza-Object-Detector-7\\test\\images\\01118_jpg.rf.a580210c9f46a489ea7526baf7a8ea74.jpg: 640x640 1 Pizza, 18.0ms\n",
            "image 220/283 C:\\GitHubRepository\\Advanced-Computer-Vision-for-Artificial-Intelligence\\Part_3_Object_Detection\\YOLOv8\\datasets\\Pizza-Object-Detector-7\\test\\images\\01119_jpg.rf.bb70b9ccd33826246602d28e1eccb1f6.jpg: 640x640 1 Basil, 3 Olivess, 10 Pepperss, 1 Pizza, 7 Tomatoess, 14.0ms\n",
            "image 221/283 C:\\GitHubRepository\\Advanced-Computer-Vision-for-Artificial-Intelligence\\Part_3_Object_Detection\\YOLOv8\\datasets\\Pizza-Object-Detector-7\\test\\images\\01120_jpg.rf.868f7ed5064fbea2b0605266b019002c.jpg: 640x640 1 Pizza, 15.0ms\n",
            "image 222/283 C:\\GitHubRepository\\Advanced-Computer-Vision-for-Artificial-Intelligence\\Part_3_Object_Detection\\YOLOv8\\datasets\\Pizza-Object-Detector-7\\test\\images\\01122_jpg.rf.12486d421496ccf90c604cf13ac19e70.jpg: 640x512 3 Mushrooms, 1 Olives, 8 Pepperonis, 1 Peppers, 1 Pizza, 12.0ms\n",
            "image 223/283 C:\\GitHubRepository\\Advanced-Computer-Vision-for-Artificial-Intelligence\\Part_3_Object_Detection\\YOLOv8\\datasets\\Pizza-Object-Detector-7\\test\\images\\01124_jpg.rf.f901fcb5065399014db3012506f1269e.jpg: 512x640 2 Pizzas, 15.0ms\n",
            "image 224/283 C:\\GitHubRepository\\Advanced-Computer-Vision-for-Artificial-Intelligence\\Part_3_Object_Detection\\YOLOv8\\datasets\\Pizza-Object-Detector-7\\test\\images\\01125_jpg.rf.49d5eb44d06473890d9045588310cd69.jpg: 480x640 1 Pizza, 10.0ms\n",
            "image 225/283 C:\\GitHubRepository\\Advanced-Computer-Vision-for-Artificial-Intelligence\\Part_3_Object_Detection\\YOLOv8\\datasets\\Pizza-Object-Detector-7\\test\\images\\01126_jpg.rf.897cbf64a7abc3efd465dc8dee69ca0a.jpg: 640x640 1 Chicken, 1 Mushroom, 7 Olivess, 1 Pizza, 15.0ms\n",
            "image 226/283 C:\\GitHubRepository\\Advanced-Computer-Vision-for-Artificial-Intelligence\\Part_3_Object_Detection\\YOLOv8\\datasets\\Pizza-Object-Detector-7\\test\\images\\01127_jpg.rf.4b0ab72d8d4dd0addb5279ecc6782309.jpg: 640x640 4 Basils, 1 Cheese, 9 Pepperonis, 2 Pizzas, 21.0ms\n",
            "image 227/283 C:\\GitHubRepository\\Advanced-Computer-Vision-for-Artificial-Intelligence\\Part_3_Object_Detection\\YOLOv8\\datasets\\Pizza-Object-Detector-7\\test\\images\\01129_jpg.rf.2ee96e6103e1c46a9180c9afa3b9c0dc.jpg: 416x640 2 Basils, 1 Pizza, 28.0ms\n",
            "image 228/283 C:\\GitHubRepository\\Advanced-Computer-Vision-for-Artificial-Intelligence\\Part_3_Object_Detection\\YOLOv8\\datasets\\Pizza-Object-Detector-7\\test\\images\\01132_jpg.rf.67633bd877cf4ef96942c2f8f1ac0a4c.jpg: 640x640 1 Pizza, 246.1ms\n",
            "image 229/283 C:\\GitHubRepository\\Advanced-Computer-Vision-for-Artificial-Intelligence\\Part_3_Object_Detection\\YOLOv8\\datasets\\Pizza-Object-Detector-7\\test\\images\\01133_jpg.rf.61425caa724afdf1a1acb111a8df3d73.jpg: 640x640 1 Pizza, 5 Tomatoess, 9.6ms\n",
            "image 230/283 C:\\GitHubRepository\\Advanced-Computer-Vision-for-Artificial-Intelligence\\Part_3_Object_Detection\\YOLOv8\\datasets\\Pizza-Object-Detector-7\\test\\images\\01134_jpg.rf.9053c44e072a20a0d8d6678935145016.jpg: 640x640 2 Olivess, 5 Pepperonis, 1 Pizza, 9.0ms\n",
            "image 231/283 C:\\GitHubRepository\\Advanced-Computer-Vision-for-Artificial-Intelligence\\Part_3_Object_Detection\\YOLOv8\\datasets\\Pizza-Object-Detector-7\\test\\images\\01135_jpg.rf.4cecf66f4fafbfdf7e72aeb1c0e9266b.jpg: 480x640 1 Basil, 1 Pizza, 7.0ms\n",
            "image 232/283 C:\\GitHubRepository\\Advanced-Computer-Vision-for-Artificial-Intelligence\\Part_3_Object_Detection\\YOLOv8\\datasets\\Pizza-Object-Detector-7\\test\\images\\01136_jpg.rf.7496bdc827064f9746d6b0de37561df1.jpg: 640x512 1 Cheese, 1 Pizza, 7.0ms\n",
            "image 233/283 C:\\GitHubRepository\\Advanced-Computer-Vision-for-Artificial-Intelligence\\Part_3_Object_Detection\\YOLOv8\\datasets\\Pizza-Object-Detector-7\\test\\images\\01138_jpg.rf.6c4798f150e4302368f841190a148ac1.jpg: 640x640 1 Basil, 3 Pepperonis, 1 Pizza, 9.0ms\n",
            "image 234/283 C:\\GitHubRepository\\Advanced-Computer-Vision-for-Artificial-Intelligence\\Part_3_Object_Detection\\YOLOv8\\datasets\\Pizza-Object-Detector-7\\test\\images\\01139_jpg.rf.bd002627f8f5abbd4cfd88eb9f84f986.jpg: 480x640 1 Basil, 1 Pizza, 10 Tomatoess, 7.0ms\n",
            "image 235/283 C:\\GitHubRepository\\Advanced-Computer-Vision-for-Artificial-Intelligence\\Part_3_Object_Detection\\YOLOv8\\datasets\\Pizza-Object-Detector-7\\test\\images\\01141_jpg.rf.ab311e25fdfe267ea0cb94a8f5ae73f9.jpg: 544x640 15 Basils, 1 Pizza, 1 Tomatoes, 7.0ms\n",
            "image 236/283 C:\\GitHubRepository\\Advanced-Computer-Vision-for-Artificial-Intelligence\\Part_3_Object_Detection\\YOLOv8\\datasets\\Pizza-Object-Detector-7\\test\\images\\01142_jpg.rf.892cef97cef8717167fb9c9e1a9232b4.jpg: 640x512 1 Pizza, 3 Tomatoess, 8.0ms\n",
            "image 237/283 C:\\GitHubRepository\\Advanced-Computer-Vision-for-Artificial-Intelligence\\Part_3_Object_Detection\\YOLOv8\\datasets\\Pizza-Object-Detector-7\\test\\images\\01144_jpg.rf.4e0b86016323c164dfaa46e986a0105c.jpg: 480x640 1 Pepperoni, 1 Pizza, 7.0ms\n",
            "image 238/283 C:\\GitHubRepository\\Advanced-Computer-Vision-for-Artificial-Intelligence\\Part_3_Object_Detection\\YOLOv8\\datasets\\Pizza-Object-Detector-7\\test\\images\\01145_jpg.rf.f550a07566cd2ffdfe471a5d5fe93cd5.jpg: 640x640 1 Pepperoni, 1 Pizza, 7.0ms\n",
            "image 239/283 C:\\GitHubRepository\\Advanced-Computer-Vision-for-Artificial-Intelligence\\Part_3_Object_Detection\\YOLOv8\\datasets\\Pizza-Object-Detector-7\\test\\images\\01146_jpg.rf.25489b3ec30502689c605503e6c44b7c.jpg: 640x640 1 Mushroom, 1 Pizza, 6.0ms\n",
            "image 240/283 C:\\GitHubRepository\\Advanced-Computer-Vision-for-Artificial-Intelligence\\Part_3_Object_Detection\\YOLOv8\\datasets\\Pizza-Object-Detector-7\\test\\images\\01148_jpg.rf.a354b6714ecc69f203b5494504a4c9cf.jpg: 640x608 19 Pepperonis, 15 Pepperss, 2 Pizzas, 7.0ms\n",
            "image 241/283 C:\\GitHubRepository\\Advanced-Computer-Vision-for-Artificial-Intelligence\\Part_3_Object_Detection\\YOLOv8\\datasets\\Pizza-Object-Detector-7\\test\\images\\01150_jpg.rf.5778f92dff1974e92e468ba18d04d80e.jpg: 544x640 4 Pepperonis, 1 Pizza, 8.0ms\n",
            "image 242/283 C:\\GitHubRepository\\Advanced-Computer-Vision-for-Artificial-Intelligence\\Part_3_Object_Detection\\YOLOv8\\datasets\\Pizza-Object-Detector-7\\test\\images\\01151_jpg.rf.c738492570bac22a282f099204694e04.jpg: 640x640 2 Mushrooms, 1 Pizza, 9.0ms\n",
            "image 243/283 C:\\GitHubRepository\\Advanced-Computer-Vision-for-Artificial-Intelligence\\Part_3_Object_Detection\\YOLOv8\\datasets\\Pizza-Object-Detector-7\\test\\images\\01154_jpg.rf.9a561ed63bfa9b292cb7e6ebc8cd901d.jpg: 416x640 1 Pizza, 1 Tomatoes, 7.0ms\n",
            "image 244/283 C:\\GitHubRepository\\Advanced-Computer-Vision-for-Artificial-Intelligence\\Part_3_Object_Detection\\YOLOv8\\datasets\\Pizza-Object-Detector-7\\test\\images\\01155_jpg.rf.6e5bc48a0cada93211e487ea4ee5d8cd.jpg: 480x640 2 Basils, 1 Pizza, 7.0ms\n",
            "image 245/283 C:\\GitHubRepository\\Advanced-Computer-Vision-for-Artificial-Intelligence\\Part_3_Object_Detection\\YOLOv8\\datasets\\Pizza-Object-Detector-7\\test\\images\\01156_jpg.rf.40aeadf4ab03b4f8abc357c7e9054f52.jpg: 640x512 2 Pepperonis, 1 Pizza, 6.0ms\n",
            "image 246/283 C:\\GitHubRepository\\Advanced-Computer-Vision-for-Artificial-Intelligence\\Part_3_Object_Detection\\YOLOv8\\datasets\\Pizza-Object-Detector-7\\test\\images\\01157_jpg.rf.b0a66a1b27075941bd5adab00e1983ef.jpg: 640x640 6 Pepperonis, 1 Pizza, 7.0ms\n",
            "image 247/283 C:\\GitHubRepository\\Advanced-Computer-Vision-for-Artificial-Intelligence\\Part_3_Object_Detection\\YOLOv8\\datasets\\Pizza-Object-Detector-7\\test\\images\\01158_jpg.rf.518051faf313bcf5cc9b8411a1691835.jpg: 544x640 1 Pizza, 6.0ms\n",
            "image 248/283 C:\\GitHubRepository\\Advanced-Computer-Vision-for-Artificial-Intelligence\\Part_3_Object_Detection\\YOLOv8\\datasets\\Pizza-Object-Detector-7\\test\\images\\01160_jpg.rf.b53a0875fda5c7094cd74696cf465f02.jpg: 640x640 3 Cheeses, 1 Pepperoni, 1 Pizza, 7.0ms\n",
            "image 249/283 C:\\GitHubRepository\\Advanced-Computer-Vision-for-Artificial-Intelligence\\Part_3_Object_Detection\\YOLOv8\\datasets\\Pizza-Object-Detector-7\\test\\images\\01161_jpg.rf.02744af2a0adbde0b0e22af6d7cb5f51.jpg: 448x640 11 Basils, 11 Pepperonis, 1 Pizza, 6.0ms\n",
            "image 250/283 C:\\GitHubRepository\\Advanced-Computer-Vision-for-Artificial-Intelligence\\Part_3_Object_Detection\\YOLOv8\\datasets\\Pizza-Object-Detector-7\\test\\images\\01163_jpg.rf.eac2fe48df689b0278ba919d986f0ac1.jpg: 640x640 3 Mushrooms, 1 Pizza, 2 Tomatoess, 7.0ms\n",
            "image 251/283 C:\\GitHubRepository\\Advanced-Computer-Vision-for-Artificial-Intelligence\\Part_3_Object_Detection\\YOLOv8\\datasets\\Pizza-Object-Detector-7\\test\\images\\01164_jpg.rf.2d80d31d410b5b7f6b852c6351635492.jpg: 576x640 1 Pizza, 9.0ms\n",
            "image 252/283 C:\\GitHubRepository\\Advanced-Computer-Vision-for-Artificial-Intelligence\\Part_3_Object_Detection\\YOLOv8\\datasets\\Pizza-Object-Detector-7\\test\\images\\01166_jpg.rf.ca98f2603aa8742c8b090c23e54ad3c5.jpg: 640x640 8 Pepperonis, 7 Pepperss, 1 Pizza, 7.0ms\n",
            "image 253/283 C:\\GitHubRepository\\Advanced-Computer-Vision-for-Artificial-Intelligence\\Part_3_Object_Detection\\YOLOv8\\datasets\\Pizza-Object-Detector-7\\test\\images\\01167_jpg.rf.913f261297783a8efd10ca65fd78a429.jpg: 480x640 1 Peppers, 1 Pizza, 13 Tomatoess, 7.0ms\n",
            "image 254/283 C:\\GitHubRepository\\Advanced-Computer-Vision-for-Artificial-Intelligence\\Part_3_Object_Detection\\YOLOv8\\datasets\\Pizza-Object-Detector-7\\test\\images\\01168_jpg.rf.a34fcbede302686710650272ebc477c8.jpg: 640x640 14 Pepperonis, 1 Pizza, 7.0ms\n",
            "image 255/283 C:\\GitHubRepository\\Advanced-Computer-Vision-for-Artificial-Intelligence\\Part_3_Object_Detection\\YOLOv8\\datasets\\Pizza-Object-Detector-7\\test\\images\\01170_jpg.rf.67d5274be61a90f25a353eda12bce0a1.jpg: 640x640 1 Olives, 4 Pepperonis, 1 Peppers, 2 Pizzas, 7.0ms\n",
            "image 256/283 C:\\GitHubRepository\\Advanced-Computer-Vision-for-Artificial-Intelligence\\Part_3_Object_Detection\\YOLOv8\\datasets\\Pizza-Object-Detector-7\\test\\images\\01173_jpg.rf.497cc92559cad5b1967d2aadb46744dc.jpg: 640x512 7 Pepperonis, 1 Pizza, 8.0ms\n",
            "image 257/283 C:\\GitHubRepository\\Advanced-Computer-Vision-for-Artificial-Intelligence\\Part_3_Object_Detection\\YOLOv8\\datasets\\Pizza-Object-Detector-7\\test\\images\\01176_jpg.rf.19be16eadc63b43391fe9c967ca267ae.jpg: 640x640 4 Pepperonis, 1 Pizza, 8.0ms\n",
            "image 258/283 C:\\GitHubRepository\\Advanced-Computer-Vision-for-Artificial-Intelligence\\Part_3_Object_Detection\\YOLOv8\\datasets\\Pizza-Object-Detector-7\\test\\images\\01185_jpg.rf.8944c62b40a6b3f18c8cc23f5a9ec6e2.jpg: 640x640 1 Pizza, 7.0ms\n",
            "image 259/283 C:\\GitHubRepository\\Advanced-Computer-Vision-for-Artificial-Intelligence\\Part_3_Object_Detection\\YOLOv8\\datasets\\Pizza-Object-Detector-7\\test\\images\\01190_jpg.rf.ce041148f3b02bd4c722b6af9c136a0b.jpg: 640x640 5 Mushrooms, 1 Peppers, 2 Pizzas, 7.0ms\n",
            "image 260/283 C:\\GitHubRepository\\Advanced-Computer-Vision-for-Artificial-Intelligence\\Part_3_Object_Detection\\YOLOv8\\datasets\\Pizza-Object-Detector-7\\test\\images\\01192_jpg.rf.b8ec655ffa33a1d94050924f0d011060.jpg: 640x512 1 Pizza, 8.0ms\n",
            "image 261/283 C:\\GitHubRepository\\Advanced-Computer-Vision-for-Artificial-Intelligence\\Part_3_Object_Detection\\YOLOv8\\datasets\\Pizza-Object-Detector-7\\test\\images\\01193_jpg.rf.488b81068515ea21bc4e850d539f1370.jpg: 640x640 6 Olivess, 1 Pizza, 7.0ms\n",
            "image 262/283 C:\\GitHubRepository\\Advanced-Computer-Vision-for-Artificial-Intelligence\\Part_3_Object_Detection\\YOLOv8\\datasets\\Pizza-Object-Detector-7\\test\\images\\01197_jpg.rf.f340a948e17ce25eae9630638acf82e6.jpg: 640x512 9 Basils, 1 Peppers, 1 Pizza, 7.0ms\n",
            "image 263/283 C:\\GitHubRepository\\Advanced-Computer-Vision-for-Artificial-Intelligence\\Part_3_Object_Detection\\YOLOv8\\datasets\\Pizza-Object-Detector-7\\test\\images\\01202_jpg.rf.554a1ef536edd8e6cb0e56b2b8901381.jpg: 640x640 1 Basil, 1 Pizza, 6 Tomatoess, 10.0ms\n",
            "image 264/283 C:\\GitHubRepository\\Advanced-Computer-Vision-for-Artificial-Intelligence\\Part_3_Object_Detection\\YOLOv8\\datasets\\Pizza-Object-Detector-7\\test\\images\\01214_jpg.rf.9633f4155980bcccdb9a6dc4a2253def.jpg: 640x640 1 Pizza, 13.0ms\n",
            "image 265/283 C:\\GitHubRepository\\Advanced-Computer-Vision-for-Artificial-Intelligence\\Part_3_Object_Detection\\YOLOv8\\datasets\\Pizza-Object-Detector-7\\test\\images\\01215_jpg.rf.567e817d31cc6f4be3c10586c5fb9749.jpg: 640x640 10 Olivess, 1 Pizza, 10.0ms\n",
            "image 266/283 C:\\GitHubRepository\\Advanced-Computer-Vision-for-Artificial-Intelligence\\Part_3_Object_Detection\\YOLOv8\\datasets\\Pizza-Object-Detector-7\\test\\images\\01226_jpg.rf.1a091c47cad46f76a7e11e2d0cca4e7d.jpg: 576x640 1 Pizza, 7 Tomatoess, 11.0ms\n",
            "image 267/283 C:\\GitHubRepository\\Advanced-Computer-Vision-for-Artificial-Intelligence\\Part_3_Object_Detection\\YOLOv8\\datasets\\Pizza-Object-Detector-7\\test\\images\\01244_jpg.rf.cc6bbe7a8261d96440d3b3348242a5b0.jpg: 640x640 5 Pepperonis, 1 Pizza, 16.0ms\n",
            "image 268/283 C:\\GitHubRepository\\Advanced-Computer-Vision-for-Artificial-Intelligence\\Part_3_Object_Detection\\YOLOv8\\datasets\\Pizza-Object-Detector-7\\test\\images\\01266_jpg.rf.88f1fea46a67091a6fb039e27d132e98.jpg: 640x640 1 Pizza, 15.0ms\n",
            "image 269/283 C:\\GitHubRepository\\Advanced-Computer-Vision-for-Artificial-Intelligence\\Part_3_Object_Detection\\YOLOv8\\datasets\\Pizza-Object-Detector-7\\test\\images\\01270_jpg.rf.6c146e546f5abdba5068a21ae59cc7e4.jpg: 640x640 4 Mushrooms, 1 Olives, 9 Pepperonis, 1 Pizza, 5 Tomatoess, 10.0ms\n",
            "image 270/283 C:\\GitHubRepository\\Advanced-Computer-Vision-for-Artificial-Intelligence\\Part_3_Object_Detection\\YOLOv8\\datasets\\Pizza-Object-Detector-7\\test\\images\\01294_jpg.rf.93ba671eaf0ce0c45316d3198badab0b.jpg: 640x512 2 Mushrooms, 28 Pepperonis, 1 Pizza, 15.0ms\n",
            "image 271/283 C:\\GitHubRepository\\Advanced-Computer-Vision-for-Artificial-Intelligence\\Part_3_Object_Detection\\YOLOv8\\datasets\\Pizza-Object-Detector-7\\test\\images\\01307_jpg.rf.287c6895643edf0b50f5efc000d60c76.jpg: 640x640 1 Basil, 1 Pizza, 16.9ms\n",
            "image 272/283 C:\\GitHubRepository\\Advanced-Computer-Vision-for-Artificial-Intelligence\\Part_3_Object_Detection\\YOLOv8\\datasets\\Pizza-Object-Detector-7\\test\\images\\01308_jpg.rf.7b52b53cc8175f82882570b7812dec1f.jpg: 640x640 1 Pizza, 9.0ms\n",
            "image 273/283 C:\\GitHubRepository\\Advanced-Computer-Vision-for-Artificial-Intelligence\\Part_3_Object_Detection\\YOLOv8\\datasets\\Pizza-Object-Detector-7\\test\\images\\01312_jpg.rf.f385a8d3b1563ca96bee225cc7e11ac7.jpg: 480x640 1 Pizza, 9.0ms\n",
            "image 274/283 C:\\GitHubRepository\\Advanced-Computer-Vision-for-Artificial-Intelligence\\Part_3_Object_Detection\\YOLOv8\\datasets\\Pizza-Object-Detector-7\\test\\images\\01314_jpg.rf.49d54b0599c8bf70e7a71dfb1854f686.jpg: 640x640 2 Basils, 6 Pepperonis, 1 Pizza, 14.0ms\n",
            "image 275/283 C:\\GitHubRepository\\Advanced-Computer-Vision-for-Artificial-Intelligence\\Part_3_Object_Detection\\YOLOv8\\datasets\\Pizza-Object-Detector-7\\test\\images\\01320_jpg.rf.31d91675f0c1aa4ef50b341c964e7fee.jpg: 640x640 1 Basil, 1 Pizza, 14.0ms\n",
            "image 276/283 C:\\GitHubRepository\\Advanced-Computer-Vision-for-Artificial-Intelligence\\Part_3_Object_Detection\\YOLOv8\\datasets\\Pizza-Object-Detector-7\\test\\images\\01322_jpg.rf.cec729d92d17d679a430e60721508622.jpg: 640x640 4 Basils, 1 Pepperoni, 1 Pizza, 11.0ms\n",
            "image 277/283 C:\\GitHubRepository\\Advanced-Computer-Vision-for-Artificial-Intelligence\\Part_3_Object_Detection\\YOLOv8\\datasets\\Pizza-Object-Detector-7\\test\\images\\01331_jpg.rf.3f7c06d2038953ec9c6bb7d833bd71ab.jpg: 640x640 3 Basils, 1 Pepperoni, 1 Pizza, 1 Tomatoes, 12.0ms\n",
            "image 278/283 C:\\GitHubRepository\\Advanced-Computer-Vision-for-Artificial-Intelligence\\Part_3_Object_Detection\\YOLOv8\\datasets\\Pizza-Object-Detector-7\\test\\images\\01356_jpg.rf.b9112bc445a180da011c032ddc2527af.jpg: 640x640 1 Cheese, 1 Pizza, 12.0ms\n",
            "image 279/283 C:\\GitHubRepository\\Advanced-Computer-Vision-for-Artificial-Intelligence\\Part_3_Object_Detection\\YOLOv8\\datasets\\Pizza-Object-Detector-7\\test\\images\\01379_jpg.rf.958849f78a2892d8b2b25574eb335c6d.jpg: 640x640 2 Pizzas, 11.0ms\n",
            "image 280/283 C:\\GitHubRepository\\Advanced-Computer-Vision-for-Artificial-Intelligence\\Part_3_Object_Detection\\YOLOv8\\datasets\\Pizza-Object-Detector-7\\test\\images\\01381_jpg.rf.14e01830b516d95d53ae630d1c525a51.jpg: 640x640 1 Mushroom, 2 Olivess, 17 Pepperss, 1 Pizza, 12.0ms\n",
            "image 281/283 C:\\GitHubRepository\\Advanced-Computer-Vision-for-Artificial-Intelligence\\Part_3_Object_Detection\\YOLOv8\\datasets\\Pizza-Object-Detector-7\\test\\images\\01382_jpg.rf.fa922b43f62d43dbb18e60c0c12e9800.jpg: 640x640 29 Pepperonis, 1 Pizza, 12.0ms\n",
            "image 282/283 C:\\GitHubRepository\\Advanced-Computer-Vision-for-Artificial-Intelligence\\Part_3_Object_Detection\\YOLOv8\\datasets\\Pizza-Object-Detector-7\\test\\images\\01392_jpg.rf.366fe44789249664f1b7c66d784a72d3.jpg: 640x640 1 Mushroom, 2 Pepperonis, 1 Pizza, 12.0ms\n",
            "image 283/283 C:\\GitHubRepository\\Advanced-Computer-Vision-for-Artificial-Intelligence\\Part_3_Object_Detection\\YOLOv8\\datasets\\Pizza-Object-Detector-7\\test\\images\\09170_jpg.rf.29c8e2a1eec1bbc2b32b1f7a496f8b75.jpg: 640x640 35 Pepperonis, 1 Pizza, 17.3ms\n",
            "Speed: 3.2ms preprocess, 16.7ms inference, 2.1ms postprocess per image at shape (1, 3, 640, 640)\n",
            "Results saved to \u001b[1mruns\\detect\\predict\u001b[0m\n",
            "💡 Learn more at https://docs.ultralytics.com/modes/predict\n"
          ]
        }
      ],
      "source": [
        "!yolo task=detect mode=predict model=C:/GitHubRepository/Advanced-Computer-Vision-for-Artificial-Intelligence/Part_3_Object_Detection/YOLOv8/datasets/runs/detect/train/weights/best.pt conf=0.5 source=C:/GitHubRepository/Advanced-Computer-Vision-for-Artificial-Intelligence/Part_3_Object_Detection/YOLOv8/datasets/Pizza-Object-Detector-7/test/images save=True"
      ]
    },
    {
      "cell_type": "markdown",
      "metadata": {
        "id": "uBkrV5y5X9CH"
      },
      "source": [
        "**<h3>Training Results.</h3>**"
      ]
    },
    {
      "cell_type": "code",
      "execution_count": 15,
      "metadata": {
        "colab": {
          "base_uri": "https://localhost:8080/",
          "height": 447
        },
        "id": "mWCxLBpMbKoQ",
        "outputId": "722f7b87-4d71-4e44-85aa-0c6a33f08362"
      },
      "outputs": [
        {
          "data": {
            "image/png": "[encoded data removed]",
            "text/plain": [
              "<Figure size 1200x800 with 1 Axes>"
            ]
          },
          "metadata": {},
          "output_type": "display_data"
        }
      ],
      "source": [
        "# Replace 'path/to/your/data.csv' with the actual path to your CSV file\n",
        "file_path = 'C:\\GitHubRepository\\Advanced-Computer-Vision-for-Artificial-Intelligence\\Part_3_Object_Detection\\YOLOv8\\datasets\\\\runs\\detect\\\\train\\\\results.csv'\n",
        "column_name = 'epoch'\n",
        "\n",
        "# Read the CSV file into a pandas DataFrame\n",
        "data = pd.read_csv(file_path)\n",
        "\n",
        "# Remove leading spaces from column names\n",
        "data.columns = data.columns.str.strip()\n",
        "\n",
        "# Plotting\n",
        "plt.figure(figsize=(12, 8))\n",
        "\n",
        "# Plotting the training losses\n",
        "plt.subplot(2, 2, 1)\n",
        "plt.plot(data['epoch'], data['train/box_loss'], label='Box Loss')\n",
        "plt.plot(data['epoch'], data['train/cls_loss'], label='Class Loss')\n",
        "plt.title('Training Losses')\n",
        "plt.xlabel('Epoch')\n",
        "plt.ylabel('Loss')\n",
        "plt.legend()\n",
        "\n",
        "# Show the plots\n",
        "plt.tight_layout()\n",
        "plt.show()"
      ]
    },
    {
      "cell_type": "markdown",
      "metadata": {
        "id": "eA9tRvyOf-cP"
      },
      "source": [
        "**<h3>Validation Results.</h3>**"
      ]
    },
    {
      "cell_type": "code",
      "execution_count": 16,
      "metadata": {
        "colab": {
          "base_uri": "https://localhost:8080/",
          "height": 447
        },
        "id": "jw8qLLSef-lX",
        "outputId": "c4e37ba4-ec04-45b1-f055-9adac023570e"
      },
      "outputs": [
        {
          "data": {
            "image/png": "[encoded data removed]",
            "text/plain": [
              "<Figure size 1200x800 with 1 Axes>"
            ]
          },
          "metadata": {},
          "output_type": "display_data"
        }
      ],
      "source": [
        "# Plotting\n",
        "plt.figure(figsize=(12, 8))\n",
        "\n",
        "# Plotting the training losses\n",
        "plt.subplot(2, 2, 1)\n",
        "plt.plot(data['epoch'], data['val/box_loss'], label='Box Loss')\n",
        "plt.plot(data['epoch'], data['val/cls_loss'], label='Class Loss')\n",
        "plt.title('Validation Losses')\n",
        "plt.xlabel('Epoch')\n",
        "plt.ylabel('Loss')\n",
        "plt.legend()\n",
        "\n",
        "# Show the plots\n",
        "plt.tight_layout()\n",
        "plt.show()"
      ]
    },
    {
      "cell_type": "markdown",
      "metadata": {
        "id": "t6EZwLBNfjKP"
      },
      "source": [
        "**<h3>Testing Resultant Images.</h3>**"
      ]
    },
    {
      "cell_type": "code",
      "execution_count": 1,
      "metadata": {
        "colab": {
          "background_save": true
        },
        "id": "mzkcnDekgUWf"
      },
      "outputs": [],
      "source": [
        "for image_path in glob.glob(f'{HOME}/datasets/runs/detect/predict/*.jpg'):\n",
        "      display(Image(filename=image_path, width=600))\n",
        "      print(\"\\n\")"
      ]
    }
  ],
  "metadata": {
    "accelerator": "GPU",
    "colab": {
      "provenance": []
    },
    "kernelspec": {
      "display_name": "Python 3",
      "name": "python3"
    },
    "language_info": {
      "codemirror_mode": {
        "name": "ipython",
        "version": 3
      },
      "file_extension": ".py",
      "mimetype": "text/x-python",
      "name": "python",
      "nbconvert_exporter": "python",
      "pygments_lexer": "ipython3",
      "version": "3.9.18"
    }
  },
  "nbformat": 4,
  "nbformat_minor": 0
}
